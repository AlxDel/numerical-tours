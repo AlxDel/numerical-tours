{
 "cells": [
  {
   "cell_type": "markdown",
   "metadata": {
    "deletable": true,
    "editable": true
   },
   "source": [
    "Performance of Sparse Recovery Using L1 Minimization\n",
    "====================================================\n",
    "\n",
    "*Important:* Please read the [installation page](http://gpeyre.github.io/numerical-tours/installation_python/) for details about how to install the toolboxes.\n",
    "$\\newcommand{\\dotp}[2]{\\langle #1, #2 \\rangle}$\n",
    "$\\newcommand{\\enscond}[2]{\\lbrace #1, #2 \\rbrace}$\n",
    "$\\newcommand{\\pd}[2]{ \\frac{ \\partial #1}{\\partial #2} }$\n",
    "$\\newcommand{\\umin}[1]{\\underset{#1}{\\min}\\;}$\n",
    "$\\newcommand{\\umax}[1]{\\underset{#1}{\\max}\\;}$\n",
    "$\\newcommand{\\umin}[1]{\\underset{#1}{\\min}\\;}$\n",
    "$\\newcommand{\\uargmin}[1]{\\underset{#1}{argmin}\\;}$\n",
    "$\\newcommand{\\norm}[1]{\\|#1\\|}$\n",
    "$\\newcommand{\\abs}[1]{\\left|#1\\right|}$\n",
    "$\\newcommand{\\choice}[1]{ \\left\\{  \\begin{array}{l} #1 \\end{array} \\right. }$\n",
    "$\\newcommand{\\pa}[1]{\\left(#1\\right)}$\n",
    "$\\newcommand{\\diag}[1]{{diag}\\left( #1 \\right)}$\n",
    "$\\newcommand{\\qandq}{\\quad\\text{and}\\quad}$\n",
    "$\\newcommand{\\qwhereq}{\\quad\\text{where}\\quad}$\n",
    "$\\newcommand{\\qifq}{ \\quad \\text{if} \\quad }$\n",
    "$\\newcommand{\\qarrq}{ \\quad \\Longrightarrow \\quad }$\n",
    "$\\newcommand{\\ZZ}{\\mathbb{Z}}$\n",
    "$\\newcommand{\\CC}{\\mathbb{C}}$\n",
    "$\\newcommand{\\RR}{\\mathbb{R}}$\n",
    "$\\newcommand{\\EE}{\\mathbb{E}}$\n",
    "$\\newcommand{\\Zz}{\\mathcal{Z}}$\n",
    "$\\newcommand{\\Ww}{\\mathcal{W}}$\n",
    "$\\newcommand{\\Vv}{\\mathcal{V}}$\n",
    "$\\newcommand{\\Nn}{\\mathcal{N}}$\n",
    "$\\newcommand{\\NN}{\\mathcal{N}}$\n",
    "$\\newcommand{\\Hh}{\\mathcal{H}}$\n",
    "$\\newcommand{\\Bb}{\\mathcal{B}}$\n",
    "$\\newcommand{\\Ee}{\\mathcal{E}}$\n",
    "$\\newcommand{\\Cc}{\\mathcal{C}}$\n",
    "$\\newcommand{\\Gg}{\\mathcal{G}}$\n",
    "$\\newcommand{\\Ss}{\\mathcal{S}}$\n",
    "$\\newcommand{\\Pp}{\\mathcal{P}}$\n",
    "$\\newcommand{\\Ff}{\\mathcal{F}}$\n",
    "$\\newcommand{\\Xx}{\\mathcal{X}}$\n",
    "$\\newcommand{\\Mm}{\\mathcal{M}}$\n",
    "$\\newcommand{\\Ii}{\\mathcal{I}}$\n",
    "$\\newcommand{\\Dd}{\\mathcal{D}}$\n",
    "$\\newcommand{\\Ll}{\\mathcal{L}}$\n",
    "$\\newcommand{\\Tt}{\\mathcal{T}}$\n",
    "$\\newcommand{\\si}{\\sigma}$\n",
    "$\\newcommand{\\al}{\\alpha}$\n",
    "$\\newcommand{\\la}{\\lambda}$\n",
    "$\\newcommand{\\ga}{\\gamma}$\n",
    "$\\newcommand{\\Ga}{\\Gamma}$\n",
    "$\\newcommand{\\La}{\\Lambda}$\n",
    "$\\newcommand{\\si}{\\sigma}$\n",
    "$\\newcommand{\\Si}{\\Sigma}$\n",
    "$\\newcommand{\\be}{\\beta}$\n",
    "$\\newcommand{\\de}{\\delta}$\n",
    "$\\newcommand{\\De}{\\Delta}$\n",
    "$\\newcommand{\\phi}{\\varphi}$\n",
    "$\\newcommand{\\th}{\\theta}$\n",
    "$\\newcommand{\\om}{\\omega}$\n",
    "$\\newcommand{\\Om}{\\Omega}$"
   ]
  },
  {
   "cell_type": "markdown",
   "metadata": {
    "deletable": true,
    "editable": true
   },
   "source": [
    "This tour explores theoritical garantees for the performance of recovery\n",
    "using $\\ell^1$ minimization."
   ]
  },
  {
   "cell_type": "code",
   "execution_count": 1,
   "metadata": {
    "collapsed": false,
    "deletable": true,
    "editable": true
   },
   "outputs": [],
   "source": [
    "from __future__ import division\n",
    "\n",
    "import numpy as np\n",
    "import scipy as scp\n",
    "import pylab as pyl\n",
    "import matplotlib.pyplot as plt\n",
    "\n",
    "from nt_toolbox.general import *\n",
    "from nt_toolbox.signal import *\n",
    "\n",
    "import warnings\n",
    "warnings.filterwarnings('ignore')\n",
    "\n",
    "%matplotlib inline\n",
    "#%load_ext autoreload\n",
    "#%autoreload 2"
   ]
  },
  {
   "cell_type": "markdown",
   "metadata": {
    "deletable": true,
    "editable": true
   },
   "source": [
    "Sparse $\\ell^1$ Recovery\n",
    "--------------------------\n",
    "We consider the inverse problem of estimating an unknown signal $x_0 \\in\n",
    "\\RR^N$ from noisy measurements $y=\\Phi x_0 + w \\in \\RR^P$ where $\\Phi \\in \\RR^{P \\times N}$\n",
    "is a measurement matrix with $P \\leq N$, and $w$ is some noise.\n",
    "\n",
    "\n",
    "This tour is focused on recovery using $\\ell^1$ minimization\n",
    "$$ x^\\star \\in \\uargmin{x \\in \\RR^N} \\frac{1}{2}\\norm{y-\\Phi x}^2 + \\la \\norm{x}_1. $$\n",
    "\n",
    "\n",
    "Where there is no noise, we consider the problem $ \\Pp(y) $\n",
    "$$ x^\\star \\in \\uargmin{\\Phi x = y} \\norm{x}_1. $$\n",
    "\n",
    "\n",
    "We are not concerned here about the actual way to solve this convex\n",
    "problem (see the other numerical tours on sparse regularization) but\n",
    "rather on the theoritical analysis of wether $x^\\star$ is close to\n",
    "$x_0$.\n",
    "\n",
    "\n",
    "More precisely, we consider the following three key properties\n",
    "\n",
    "\n",
    "* *Noiseless identifiability*: $x_0$ is the unique solution of $\n",
    "\\Pp(y) $ for $y=\\Phi x_0$.\n",
    "* *Robustess to small noise*: one has $\\norm{x^\\star - x_0} =\n",
    "O(\\norm{w})$ for $y=\\Phi x_0+w$ if $\\norm{w}$ is smaller than\n",
    "an arbitrary small constant that depends on $x_0$ if $\\la$ is well chosen according to $\\norm{w}$.\n",
    "* *Robustess to bounded noise:* same as above, but $\\norm{w}$ can be\n",
    "arbitrary.\n",
    "\n",
    "\n",
    "\n",
    "\n",
    "Note that noise robustness implies identifiability, but the converse\n",
    "is not true in general.\n",
    "\n",
    "\n",
    "Coherence Criteria\n",
    "------------------\n",
    "The simplest criteria for identifiality are based on the coherence of the\n",
    "matrix $\\Phi$ and depends only on the sparsity $\\norm{x_0}_0$ of the\n",
    "original signal. This criteria is thus not very precise and gives very pessimistic\n",
    "bounds.\n",
    "\n",
    "\n",
    "The coherence of the matrix $\\Phi = ( \\phi_i )_{i=1}^N \\in \\RR^{P \\times\n",
    "N}$ with unit norm colum $\\norm{\\phi_i}=1$ is\n",
    "$$ \\mu(\\Phi) = \\umax{i \\neq j} \\abs{\\dotp{\\phi_i}{\\phi_j}}. $$\n",
    "\n",
    "\n",
    "\n",
    "Compute the correlation matrix (remove the diagonal of 1's)."
   ]
  },
  {
   "cell_type": "code",
   "execution_count": 2,
   "metadata": {
    "collapsed": false,
    "deletable": true,
    "editable": true
   },
   "outputs": [],
   "source": [
    "remove_diag = lambda C: C-np.diag(np.diag(C))\n",
    "Correlation = lambda Phi: remove_diag(abs(np.dot(np.transpose(Phi),Phi)))"
   ]
  },
  {
   "cell_type": "markdown",
   "metadata": {
    "deletable": true,
    "editable": true
   },
   "source": [
    "Compute the coherence $\\mu(\\Phi)$."
   ]
  },
  {
   "cell_type": "code",
   "execution_count": 3,
   "metadata": {
    "collapsed": false,
    "deletable": true,
    "editable": true
   },
   "outputs": [],
   "source": [
    "mu = lambda Phi: np.max(Correlation(Phi))"
   ]
  },
  {
   "cell_type": "markdown",
   "metadata": {
    "deletable": true,
    "editable": true
   },
   "source": [
    "The condition\n",
    "$$ \\norm{x_0}_0 < \\frac{1}{2}\\pa{1 + \\frac{1}{\\mu(\\Phi)}} $$\n",
    "implies that $x_0$ is identifiable, and also implies to robustess to small and bounded noise.\n",
    "\n",
    "\n",
    "Equivalently, this condition can be written as $\\text{Coh}(\\norm{x_0}_0)<1$\n",
    "where\n",
    "$$ \\text{Coh}(k) = \\frac{k \\mu(\\Phi)}{ 1 - (k-1)\\mu(\\Phi) } $$"
   ]
  },
  {
   "cell_type": "code",
   "execution_count": 4,
   "metadata": {
    "collapsed": false,
    "deletable": true,
    "editable": true
   },
   "outputs": [],
   "source": [
    "Coh = lambda Phi, k: (k*mu(Phi))/(1 - (k-1)*mu(Phi))"
   ]
  },
  {
   "cell_type": "markdown",
   "metadata": {
    "deletable": true,
    "editable": true
   },
   "source": [
    "Generate a matrix with random unit columns in $\\RR^P$."
   ]
  },
  {
   "cell_type": "code",
   "execution_count": 5,
   "metadata": {
    "collapsed": false,
    "deletable": true,
    "editable": true
   },
   "outputs": [],
   "source": [
    "from numpy import random\n",
    "\n",
    "normalize = lambda Phi:  Phi/np.tile(np.sqrt(np.sum(Phi**2,0)), (np.shape(Phi)[0],1))\n",
    "PhiRand = lambda P, N: normalize(random.randn(P, N))\n",
    "Phi = PhiRand(250, 1000)"
   ]
  },
  {
   "cell_type": "markdown",
   "metadata": {
    "deletable": true,
    "editable": true
   },
   "source": [
    "Compute the coherence and the maximum possible sparsity to ensure\n",
    "recovery using the coherence bound."
   ]
  },
  {
   "cell_type": "code",
   "execution_count": 6,
   "metadata": {
    "collapsed": false,
    "deletable": true,
    "editable": true
   },
   "outputs": [
    {
     "name": "stdout",
     "output_type": "stream",
     "text": [
      "Coherence:    0.30\n",
      "Sparsity max: 2\n"
     ]
    }
   ],
   "source": [
    "c = mu(Phi)\n",
    "print(\"Coherence:    %.2f\" %c)\n",
    "print(\"Sparsity max: %d\" %np.floor(1/2*(1 + 1/c)))"
   ]
  },
  {
   "cell_type": "markdown",
   "metadata": {
    "deletable": true,
    "editable": true
   },
   "source": [
    "__Exercise 1__\n",
    "\n",
    "Display how the average coherence of a random matrix\n",
    "decays with the redundancy $\\eta = P/N$ of\n",
    "the matrix $\\Phi$. Can you derive an empirical law between\n",
    "$P$ and the maximal sparsity?"
   ]
  },
  {
   "cell_type": "code",
   "execution_count": 7,
   "metadata": {
    "collapsed": false,
    "deletable": true,
    "editable": true
   },
   "outputs": [
    {
     "ename": "TypeError",
     "evalue": "'numpy.float64' object cannot be interpreted as an index",
     "output_type": "error",
     "traceback": [
      "\u001b[0;31m---------------------------------------------------------------------------\u001b[0m",
      "\u001b[0;31mTypeError\u001b[0m                                 Traceback (most recent call last)",
      "\u001b[0;32m/Users/Abdellah/Desktop/etudes_ecp/Projet_divers/JE_Numerical_tours/numerical-tours-2/python/nt_solutions/sparsity_6_l1_recovery/exo1.py\u001b[0m in \u001b[0;36m<module>\u001b[0;34m()\u001b[0m\n\u001b[1;32m     10\u001b[0m \u001b[0;34m\u001b[0m\u001b[0m\n\u001b[1;32m     11\u001b[0m     \u001b[0;32mfor\u001b[0m \u001b[0mk\u001b[0m \u001b[0;32min\u001b[0m \u001b[0mrange\u001b[0m\u001b[0;34m(\u001b[0m\u001b[0mntrials\u001b[0m\u001b[0;34m)\u001b[0m\u001b[0;34m:\u001b[0m\u001b[0;34m\u001b[0m\u001b[0m\n\u001b[0;32m---> 12\u001b[0;31m         \u001b[0mc\u001b[0m \u001b[0;34m=\u001b[0m \u001b[0mc\u001b[0m \u001b[0;34m+\u001b[0m \u001b[0;34m[\u001b[0m\u001b[0mmu\u001b[0m\u001b[0;34m(\u001b[0m\u001b[0mPhiRand\u001b[0m\u001b[0;34m(\u001b[0m\u001b[0mP\u001b[0m\u001b[0;34m,\u001b[0m \u001b[0mN\u001b[0m\u001b[0;34m)\u001b[0m\u001b[0;34m)\u001b[0m\u001b[0;34m]\u001b[0m\u001b[0;34m\u001b[0m\u001b[0m\n\u001b[0m\u001b[1;32m     13\u001b[0m \u001b[0;34m\u001b[0m\u001b[0m\n\u001b[1;32m     14\u001b[0m     \u001b[0mmu_mean\u001b[0m \u001b[0;34m=\u001b[0m \u001b[0mmu_mean\u001b[0m \u001b[0;34m+\u001b[0m \u001b[0;34m[\u001b[0m\u001b[0mnp\u001b[0m\u001b[0;34m.\u001b[0m\u001b[0mmean\u001b[0m\u001b[0;34m(\u001b[0m\u001b[0mc\u001b[0m\u001b[0;34m)\u001b[0m\u001b[0;34m]\u001b[0m\u001b[0;34m\u001b[0m\u001b[0m\n",
      "\u001b[0;32m<ipython-input-5-1d9c02e84341>\u001b[0m in \u001b[0;36m<lambda>\u001b[0;34m(P, N)\u001b[0m\n\u001b[1;32m      2\u001b[0m \u001b[0;34m\u001b[0m\u001b[0m\n\u001b[1;32m      3\u001b[0m \u001b[0mnormalize\u001b[0m \u001b[0;34m=\u001b[0m \u001b[0;32mlambda\u001b[0m \u001b[0mPhi\u001b[0m\u001b[0;34m:\u001b[0m  \u001b[0mPhi\u001b[0m\u001b[0;34m/\u001b[0m\u001b[0mnp\u001b[0m\u001b[0;34m.\u001b[0m\u001b[0mtile\u001b[0m\u001b[0;34m(\u001b[0m\u001b[0mnp\u001b[0m\u001b[0;34m.\u001b[0m\u001b[0msqrt\u001b[0m\u001b[0;34m(\u001b[0m\u001b[0mnp\u001b[0m\u001b[0;34m.\u001b[0m\u001b[0msum\u001b[0m\u001b[0;34m(\u001b[0m\u001b[0mPhi\u001b[0m\u001b[0;34m**\u001b[0m\u001b[0;36m2\u001b[0m\u001b[0;34m,\u001b[0m\u001b[0;36m0\u001b[0m\u001b[0;34m)\u001b[0m\u001b[0;34m)\u001b[0m\u001b[0;34m,\u001b[0m \u001b[0;34m(\u001b[0m\u001b[0mnp\u001b[0m\u001b[0;34m.\u001b[0m\u001b[0mshape\u001b[0m\u001b[0;34m(\u001b[0m\u001b[0mPhi\u001b[0m\u001b[0;34m)\u001b[0m\u001b[0;34m[\u001b[0m\u001b[0;36m0\u001b[0m\u001b[0;34m]\u001b[0m\u001b[0;34m,\u001b[0m\u001b[0;36m1\u001b[0m\u001b[0;34m)\u001b[0m\u001b[0;34m)\u001b[0m\u001b[0;34m\u001b[0m\u001b[0m\n\u001b[0;32m----> 4\u001b[0;31m \u001b[0mPhiRand\u001b[0m \u001b[0;34m=\u001b[0m \u001b[0;32mlambda\u001b[0m \u001b[0mP\u001b[0m\u001b[0;34m,\u001b[0m \u001b[0mN\u001b[0m\u001b[0;34m:\u001b[0m \u001b[0mnormalize\u001b[0m\u001b[0;34m(\u001b[0m\u001b[0mrandom\u001b[0m\u001b[0;34m.\u001b[0m\u001b[0mrandn\u001b[0m\u001b[0;34m(\u001b[0m\u001b[0mP\u001b[0m\u001b[0;34m,\u001b[0m \u001b[0mN\u001b[0m\u001b[0;34m)\u001b[0m\u001b[0;34m)\u001b[0m\u001b[0;34m\u001b[0m\u001b[0m\n\u001b[0m\u001b[1;32m      5\u001b[0m \u001b[0mPhi\u001b[0m \u001b[0;34m=\u001b[0m \u001b[0mPhiRand\u001b[0m\u001b[0;34m(\u001b[0m\u001b[0;36m250\u001b[0m\u001b[0;34m,\u001b[0m \u001b[0;36m1000\u001b[0m\u001b[0;34m)\u001b[0m\u001b[0;34m\u001b[0m\u001b[0m\n",
      "\u001b[0;32mmtrand.pyx\u001b[0m in \u001b[0;36mmtrand.RandomState.randn (numpy/random/mtrand/mtrand.c:19843)\u001b[0;34m()\u001b[0m\n",
      "\u001b[0;32mmtrand.pyx\u001b[0m in \u001b[0;36mmtrand.RandomState.standard_normal (numpy/random/mtrand/mtrand.c:20368)\u001b[0;34m()\u001b[0m\n",
      "\u001b[0;32mmtrand.pyx\u001b[0m in \u001b[0;36mmtrand.cont0_array (numpy/random/mtrand/mtrand.c:6127)\u001b[0;34m()\u001b[0m\n",
      "\u001b[0;31mTypeError\u001b[0m: 'numpy.float64' object cannot be interpreted as an index"
     ]
    }
   ],
   "source": [
    "run -i nt_solutions/sparsity_6_l1_recovery/exo1"
   ]
  },
  {
   "cell_type": "code",
   "execution_count": 8,
   "metadata": {
    "collapsed": false,
    "deletable": true,
    "editable": true
   },
   "outputs": [],
   "source": [
    "## Insert your code here."
   ]
  },
  {
   "cell_type": "markdown",
   "metadata": {
    "deletable": true,
    "editable": true
   },
   "source": [
    "Support and Sign-based Criteria\n",
    "-------------------------------\n",
    "In the following we will consider the support\n",
    "$$ \\text{supp}(x_0) = \\enscond{i}{x_0(i) \\neq 0} $$\n",
    "of the vector $x_0$. The co-support is its complementary $I^c$."
   ]
  },
  {
   "cell_type": "code",
   "execution_count": 9,
   "metadata": {
    "collapsed": false,
    "deletable": true,
    "editable": true
   },
   "outputs": [],
   "source": [
    "supp   = lambda s: np.where(abs(s) > 1e-5)[0]\n",
    "cosupp = lambda s: np.where(abs(s) < 1e-5)[0]"
   ]
  },
  {
   "cell_type": "markdown",
   "metadata": {
    "deletable": true,
    "editable": true
   },
   "source": [
    "Given some support $ I \\subset \\{0,\\ldots,N-1\\} $, we will denote as\n",
    "$ \\Phi = (\\phi_m)_{m \\in I} \\in \\RR^{N \\times \\abs{I}}$ the\n",
    "sub-matrix extracted from $\\Phi$ using the columns indexed by $I$.\n",
    "\n",
    "\n",
    "J.J. Fuchs introduces a criteria $F$ for identifiability that depends on the\n",
    "sign of $x_0$.\n",
    "\n",
    "\n",
    "J.J. Fuchs. _Recovery of exact sparse representations in the presence of\n",
    "bounded noise._ IEEE Trans. Inform. Theory, 51(10), p. 3601-3608, 2005\n",
    "\n",
    "\n",
    "Under the condition that $\\Phi_I$ has full rank, the $F$ measure\n",
    "of a sign vector $s \\in \\{+1,0,-1\\}^N$ with $\\text{supp}(s)=I$ reads\n",
    "$$ \\text{F}(s) = \\norm{ \\Psi_I s_I }_\\infty\n",
    "      \\qwhereq \\Psi_I = \\Phi_{I^c}^* \\Phi_I^{+,*} $$\n",
    "where $ A^+ = (A^* A)^{-1} A^* $ is the pseudo inverse of a\n",
    "matrix $A$.\n",
    "\n",
    "\n",
    "The condition\n",
    "$$ \\text{F}(\\text{sign}(x_0))<1 $$\n",
    "implies that $x_0$ is identifiable, and also implies to robustess to\n",
    "small noise. It does not however imply robustess to a bounded noise.\n",
    "\n",
    "\n",
    "Compute $\\Psi_I$ matrix."
   ]
  },
  {
   "cell_type": "code",
   "execution_count": 10,
   "metadata": {
    "collapsed": false,
    "deletable": true,
    "editable": true
   },
   "outputs": [],
   "source": [
    "from numpy import linalg\n",
    "\n",
    "PsiI = lambda Phi,I: np.dot(np.transpose(Phi[:,np.setdiff1d(np.arange(0,np.shape(Phi)[1]), I)]),np.transpose(linalg.pinv(Phi[:,I])))"
   ]
  },
  {
   "cell_type": "markdown",
   "metadata": {
    "deletable": true,
    "editable": true
   },
   "source": [
    "Compute $\\text{F}(s)$."
   ]
  },
  {
   "cell_type": "code",
   "execution_count": 11,
   "metadata": {
    "collapsed": false,
    "deletable": true,
    "editable": true
   },
   "outputs": [],
   "source": [
    "F = lambda Phi,s: linalg.norm(np.dot(PsiI(Phi, supp(s)),s[supp(s)]), np.float(\"inf\"))"
   ]
  },
  {
   "cell_type": "markdown",
   "metadata": {
    "deletable": true,
    "editable": true
   },
   "source": [
    "The Exact Recovery Criterion (ERC) of a support $I$,\n",
    "introduced by Tropp in\n",
    "\n",
    "\n",
    "J. A. Tropp. _Just relax: Convex programming methods for identifying\n",
    "sparse signals._ IEEE Trans. Inform. Theory, vol. 52, num. 3, pp. 1030-1051, Mar. 2006.\n",
    "\n",
    "\n",
    "Under the condition that $\\Phi_I$ has full rank, this condition reads\n",
    "$$ \\text{ERC}(I) = \\norm{\\Psi_{I}}_{\\infty,\\infty}\n",
    "      =  \\umax{j \\in I^c} \\norm{ \\Phi_I^+ \\phi_j }_1. $$\n",
    "where $\\norm{A}_{\\infty,\\infty}$ is the $\\ell^\\infty-\\ell^\\infty$\n",
    "operator norm of a matrix $A$."
   ]
  },
  {
   "cell_type": "code",
   "execution_count": 12,
   "metadata": {
    "collapsed": false,
    "deletable": true,
    "editable": true
   },
   "outputs": [],
   "source": [
    "erc = lambda Phi, I: linalg.norm(PsiI(Phi, I), np.float(\"inf\"))"
   ]
  },
  {
   "cell_type": "markdown",
   "metadata": {
    "deletable": true,
    "editable": true
   },
   "source": [
    "The condition\n",
    "$$ \\text{ERC}(\\text{supp}(x_0))<1 $$\n",
    "implies that $x_0$ is identifiable, and also implies to robustess to\n",
    "small and bounded noise.\n",
    "\n",
    "\n",
    "One can prove that the ERC is the maximum of the F criterion for all signs of the given\n",
    "support\n",
    "$$ \\text{ERC}(I) = \\umax{ s, \\text{supp}(s) \\subset I } \\text{F}(s). $$\n",
    "\n",
    "\n",
    "The weak-ERC is an approximation of the ERC using only the correlation\n",
    "matrix\n",
    "$$ \\text{w-ERC}(I) = \\frac{\n",
    "      \\umax{j \\in I^c} \\sum_{i \\in I} \\abs{\\dotp{\\phi_i}{\\phi_j}}\n",
    " }{\n",
    "      1-\\umax{j \\in I} \\sum_{i \\neq j \\in I} \\abs{\\dotp{\\phi_i}{\\phi_j}}\n",
    " }$$"
   ]
  },
  {
   "cell_type": "code",
   "execution_count": 13,
   "metadata": {
    "collapsed": false,
    "deletable": true,
    "editable": true
   },
   "outputs": [],
   "source": [
    "g = lambda C,I: np.sum(C[:,I], 1)\n",
    "werc_g = lambda g,I,J: np.max(g[J])/(1-np.max(g[I]))\n",
    "werc = lambda Phi,I: werc_g(g(Correlation(Phi), I), I, np.setdiff1d(np.arange(0,np.shape(Phi)[1]), I))"
   ]
  },
  {
   "cell_type": "markdown",
   "metadata": {
    "deletable": true,
    "editable": true
   },
   "source": [
    "One has, if $\\text{w-ERC}(I)>0$,  for $ I = \\text{supp}(s) $,\n",
    "$$ \\text{F}(s) \\leq \\text{ERC}(I) \\leq \\text{w-ERC}(I) \\leq\n",
    "      \\text{Coh}(\\abs{I}). $$\n",
    "\n",
    "\n",
    "This shows in particular that the condition\n",
    "$$ \\text{w-ERC}(\\text{supp}(x_0))<1 $$\n",
    "implies identifiability and robustess to small and bounded noise."
   ]
  },
  {
   "cell_type": "markdown",
   "metadata": {
    "deletable": true,
    "editable": true
   },
   "source": [
    "__Exercise 2__\n",
    "\n",
    "Show that this inequality holds on a given matrix.\n",
    "What can you conclude about the sharpness of these criteria ?"
   ]
  },
  {
   "cell_type": "code",
   "execution_count": 14,
   "metadata": {
    "collapsed": false,
    "deletable": true,
    "editable": true
   },
   "outputs": [
    {
     "name": "stdout",
     "output_type": "stream",
     "text": [
      "N = 2000, P = 1990, |I| = 6\n",
      "F(s)     = 0.24\n",
      "ERC(I)   = 0.24\n",
      "w-ERC(s) = 0.28\n",
      "Coh(|s|) = 1.58\n"
     ]
    }
   ],
   "source": [
    "run -i nt_solutions/sparsity_6_l1_recovery/exo2"
   ]
  },
  {
   "cell_type": "code",
   "execution_count": 15,
   "metadata": {
    "collapsed": false,
    "deletable": true,
    "editable": true
   },
   "outputs": [
    {
     "name": "stdout",
     "output_type": "stream",
     "text": [
      "N = 2000, P = 1990, |I| = 6\n",
      "F(s)     = 0.20\n",
      "ERC(I)   = 0.22\n",
      "w-ERC(s) = 0.25\n",
      "Coh(|s|) = 1.54\n"
     ]
    }
   ],
   "source": [
    "## Insert your code here.\n",
    "\n",
    "N = 2000\n",
    "P = N-10\n",
    "Phi = PhiRand(N, P)\n",
    "s = np.zeros(N)\n",
    "s[:6] = 1\n",
    "I = supp(s)\n",
    "k = len(I)\n",
    "\n",
    "print(\"N = %d, P = %d, |I| = %d\" %(N,P,k))\n",
    "print(\"F(s)     = %.2f\"  %F(Phi, s))\n",
    "print(\"ERC(I)   = %.2f\"  %erc(Phi, I))\n",
    "print(\"w-ERC(s) = %.2f\" %werc(Phi, I))\n",
    "print(\"Coh(|s|) = %.2f\" %Coh(Phi, k))"
   ]
  },
  {
   "cell_type": "markdown",
   "metadata": {
    "deletable": true,
    "editable": true
   },
   "source": [
    "__Exercise 3__\n",
    "\n",
    "For a given matrix $\\Phi$ generated using PhiRand, draw as a function of the sparsity $k$\n",
    "the probability that a random sign vector $s$ of sparsity\n",
    "$\\norm{s}_0=k$ satisfies the conditions $\\text{F}(x_0)<1$,\n",
    "$\\text{ERC}(x_0)<1$ and $\\text{w-ERC}(x_0)<1$"
   ]
  },
  {
   "cell_type": "code",
   "execution_count": 16,
   "metadata": {
    "collapsed": false,
    "deletable": true,
    "editable": true
   },
   "outputs": [
    {
     "ename": "TypeError",
     "evalue": "slice indices must be integers or None or have an __index__ method",
     "output_type": "error",
     "traceback": [
      "\u001b[0;31m---------------------------------------------------------------------------\u001b[0m",
      "\u001b[0;31mTypeError\u001b[0m                                 Traceback (most recent call last)",
      "\u001b[0;32m/Users/Abdellah/Desktop/etudes_ecp/Projet_divers/JE_Numerical_tours/numerical-tours-2/python/nt_solutions/sparsity_6_l1_recovery/exo3.py\u001b[0m in \u001b[0;36m<module>\u001b[0;34m()\u001b[0m\n\u001b[1;32m     12\u001b[0m         \u001b[0ms\u001b[0m \u001b[0;34m=\u001b[0m \u001b[0mnp\u001b[0m\u001b[0;34m.\u001b[0m\u001b[0mzeros\u001b[0m\u001b[0;34m(\u001b[0m\u001b[0mN\u001b[0m\u001b[0;34m)\u001b[0m\u001b[0;34m\u001b[0m\u001b[0m\n\u001b[1;32m     13\u001b[0m         \u001b[0mI\u001b[0m \u001b[0;34m=\u001b[0m \u001b[0mrandom\u001b[0m\u001b[0;34m.\u001b[0m\u001b[0mpermutation\u001b[0m\u001b[0;34m(\u001b[0m\u001b[0mN\u001b[0m\u001b[0;34m)\u001b[0m\u001b[0;34m\u001b[0m\u001b[0m\n\u001b[0;32m---> 14\u001b[0;31m         \u001b[0mI\u001b[0m \u001b[0;34m=\u001b[0m \u001b[0mI\u001b[0m\u001b[0;34m[\u001b[0m\u001b[0;34m:\u001b[0m\u001b[0mk\u001b[0m\u001b[0;34m]\u001b[0m\u001b[0;34m\u001b[0m\u001b[0m\n\u001b[0m\u001b[1;32m     15\u001b[0m         \u001b[0ms\u001b[0m\u001b[0;34m[\u001b[0m\u001b[0mI\u001b[0m\u001b[0;34m]\u001b[0m \u001b[0;34m=\u001b[0m \u001b[0mnp\u001b[0m\u001b[0;34m.\u001b[0m\u001b[0msign\u001b[0m\u001b[0;34m(\u001b[0m\u001b[0mrandom\u001b[0m\u001b[0;34m.\u001b[0m\u001b[0mrandn\u001b[0m\u001b[0;34m(\u001b[0m\u001b[0mk\u001b[0m\u001b[0;34m,\u001b[0m \u001b[0;36m1\u001b[0m\u001b[0;34m)\u001b[0m\u001b[0;34m)\u001b[0m\u001b[0;34m\u001b[0m\u001b[0m\n\u001b[1;32m     16\u001b[0m         \u001b[0mproba\u001b[0m\u001b[0;34m[\u001b[0m\u001b[0mi\u001b[0m\u001b[0;34m,\u001b[0m \u001b[0;36m0\u001b[0m\u001b[0;34m]\u001b[0m \u001b[0;34m=\u001b[0m \u001b[0mproba\u001b[0m\u001b[0;34m[\u001b[0m\u001b[0mi\u001b[0m\u001b[0;34m,\u001b[0m \u001b[0;36m0\u001b[0m\u001b[0;34m]\u001b[0m \u001b[0;34m+\u001b[0m \u001b[0;34m(\u001b[0m\u001b[0mF\u001b[0m\u001b[0;34m(\u001b[0m\u001b[0mPhi\u001b[0m\u001b[0;34m,\u001b[0m \u001b[0ms\u001b[0m\u001b[0;34m)\u001b[0m \u001b[0;34m<\u001b[0m \u001b[0;36m1\u001b[0m\u001b[0;34m)\u001b[0m\u001b[0;34m\u001b[0m\u001b[0m\n",
      "\u001b[0;31mTypeError\u001b[0m: slice indices must be integers or None or have an __index__ method"
     ]
    }
   ],
   "source": [
    "run -i nt_solutions/sparsity_6_l1_recovery/exo3"
   ]
  },
  {
   "cell_type": "code",
   "execution_count": 17,
   "metadata": {
    "collapsed": false,
    "deletable": true,
    "editable": true
   },
   "outputs": [
    {
     "ename": "TypeError",
     "evalue": "'float' object cannot be interpreted as an index",
     "output_type": "error",
     "traceback": [
      "\u001b[0;31m---------------------------------------------------------------------------\u001b[0m",
      "\u001b[0;31mTypeError\u001b[0m                                 Traceback (most recent call last)",
      "\u001b[0;32m<ipython-input-17-0e587144edb3>\u001b[0m in \u001b[0;36m<module>\u001b[0;34m()\u001b[0m\n\u001b[1;32m      3\u001b[0m \u001b[0mN\u001b[0m \u001b[0;34m=\u001b[0m \u001b[0;36m600\u001b[0m\u001b[0;34m\u001b[0m\u001b[0m\n\u001b[1;32m      4\u001b[0m \u001b[0mP\u001b[0m \u001b[0;34m=\u001b[0m \u001b[0mN\u001b[0m\u001b[0;34m/\u001b[0m\u001b[0;36m2\u001b[0m\u001b[0;34m\u001b[0m\u001b[0m\n\u001b[0;32m----> 5\u001b[0;31m \u001b[0mPhi\u001b[0m \u001b[0;34m=\u001b[0m \u001b[0mPhiRand\u001b[0m\u001b[0;34m(\u001b[0m\u001b[0mP\u001b[0m\u001b[0;34m,\u001b[0m \u001b[0mN\u001b[0m\u001b[0;34m)\u001b[0m\u001b[0;34m\u001b[0m\u001b[0m\n\u001b[0m\u001b[1;32m      6\u001b[0m \u001b[0mklist\u001b[0m \u001b[0;34m=\u001b[0m \u001b[0mnp\u001b[0m\u001b[0;34m.\u001b[0m\u001b[0mround\u001b[0m\u001b[0;34m(\u001b[0m\u001b[0mnp\u001b[0m\u001b[0;34m.\u001b[0m\u001b[0mlinspace\u001b[0m\u001b[0;34m(\u001b[0m\u001b[0;36m1\u001b[0m\u001b[0;34m,\u001b[0m \u001b[0mP\u001b[0m\u001b[0;34m/\u001b[0m\u001b[0;36m7.\u001b[0m\u001b[0;34m,\u001b[0m \u001b[0;36m20\u001b[0m\u001b[0;34m)\u001b[0m\u001b[0;34m)\u001b[0m\u001b[0;34m\u001b[0m\u001b[0m\n\u001b[1;32m      7\u001b[0m \u001b[0mntrials\u001b[0m \u001b[0;34m=\u001b[0m \u001b[0;36m60\u001b[0m\u001b[0;34m\u001b[0m\u001b[0m\n",
      "\u001b[0;32m<ipython-input-5-1d9c02e84341>\u001b[0m in \u001b[0;36m<lambda>\u001b[0;34m(P, N)\u001b[0m\n\u001b[1;32m      2\u001b[0m \u001b[0;34m\u001b[0m\u001b[0m\n\u001b[1;32m      3\u001b[0m \u001b[0mnormalize\u001b[0m \u001b[0;34m=\u001b[0m \u001b[0;32mlambda\u001b[0m \u001b[0mPhi\u001b[0m\u001b[0;34m:\u001b[0m  \u001b[0mPhi\u001b[0m\u001b[0;34m/\u001b[0m\u001b[0mnp\u001b[0m\u001b[0;34m.\u001b[0m\u001b[0mtile\u001b[0m\u001b[0;34m(\u001b[0m\u001b[0mnp\u001b[0m\u001b[0;34m.\u001b[0m\u001b[0msqrt\u001b[0m\u001b[0;34m(\u001b[0m\u001b[0mnp\u001b[0m\u001b[0;34m.\u001b[0m\u001b[0msum\u001b[0m\u001b[0;34m(\u001b[0m\u001b[0mPhi\u001b[0m\u001b[0;34m**\u001b[0m\u001b[0;36m2\u001b[0m\u001b[0;34m,\u001b[0m\u001b[0;36m0\u001b[0m\u001b[0;34m)\u001b[0m\u001b[0;34m)\u001b[0m\u001b[0;34m,\u001b[0m \u001b[0;34m(\u001b[0m\u001b[0mnp\u001b[0m\u001b[0;34m.\u001b[0m\u001b[0mshape\u001b[0m\u001b[0;34m(\u001b[0m\u001b[0mPhi\u001b[0m\u001b[0;34m)\u001b[0m\u001b[0;34m[\u001b[0m\u001b[0;36m0\u001b[0m\u001b[0;34m]\u001b[0m\u001b[0;34m,\u001b[0m\u001b[0;36m1\u001b[0m\u001b[0;34m)\u001b[0m\u001b[0;34m)\u001b[0m\u001b[0;34m\u001b[0m\u001b[0m\n\u001b[0;32m----> 4\u001b[0;31m \u001b[0mPhiRand\u001b[0m \u001b[0;34m=\u001b[0m \u001b[0;32mlambda\u001b[0m \u001b[0mP\u001b[0m\u001b[0;34m,\u001b[0m \u001b[0mN\u001b[0m\u001b[0;34m:\u001b[0m \u001b[0mnormalize\u001b[0m\u001b[0;34m(\u001b[0m\u001b[0mrandom\u001b[0m\u001b[0;34m.\u001b[0m\u001b[0mrandn\u001b[0m\u001b[0;34m(\u001b[0m\u001b[0mP\u001b[0m\u001b[0;34m,\u001b[0m \u001b[0mN\u001b[0m\u001b[0;34m)\u001b[0m\u001b[0;34m)\u001b[0m\u001b[0;34m\u001b[0m\u001b[0m\n\u001b[0m\u001b[1;32m      5\u001b[0m \u001b[0mPhi\u001b[0m \u001b[0;34m=\u001b[0m \u001b[0mPhiRand\u001b[0m\u001b[0;34m(\u001b[0m\u001b[0;36m250\u001b[0m\u001b[0;34m,\u001b[0m \u001b[0;36m1000\u001b[0m\u001b[0;34m)\u001b[0m\u001b[0;34m\u001b[0m\u001b[0m\n",
      "\u001b[0;32mmtrand.pyx\u001b[0m in \u001b[0;36mmtrand.RandomState.randn (numpy/random/mtrand/mtrand.c:19843)\u001b[0;34m()\u001b[0m\n",
      "\u001b[0;32mmtrand.pyx\u001b[0m in \u001b[0;36mmtrand.RandomState.standard_normal (numpy/random/mtrand/mtrand.c:20368)\u001b[0;34m()\u001b[0m\n",
      "\u001b[0;32mmtrand.pyx\u001b[0m in \u001b[0;36mmtrand.cont0_array (numpy/random/mtrand/mtrand.c:6127)\u001b[0;34m()\u001b[0m\n",
      "\u001b[0;31mTypeError\u001b[0m: 'float' object cannot be interpreted as an index"
     ]
    }
   ],
   "source": [
    "## Insert your code here.\n",
    "\n",
    "N = 600\n",
    "P = N/2\n",
    "Phi = PhiRand(P, N)\n",
    "klist = np.round(np.linspace(1, P/7., 20))\n",
    "ntrials = 60\n",
    "proba = np.zeros([len(klist),3])\n",
    "\n",
    "for i in range(len(klist)):\n",
    "    proba[i,:3] = 0\n",
    "    k = klist[i]\n",
    "    for j in range(ntrials):\n",
    "        s = np.zeros(N)\n",
    "        I = random.permutation(N)\n",
    "        I = I[:k]\n",
    "        s[I] = np.sign(random.randn(k, 1))\n",
    "        proba[i, 0] = proba[i, 0] + (F(Phi, s) < 1)\n",
    "        proba[i, 1] = proba[i, 1] + (erc(Phi, I) < 1)\n",
    "        proba[i, 2] = proba[i, 2] + (werc(Phi, I) > 0)*(werc(Phi, I) < 1)\n",
    "        \n",
    "plt.figure(figsize = (8,5))\n",
    "plt.plot(klist, proba/ntrials, linewidth=2)\n",
    "plt.xlabel(\"k\")\n",
    "plt.legend(['F <1', 'ERC <1', 'w-ERC <1'])\n",
    "plt.title(\"N = %d, P = %d\" %(N,P))\n",
    "plt.show()"
   ]
  },
  {
   "cell_type": "markdown",
   "metadata": {
    "deletable": true,
    "editable": true
   },
   "source": [
    "Restricted Isometry Criteria\n",
    "----------------------------\n",
    "The restricted isometry constants $\\de_k^1,\\de_k^2$ of a matrix $\\Phi$ are the\n",
    "smallest $\\de^1,\\de^2$ that satisfy\n",
    "$$ \\forall x \\in \\RR^N, \\quad \\norm{x}_0 \\leq k \\qarrq\n",
    "      (1-\\de^1)\\norm{x}^2 \\leq \\norm{\\Phi x}^2 \\leq (1+\\de^2)\\norm{x}^2.  $$\n",
    "\n",
    "\n",
    "E. Candes shows in\n",
    "\n",
    "\n",
    "E. J. Cand s. _The restricted isometry property and its implications for\n",
    "compressed sensing_. Compte Rendus de l'Academie des Sciences, Paris, Serie I, 346 589-592\n",
    "\n",
    "\n",
    "that if\n",
    "$$ \\de_{2k} \\leq \\sqrt{2}-1 ,$$\n",
    "then $\\norm{x_0} \\leq k$ implies identifiability as well as robustness to small and bounded noise.\n",
    "\n",
    "\n",
    "The stability constant $\\la^1(A), \\la^2(A)$ of a matrix\n",
    "$A = \\Phi_I$ extracted from $\\Phi$ is the smallest $\\tilde \\la_1,\\tilde \\la_2$ such that\n",
    "$$ \\forall \\al \\in \\RR^{\\abs{I}}, \\quad\n",
    "      (1-\\tilde\\la_1)\\norm{\\al}^2 \\leq \\norm{A \\al}^2 \\leq (1+\\tilde \\la_2)\\norm{\\al}^2.  $$\n",
    "\n",
    "\n",
    "These constants $\\la^1(A), \\la^2(A)$ are easily computed from the\n",
    "largest and smallest eigenvalues of $A^* A \\in \\RR^{\\abs{I} \\times \\abs{I}}$"
   ]
  },
  {
   "cell_type": "code",
   "execution_count": 18,
   "metadata": {
    "collapsed": false,
    "deletable": true,
    "editable": true
   },
   "outputs": [],
   "source": [
    "minmax = lambda v: (1-np.min(v), max(v)-1)\n",
    "ric = lambda A: minmax(linalg.eig(np.dot(np.transpose(A),A))[0])"
   ]
  },
  {
   "cell_type": "markdown",
   "metadata": {
    "deletable": true,
    "editable": true
   },
   "source": [
    "The restricted isometry constant of $\\Phi$ are computed as the largest\n",
    "stability constants of extracted matrices\n",
    "$$ \\de^\\ell_k = \\umax{ \\abs{I}=k } \\la^\\ell( \\Phi_I ).  $$\n",
    "\n",
    "\n",
    "The eigenvalues of $\\Phi$ are essentially contained in the\n",
    "interval $ [a,b] $ where $a=(1-\\sqrt{\\be})^2$ and $b=(1+\\sqrt{\\be})^2$\n",
    "with $\\beta = k/P$\n",
    "More precisely, as $k=\\be P$ tends to infinity, the distribution of the\n",
    "eigenvalues tends to the Marcenko-Pastur law\n",
    "$ f_\\be(\\la) = \\frac{1}{2\\pi \\be \\la}\\sqrt{ (\\la-b)^+ (a-\\la)^+ }. $"
   ]
  },
  {
   "cell_type": "markdown",
   "metadata": {
    "deletable": true,
    "editable": true
   },
   "source": [
    "__Exercise 4__\n",
    "\n",
    "Display, for an increasing value of $k$ the histogram of repartition\n",
    "of the eigenvalues $A^* A$ where $A$ is a Gaussian matrix of size $(P,k)$ and\n",
    "variance $1/P$. For this, accumulate the eigenvalues for many\n",
    "realizations of $A$."
   ]
  },
  {
   "cell_type": "code",
   "execution_count": 19,
   "metadata": {
    "collapsed": false,
    "deletable": true,
    "editable": true
   },
   "outputs": [
    {
     "data": {
      "image/png": "[encoded data removed]",
      "text/plain": [
       "<matplotlib.figure.Figure at 0x10bc9fbd0>"
      ]
     },
     "metadata": {},
     "output_type": "display_data"
    },
    {
     "data": {
      "image/png": "[encoded data removed]",
      "text/plain": [
       "<matplotlib.figure.Figure at 0x10ae19fd0>"
      ]
     },
     "metadata": {},
     "output_type": "display_data"
    },
    {
     "data": {
      "image/png": "[encoded data removed]",
      "text/plain": [
       "<matplotlib.figure.Figure at 0x10b475fd0>"
      ]
     },
     "metadata": {},
     "output_type": "display_data"
    }
   ],
   "source": [
    "run -i nt_solutions/sparsity_6_l1_recovery/exo4"
   ]
  },
  {
   "cell_type": "code",
   "execution_count": 20,
   "metadata": {
    "collapsed": false,
    "deletable": true,
    "editable": true
   },
   "outputs": [],
   "source": [
    "## Insert your code here."
   ]
  },
  {
   "cell_type": "markdown",
   "metadata": {
    "deletable": true,
    "editable": true
   },
   "source": [
    "__Exercise 5__\n",
    "\n",
    "Estimate numerically lower bound on $\\de_k^1,\\de_k^2$ by Monte-Carlo\n",
    "sampling of sub-matrices."
   ]
  },
  {
   "cell_type": "code",
   "execution_count": 21,
   "metadata": {
    "collapsed": false,
    "deletable": true,
    "editable": true
   },
   "outputs": [
    {
     "ename": "TypeError",
     "evalue": "slice indices must be integers or None or have an __index__ method",
     "output_type": "error",
     "traceback": [
      "\u001b[0;31m---------------------------------------------------------------------------\u001b[0m",
      "\u001b[0;31mTypeError\u001b[0m                                 Traceback (most recent call last)",
      "\u001b[0;32m/Users/Abdellah/Desktop/etudes_ecp/Projet_divers/JE_Numerical_tours/numerical-tours-2/python/nt_solutions/sparsity_6_l1_recovery/exo5.py\u001b[0m in \u001b[0;36m<module>\u001b[0;34m()\u001b[0m\n\u001b[1;32m     11\u001b[0m     \u001b[0;32mfor\u001b[0m \u001b[0mj\u001b[0m \u001b[0;32min\u001b[0m \u001b[0mrange\u001b[0m\u001b[0;34m(\u001b[0m\u001b[0mntrials\u001b[0m\u001b[0;34m)\u001b[0m\u001b[0;34m:\u001b[0m\u001b[0;34m\u001b[0m\u001b[0m\n\u001b[1;32m     12\u001b[0m         \u001b[0mI\u001b[0m \u001b[0;34m=\u001b[0m \u001b[0mrandom\u001b[0m\u001b[0;34m.\u001b[0m\u001b[0mpermutation\u001b[0m\u001b[0;34m(\u001b[0m\u001b[0mN\u001b[0m\u001b[0;34m)\u001b[0m\u001b[0;34m\u001b[0m\u001b[0m\n\u001b[0;32m---> 13\u001b[0;31m         \u001b[0mI\u001b[0m \u001b[0;34m=\u001b[0m \u001b[0mI\u001b[0m\u001b[0;34m[\u001b[0m\u001b[0;34m:\u001b[0m\u001b[0mk\u001b[0m\u001b[0;34m]\u001b[0m\u001b[0;34m\u001b[0m\u001b[0m\n\u001b[0m\u001b[1;32m     14\u001b[0m         \u001b[0ma\u001b[0m\u001b[0;34m,\u001b[0m\u001b[0mb\u001b[0m \u001b[0;34m=\u001b[0m \u001b[0mric\u001b[0m\u001b[0;34m(\u001b[0m\u001b[0mPhi\u001b[0m\u001b[0;34m[\u001b[0m\u001b[0;34m:\u001b[0m\u001b[0;34m,\u001b[0m\u001b[0mI\u001b[0m\u001b[0;34m]\u001b[0m\u001b[0;34m)\u001b[0m\u001b[0;34m\u001b[0m\u001b[0m\n\u001b[1;32m     15\u001b[0m         \u001b[0mrip_val\u001b[0m\u001b[0;34m[\u001b[0m\u001b[0mi\u001b[0m\u001b[0;34m,\u001b[0m\u001b[0;34m:\u001b[0m\u001b[0;36m2\u001b[0m\u001b[0;34m]\u001b[0m \u001b[0;34m=\u001b[0m \u001b[0mnp\u001b[0m\u001b[0;34m.\u001b[0m\u001b[0mmaximum\u001b[0m\u001b[0;34m(\u001b[0m\u001b[0mrip_val\u001b[0m\u001b[0;34m[\u001b[0m\u001b[0mi\u001b[0m\u001b[0;34m,\u001b[0m\u001b[0;34m:\u001b[0m\u001b[0;36m2\u001b[0m\u001b[0;34m]\u001b[0m \u001b[0;34m,\u001b[0m \u001b[0;34m[\u001b[0m\u001b[0ma\u001b[0m\u001b[0;34m,\u001b[0m\u001b[0mb\u001b[0m\u001b[0;34m]\u001b[0m\u001b[0;34m)\u001b[0m\u001b[0;34m\u001b[0m\u001b[0m\n",
      "\u001b[0;31mTypeError\u001b[0m: slice indices must be integers or None or have an __index__ method"
     ]
    }
   ],
   "source": [
    "run -i nt_solutions/sparsity_6_l1_recovery/exo5"
   ]
  },
  {
   "cell_type": "code",
   "execution_count": 22,
   "metadata": {
    "collapsed": false,
    "deletable": true,
    "editable": true
   },
   "outputs": [],
   "source": [
    "## Insert your code here."
   ]
  },
  {
   "cell_type": "markdown",
   "metadata": {
    "deletable": true,
    "editable": true
   },
   "source": [
    "Sparse Spikes Deconvolution\n",
    "---------------------------\n",
    "We now consider a convolution dictionary $ \\Phi $.\n",
    "Such a dictionary is used with sparse regulariz\n",
    "\n",
    "\n",
    "Second derivative of Gaussian kernel $g$ with a given variance $\\si^2$."
   ]
  },
  {
   "cell_type": "code",
   "execution_count": 70,
   "metadata": {
    "collapsed": false,
    "deletable": true,
    "editable": true
   },
   "outputs": [],
   "source": [
    "sigma = 6\n",
    "g = lambda x: (1-x**2/sigma**2)*np.exp(-x**2/(2*sigma**2))"
   ]
  },
  {
   "cell_type": "code",
   "execution_count": 78,
   "metadata": {
    "collapsed": false
   },
   "outputs": [
    {
     "data": {
      "text/plain": [
       "1.0"
      ]
     },
     "execution_count": 78,
     "metadata": {},
     "output_type": "execute_result"
    }
   ],
   "source": [
    "g(0)"
   ]
  },
  {
   "cell_type": "markdown",
   "metadata": {
    "deletable": true,
    "editable": true
   },
   "source": [
    "Create a matrix $\\Phi$ so that $\\Phi x = g \\star x$ with periodic\n",
    "boundary conditions."
   ]
  },
  {
   "cell_type": "code",
   "execution_count": 71,
   "metadata": {
    "collapsed": false,
    "deletable": true,
    "editable": true
   },
   "outputs": [],
   "source": [
    "P = 1024\n",
    "[Y, X] = np.meshgrid(np.arange(0,P), np.arange(0,P))\n",
    "Phi = normalize(g((X - Y + P/2.)%P-P/2.))"
   ]
  },
  {
   "cell_type": "code",
   "execution_count": 75,
   "metadata": {
    "collapsed": false
   },
   "outputs": [
    {
     "data": {
      "text/plain": [
       "array([[ 1.        ,  0.95881247,  0.84085286, ...,  0.66187268,\n",
       "         0.84085286,  0.95881247],\n",
       "       [ 0.95881247,  1.        ,  0.95881247, ...,  0.44485411,\n",
       "         0.66187268,  0.84085286],\n",
       "       [ 0.84085286,  0.95881247,  1.        , ...,  0.21592031,\n",
       "         0.44485411,  0.66187268],\n",
       "       ..., \n",
       "       [ 0.66187268,  0.44485411,  0.21592031, ...,  1.        ,\n",
       "         0.95881247,  0.84085286],\n",
       "       [ 0.84085286,  0.66187268,  0.44485411, ...,  0.95881247,\n",
       "         1.        ,  0.95881247],\n",
       "       [ 0.95881247,  0.84085286,  0.66187268, ...,  0.84085286,\n",
       "         0.95881247,  1.        ]])"
      ]
     },
     "execution_count": 75,
     "metadata": {},
     "output_type": "execute_result"
    }
   ],
   "source": [
    "g((X - Y + P/2.)%P-P/2.)"
   ]
  },
  {
   "cell_type": "code",
   "execution_count": 64,
   "metadata": {
    "collapsed": false
   },
   "outputs": [
    {
     "data": {
      "text/plain": [
       "0.35408397734239894"
      ]
     },
     "execution_count": 64,
     "metadata": {},
     "output_type": "execute_result"
    }
   ],
   "source": [
    "Phi[0,0]"
   ]
  },
  {
   "cell_type": "markdown",
   "metadata": {
    "deletable": true,
    "editable": true
   },
   "source": [
    "To improve the conditionning of the dictionary, we sub-sample its atoms,\n",
    "so that $ P = \\eta N > N $."
   ]
  },
  {
   "cell_type": "code",
   "execution_count": 60,
   "metadata": {
    "collapsed": false,
    "deletable": true,
    "editable": true
   },
   "outputs": [],
   "source": [
    "eta = 2\n",
    "N = P/eta\n",
    "Phi = Phi[:,::eta]"
   ]
  },
  {
   "cell_type": "markdown",
   "metadata": {
    "deletable": true,
    "editable": true
   },
   "source": [
    "Plot the correlation function associated to the filter.\n",
    "Can you determine the value of the coherence $\\mu(\\Phi)$?"
   ]
  },
  {
   "cell_type": "code",
   "execution_count": 26,
   "metadata": {
    "collapsed": false,
    "deletable": true,
    "editable": true
   },
   "outputs": [
    {
     "ename": "IndexError",
     "evalue": "only integers, slices (`:`), ellipsis (`...`), numpy.newaxis (`None`) and integer or boolean arrays are valid indices",
     "output_type": "error",
     "traceback": [
      "\u001b[0;31m---------------------------------------------------------------------------\u001b[0m",
      "\u001b[0;31mIndexError\u001b[0m                                Traceback (most recent call last)",
      "\u001b[0;32m<ipython-input-26-2de2133c6fa7>\u001b[0m in \u001b[0;36m<module>\u001b[0;34m()\u001b[0m\n\u001b[1;32m      1\u001b[0m \u001b[0mc\u001b[0m \u001b[0;34m=\u001b[0m \u001b[0mnp\u001b[0m\u001b[0;34m.\u001b[0m\u001b[0mdot\u001b[0m\u001b[0;34m(\u001b[0m\u001b[0mnp\u001b[0m\u001b[0;34m.\u001b[0m\u001b[0mtranspose\u001b[0m\u001b[0;34m(\u001b[0m\u001b[0mPhi\u001b[0m\u001b[0;34m)\u001b[0m\u001b[0;34m,\u001b[0m\u001b[0mPhi\u001b[0m\u001b[0;34m)\u001b[0m\u001b[0;34m\u001b[0m\u001b[0m\n\u001b[0;32m----> 2\u001b[0;31m \u001b[0mc\u001b[0m \u001b[0;34m=\u001b[0m \u001b[0mnp\u001b[0m\u001b[0;34m.\u001b[0m\u001b[0mabs\u001b[0m\u001b[0;34m(\u001b[0m\u001b[0mc\u001b[0m\u001b[0;34m[\u001b[0m\u001b[0;34m:\u001b[0m\u001b[0;34m,\u001b[0m\u001b[0mnp\u001b[0m\u001b[0;34m.\u001b[0m\u001b[0mshape\u001b[0m\u001b[0;34m(\u001b[0m\u001b[0mc\u001b[0m\u001b[0;34m)\u001b[0m\u001b[0;34m[\u001b[0m\u001b[0;36m1\u001b[0m\u001b[0;34m]\u001b[0m\u001b[0;34m/\u001b[0m\u001b[0;36m2\u001b[0m\u001b[0;34m]\u001b[0m\u001b[0;34m)\u001b[0m\u001b[0;34m\u001b[0m\u001b[0m\n\u001b[0m\u001b[1;32m      3\u001b[0m \u001b[0;34m\u001b[0m\u001b[0m\n\u001b[1;32m      4\u001b[0m \u001b[0mplt\u001b[0m\u001b[0;34m.\u001b[0m\u001b[0mfigure\u001b[0m\u001b[0;34m(\u001b[0m\u001b[0mfigsize\u001b[0m\u001b[0;34m=\u001b[0m\u001b[0;34m(\u001b[0m\u001b[0;36m8\u001b[0m\u001b[0;34m,\u001b[0m\u001b[0;36m5\u001b[0m\u001b[0;34m)\u001b[0m\u001b[0;34m)\u001b[0m\u001b[0;34m\u001b[0m\u001b[0m\n\u001b[1;32m      5\u001b[0m \u001b[0mplt\u001b[0m\u001b[0;34m.\u001b[0m\u001b[0mplot\u001b[0m\u001b[0;34m(\u001b[0m\u001b[0mc\u001b[0m\u001b[0;34m[\u001b[0m\u001b[0mlen\u001b[0m\u001b[0;34m(\u001b[0m\u001b[0mc\u001b[0m\u001b[0;34m)\u001b[0m\u001b[0;34m/\u001b[0m\u001b[0;36m2\u001b[0m \u001b[0;34m-\u001b[0m \u001b[0;36m50\u001b[0m\u001b[0;34m:\u001b[0m\u001b[0mlen\u001b[0m\u001b[0;34m(\u001b[0m\u001b[0mc\u001b[0m\u001b[0;34m)\u001b[0m\u001b[0;34m/\u001b[0m\u001b[0;36m2\u001b[0m \u001b[0;34m+\u001b[0m \u001b[0;36m50\u001b[0m\u001b[0;34m]\u001b[0m\u001b[0;34m,\u001b[0m \u001b[0;34m'.-'\u001b[0m\u001b[0;34m)\u001b[0m\u001b[0;34m\u001b[0m\u001b[0m\n",
      "\u001b[0;31mIndexError\u001b[0m: only integers, slices (`:`), ellipsis (`...`), numpy.newaxis (`None`) and integer or boolean arrays are valid indices"
     ]
    }
   ],
   "source": [
    "c = np.dot(np.transpose(Phi),Phi)\n",
    "c = np.abs(c[:,np.shape(c)[1]/2])\n",
    "\n",
    "plt.figure(figsize=(8,5))\n",
    "plt.plot(c[len(c)/2 - 50:len(c)/2 + 50], '.-')\n",
    "plt.show()"
   ]
  },
  {
   "cell_type": "markdown",
   "metadata": {
    "deletable": true,
    "editable": true
   },
   "source": [
    "Create a data a sparse $x_0$ with two diracs of opposite signes with spacing $d$."
   ]
  },
  {
   "cell_type": "code",
   "execution_count": 47,
   "metadata": {
    "collapsed": false
   },
   "outputs": [
    {
     "data": {
      "text/plain": [
       "256.0"
      ]
     },
     "execution_count": 47,
     "metadata": {},
     "output_type": "execute_result"
    }
   ],
   "source": [
    "N/2"
   ]
  },
  {
   "cell_type": "code",
   "execution_count": 27,
   "metadata": {
    "collapsed": false,
    "deletable": true,
    "editable": true
   },
   "outputs": [],
   "source": [
    "twosparse = lambda d: np.roll(np.concatenate(([1.], np.zeros(int(d)), [-1.], np.zeros(int(N-d-2)))), int(N/2 - d/2))"
   ]
  },
  {
   "cell_type": "markdown",
   "metadata": {
    "deletable": true,
    "editable": true
   },
   "source": [
    "Display $x_0$ and $\\Phi x_0$."
   ]
  },
  {
   "cell_type": "code",
   "execution_count": 28,
   "metadata": {
    "collapsed": false,
    "deletable": true,
    "editable": true
   },
   "outputs": [
    {
     "data": {
      "image/png": "[encoded data removed]",
      "text/plain": [
       "<matplotlib.figure.Figure at 0x10b708590>"
      ]
     },
     "metadata": {},
     "output_type": "display_data"
    }
   ],
   "source": [
    "x0 = twosparse(50)\n",
    "\n",
    "plt.figure(figsize=(10,7))\n",
    "plt.subplot(2, 1, 1)\n",
    "plt.plot(x0, 'r', linewidth=2)\n",
    "plt.subplot(2, 1, 2)\n",
    "plt.plot(Phi*x0, 'b', linewidth=2)\n",
    "plt.show()"
   ]
  },
  {
   "cell_type": "markdown",
   "metadata": {
    "deletable": true,
    "editable": true
   },
   "source": [
    "__Exercise 6__\n",
    "\n",
    "Plot the evolution of the criteria F, ERC and Coh as a function of $d$.\n",
    "Do the same plot for other signs patterns for $x_0$.\n",
    "Do the same plot for a Dirac comb with a varying spacing $d$."
   ]
  },
  {
   "cell_type": "code",
   "execution_count": 29,
   "metadata": {
    "collapsed": false,
    "deletable": true,
    "editable": true
   },
   "outputs": [
    {
     "data": {
      "image/png": "[encoded data removed]",
      "text/plain": [
       "<matplotlib.figure.Figure at 0x10bc9f690>"
      ]
     },
     "metadata": {},
     "output_type": "display_data"
    },
    {
     "data": {
      "text/plain": [
       "<matplotlib.figure.Figure at 0x10bc9ff10>"
      ]
     },
     "metadata": {},
     "output_type": "display_data"
    }
   ],
   "source": [
    "run -i nt_solutions/sparsity_6_l1_recovery/exo6"
   ]
  },
  {
   "cell_type": "code",
   "execution_count": 30,
   "metadata": {
    "collapsed": true,
    "deletable": true,
    "editable": true
   },
   "outputs": [],
   "source": [
    "g = lambda C,I: np.sum(C[:,I], 1)"
   ]
  },
  {
   "cell_type": "code",
   "execution_count": 31,
   "metadata": {
    "collapsed": false,
    "deletable": true,
    "editable": true
   },
   "outputs": [
    {
     "data": {
      "text/plain": [
       "512.0"
      ]
     },
     "execution_count": 31,
     "metadata": {},
     "output_type": "execute_result"
    }
   ],
   "source": [
    "N"
   ]
  },
  {
   "cell_type": "code",
   "execution_count": 32,
   "metadata": {
    "collapsed": true,
    "deletable": true,
    "editable": true
   },
   "outputs": [],
   "source": [
    "dlist = np.arange(1,N/20)\n",
    "criter = np.zeros([len(dlist),3])"
   ]
  },
  {
   "cell_type": "code",
   "execution_count": 33,
   "metadata": {
    "collapsed": false,
    "deletable": true,
    "editable": true
   },
   "outputs": [
    {
     "data": {
      "text/plain": [
       "25.0"
      ]
     },
     "execution_count": 33,
     "metadata": {},
     "output_type": "execute_result"
    }
   ],
   "source": [
    "dlist[i]"
   ]
  },
  {
   "cell_type": "code",
   "execution_count": 34,
   "metadata": {
    "collapsed": false,
    "deletable": true,
    "editable": true
   },
   "outputs": [
    {
     "data": {
      "text/plain": [
       "(512,)"
      ]
     },
     "execution_count": 34,
     "metadata": {},
     "output_type": "execute_result"
    }
   ],
   "source": [
    "np.sum(Correlation(Phi)[:, I], 1).shape"
   ]
  },
  {
   "cell_type": "code",
   "execution_count": 35,
   "metadata": {
    "collapsed": false,
    "deletable": true,
    "editable": true
   },
   "outputs": [],
   "source": [
    "s = twosparse(dlist[i])\n",
    "I = (supp(s))"
   ]
  },
  {
   "cell_type": "code",
   "execution_count": 36,
   "metadata": {
    "collapsed": false,
    "deletable": true,
    "editable": true
   },
   "outputs": [
    {
     "data": {
      "text/plain": [
       "0.86554995332482043"
      ]
     },
     "execution_count": 36,
     "metadata": {},
     "output_type": "execute_result"
    }
   ],
   "source": [
    "werc(Phi,I)"
   ]
  },
  {
   "cell_type": "code",
   "execution_count": 37,
   "metadata": {
    "collapsed": false,
    "deletable": true,
    "editable": true
   },
   "outputs": [
    {
     "data": {
      "text/plain": [
       "array([[ 0.35408398,  0.29773253,  0.15751571, ...,  0.        ,\n",
       "         0.15751571,  0.29773253],\n",
       "       [ 0.33950013,  0.33950013,  0.23435851, ..., -0.06474192,\n",
       "         0.07645392,  0.23435851],\n",
       "       [ 0.29773253,  0.35408398,  0.29773253, ..., -0.11321977,\n",
       "         0.        ,  0.15751571],\n",
       "       ..., \n",
       "       [ 0.23435851,  0.07645392, -0.06474192, ...,  0.23435851,\n",
       "         0.33950013,  0.33950013],\n",
       "       [ 0.29773253,  0.15751571,  0.        , ...,  0.15751571,\n",
       "         0.29773253,  0.35408398],\n",
       "       [ 0.33950013,  0.23435851,  0.07645392, ...,  0.07645392,\n",
       "         0.23435851,  0.33950013]])"
      ]
     },
     "execution_count": 37,
     "metadata": {},
     "output_type": "execute_result"
    }
   ],
   "source": [
    "Phi"
   ]
  },
  {
   "cell_type": "code",
   "execution_count": 50,
   "metadata": {
    "collapsed": false
   },
   "outputs": [
    {
     "data": {
      "text/plain": [
       "array([ 0.,  0.,  0.,  0.,  0.,  0.,  0.,  0.,  0.,  0.,  0.,  0.,  0.,\n",
       "        0.,  0.,  0.,  0.,  0.,  0.,  0.,  0.,  0.,  0.,  0.,  0.,  0.,\n",
       "        0.,  0.,  0.,  0.,  0.,  0.,  0.,  0.,  0.,  0.,  0.,  0.,  0.,\n",
       "        0.,  0.,  0.,  0.,  0.,  0.,  0.,  0.,  0.,  0.,  0.,  0.,  0.,\n",
       "        0.,  0.,  0.,  0.,  0.,  0.,  0.,  0.,  0.,  0.,  0.,  0.,  0.,\n",
       "        0.,  0.,  0.,  0.,  0.,  0.,  0.,  0.,  0.,  0.,  0.,  0.,  0.,\n",
       "        0.,  0.,  0.,  0.,  0.,  0.,  0.,  0.,  0.,  0.,  0.,  0.,  0.,\n",
       "        0.,  0.,  0.,  0.,  0.,  0.,  0.,  0.,  0.,  0.,  0.,  0.,  0.,\n",
       "        0.,  0.,  0.,  0.,  0.,  0.,  0.,  0.,  0.,  0.,  0.,  0.,  0.,\n",
       "        0.,  0.,  0.,  0.,  0.,  0.,  0.,  0.,  0.,  0.,  0.,  0.,  0.,\n",
       "        0.,  0.,  0.,  0.,  0.,  0.,  0.,  0.,  0.,  0.,  0.,  0.,  0.,\n",
       "        0.,  0.,  0.,  0.,  0.,  0.,  0.,  0.,  0.,  0.,  0.,  0.,  0.,\n",
       "        0.,  0.,  0.,  0.,  0.,  0.,  0.,  0.,  0.,  0.,  0.,  0.,  0.,\n",
       "        0.,  0.,  0.,  0.,  0.,  0.,  0.,  0.,  0.,  0.,  0.,  0.,  0.,\n",
       "        0.,  0.,  0.,  0.,  0.,  0.,  0.,  0.,  0.,  0.,  0.,  0.,  0.,\n",
       "        0.,  0.,  0.,  0.,  0.,  0.,  0.,  0.,  0.,  0.,  0.,  0.,  0.,\n",
       "        0.,  0.,  0.,  0.,  0.,  0.,  0.,  0.,  0.,  0.,  0.,  0.,  0.,\n",
       "        0.,  0.,  0.,  0.,  0.,  0.,  0.,  0.,  0.,  0.,  0.,  0.,  0.,\n",
       "        0.,  0.,  0.,  0.,  0.,  0.,  0.,  0.,  0.,  0.,  0.,  0.,  0.,\n",
       "        0.,  0.,  0.,  0.,  0.,  0.,  0.,  0.,  1.,  0., -1.,  0.,  0.,\n",
       "        0.,  0.,  0.,  0.,  0.,  0.,  0.,  0.,  0.,  0.,  0.,  0.,  0.,\n",
       "        0.,  0.,  0.,  0.,  0.,  0.,  0.,  0.,  0.,  0.,  0.,  0.,  0.,\n",
       "        0.,  0.,  0.,  0.,  0.,  0.,  0.,  0.,  0.,  0.,  0.,  0.,  0.,\n",
       "        0.,  0.,  0.,  0.,  0.,  0.,  0.,  0.,  0.,  0.,  0.,  0.,  0.,\n",
       "        0.,  0.,  0.,  0.,  0.,  0.,  0.,  0.,  0.,  0.,  0.,  0.,  0.,\n",
       "        0.,  0.,  0.,  0.,  0.,  0.,  0.,  0.,  0.,  0.,  0.,  0.,  0.,\n",
       "        0.,  0.,  0.,  0.,  0.,  0.,  0.,  0.,  0.,  0.,  0.,  0.,  0.,\n",
       "        0.,  0.,  0.,  0.,  0.,  0.,  0.,  0.,  0.,  0.,  0.,  0.,  0.,\n",
       "        0.,  0.,  0.,  0.,  0.,  0.,  0.,  0.,  0.,  0.,  0.,  0.,  0.,\n",
       "        0.,  0.,  0.,  0.,  0.,  0.,  0.,  0.,  0.,  0.,  0.,  0.,  0.,\n",
       "        0.,  0.,  0.,  0.,  0.,  0.,  0.,  0.,  0.,  0.,  0.,  0.,  0.,\n",
       "        0.,  0.,  0.,  0.,  0.,  0.,  0.,  0.,  0.,  0.,  0.,  0.,  0.,\n",
       "        0.,  0.,  0.,  0.,  0.,  0.,  0.,  0.,  0.,  0.,  0.,  0.,  0.,\n",
       "        0.,  0.,  0.,  0.,  0.,  0.,  0.,  0.,  0.,  0.,  0.,  0.,  0.,\n",
       "        0.,  0.,  0.,  0.,  0.,  0.,  0.,  0.,  0.,  0.,  0.,  0.,  0.,\n",
       "        0.,  0.,  0.,  0.,  0.,  0.,  0.,  0.,  0.,  0.,  0.,  0.,  0.,\n",
       "        0.,  0.,  0.,  0.,  0.,  0.,  0.,  0.,  0.,  0.,  0.,  0.,  0.,\n",
       "        0.,  0.,  0.,  0.,  0.,  0.,  0.,  0.,  0.,  0.,  0.,  0.,  0.,\n",
       "        0.,  0.,  0.,  0.,  0.,  0.,  0.,  0.,  0.,  0.,  0.,  0.,  0.,\n",
       "        0.,  0.,  0.,  0.,  0.])"
      ]
     },
     "execution_count": 50,
     "metadata": {},
     "output_type": "execute_result"
    }
   ],
   "source": [
    "twosparse(1)"
   ]
  },
  {
   "cell_type": "code",
   "execution_count": 38,
   "metadata": {
    "collapsed": false,
    "deletable": true,
    "editable": true
   },
   "outputs": [],
   "source": [
    "s = twosparse(dlist[i])\n",
    "I = (supp(s))\n",
    "criter[i,:] = [F(Phi, s), erc(Phi,I), werc(Phi,I)]"
   ]
  },
  {
   "cell_type": "code",
   "execution_count": 40,
   "metadata": {
    "collapsed": true
   },
   "outputs": [],
   "source": [
    "dlist = np.arange(1,N/20)"
   ]
  },
  {
   "cell_type": "code",
   "execution_count": 42,
   "metadata": {
    "collapsed": false
   },
   "outputs": [
    {
     "data": {
      "text/plain": [
       "25.6"
      ]
     },
     "execution_count": 42,
     "metadata": {},
     "output_type": "execute_result"
    }
   ],
   "source": [
    "N/20"
   ]
  },
  {
   "cell_type": "code",
   "execution_count": 41,
   "metadata": {
    "collapsed": false
   },
   "outputs": [
    {
     "data": {
      "text/plain": [
       "array([  1.,   2.,   3.,   4.,   5.,   6.,   7.,   8.,   9.,  10.,  11.,\n",
       "        12.,  13.,  14.,  15.,  16.,  17.,  18.,  19.,  20.,  21.,  22.,\n",
       "        23.,  24.,  25.])"
      ]
     },
     "execution_count": 41,
     "metadata": {},
     "output_type": "execute_result"
    }
   ],
   "source": [
    "dlist"
   ]
  },
  {
   "cell_type": "code",
   "execution_count": 43,
   "metadata": {
    "collapsed": false
   },
   "outputs": [
    {
     "data": {
      "text/plain": [
       "<matplotlib.figure.Figure at 0x10f7fe2d0>"
      ]
     },
     "metadata": {},
     "output_type": "display_data"
    }
   ],
   "source": [
    "g = lambda C,I: np.sum(C[:,I], 1)\n",
    "\n",
    "plt.figure(figsize=(8,5))\n",
    "dlist = np.arange(1,N/20)\n",
    "criter = np.zeros([len(dlist),3])"
   ]
  },
  {
   "cell_type": "code",
   "execution_count": 44,
   "metadata": {
    "collapsed": true
   },
   "outputs": [],
   "source": [
    "i = 1"
   ]
  },
  {
   "cell_type": "code",
   "execution_count": 54,
   "metadata": {
    "collapsed": true
   },
   "outputs": [],
   "source": [
    "s = twosparse(2)\n",
    "I = (supp(s))"
   ]
  },
  {
   "cell_type": "code",
   "execution_count": 57,
   "metadata": {
    "collapsed": false
   },
   "outputs": [
    {
     "data": {
      "text/plain": [
       "0.35408397734239894"
      ]
     },
     "execution_count": 57,
     "metadata": {},
     "output_type": "execute_result"
    }
   ],
   "source": [
    "Phi[0,0]"
   ]
  },
  {
   "cell_type": "code",
   "execution_count": 39,
   "metadata": {
    "collapsed": false,
    "deletable": true,
    "editable": true
   },
   "outputs": [
    {
     "data": {
      "image/png": "[encoded data removed]",
      "text/plain": [
       "<matplotlib.figure.Figure at 0x10b3e9590>"
      ]
     },
     "metadata": {},
     "output_type": "display_data"
    }
   ],
   "source": [
    "g = lambda C,I: np.sum(C[:,I], 1)\n",
    "\n",
    "plt.figure(figsize=(8,5))\n",
    "dlist = np.arange(1,N/20)\n",
    "criter = np.zeros([len(dlist),3])\n",
    "\n",
    "for i in range(len(dlist)):\n",
    "    s = twosparse(dlist[i])\n",
    "    I = (supp(s))\n",
    "    criter[i,:] = [F(Phi, s), erc(Phi,I), werc(Phi,I)]\n",
    "    \n",
    "criter[criter < 0] = np.float(\"inf\")\n",
    "\n",
    "plt.plot(dlist, criter, linewidth=2)\n",
    "plt.plot(dlist, dlist*0 + 1, 'k--', linewidth=2)\n",
    "plt.xlim(1,np.max(dlist))\n",
    "plt.ylim(np.min(criter), np.max(criter))\n",
    "plt.xlabel(\"d\")\n",
    "plt.legend([\"F\", \"ERC\", \"w-ERC\"])\n",
    "           \n",
    "plt.show()"
   ]
  },
  {
   "cell_type": "code",
   "execution_count": 67,
   "metadata": {
    "collapsed": false,
    "deletable": true,
    "editable": true
   },
   "outputs": [
    {
     "data": {
      "text/plain": [
       "array([  0.00000000e+000,   0.00000000e+000,   0.00000000e+000,\n",
       "         0.00000000e+000,   0.00000000e+000,   0.00000000e+000,\n",
       "         0.00000000e+000,   0.00000000e+000,   0.00000000e+000,\n",
       "         0.00000000e+000,   0.00000000e+000,   0.00000000e+000,\n",
       "         0.00000000e+000,   0.00000000e+000,   0.00000000e+000,\n",
       "         0.00000000e+000,   0.00000000e+000,   0.00000000e+000,\n",
       "         0.00000000e+000,   0.00000000e+000,   0.00000000e+000,\n",
       "         0.00000000e+000,   0.00000000e+000,   0.00000000e+000,\n",
       "         0.00000000e+000,   0.00000000e+000,   0.00000000e+000,\n",
       "         0.00000000e+000,   0.00000000e+000,   0.00000000e+000,\n",
       "         0.00000000e+000,   0.00000000e+000,   0.00000000e+000,\n",
       "         0.00000000e+000,   0.00000000e+000,   0.00000000e+000,\n",
       "         0.00000000e+000,   0.00000000e+000,   0.00000000e+000,\n",
       "         0.00000000e+000,   0.00000000e+000,   0.00000000e+000,\n",
       "         0.00000000e+000,   0.00000000e+000,   0.00000000e+000,\n",
       "         0.00000000e+000,   0.00000000e+000,   0.00000000e+000,\n",
       "         0.00000000e+000,   0.00000000e+000,   0.00000000e+000,\n",
       "         0.00000000e+000,   0.00000000e+000,   0.00000000e+000,\n",
       "         0.00000000e+000,   0.00000000e+000,   0.00000000e+000,\n",
       "         0.00000000e+000,   0.00000000e+000,   0.00000000e+000,\n",
       "         0.00000000e+000,   0.00000000e+000,   0.00000000e+000,\n",
       "         0.00000000e+000,   0.00000000e+000,   0.00000000e+000,\n",
       "         0.00000000e+000,   0.00000000e+000,   0.00000000e+000,\n",
       "         0.00000000e+000,   0.00000000e+000,   0.00000000e+000,\n",
       "         0.00000000e+000,   0.00000000e+000,   0.00000000e+000,\n",
       "         0.00000000e+000,   0.00000000e+000,   0.00000000e+000,\n",
       "         1.48219694e-323,   2.53356863e-319,   2.17733080e-315,\n",
       "         1.76980816e-311,   1.36061074e-307,   9.89342535e-304,\n",
       "         6.80399062e-300,   4.42572170e-296,   2.72274507e-292,\n",
       "         1.58427820e-288,   8.71879722e-285,   4.53817708e-281,\n",
       "         2.23411268e-277,   1.04022314e-273,   4.58083608e-270,\n",
       "         1.90791397e-266,   7.51566792e-263,   2.80007770e-259,\n",
       "         9.86654747e-256,   3.28815185e-252,   1.03640364e-248,\n",
       "         3.08955017e-245,   8.71063203e-242,   2.32268856e-238,\n",
       "         5.85757650e-235,   1.39710610e-231,   3.15154828e-228,\n",
       "         6.72357721e-225,   1.35661731e-221,   2.58877004e-218,\n",
       "         4.67204881e-215,   7.97439275e-212,   1.28724962e-208,\n",
       "         1.96517546e-205,   2.83734264e-202,   3.87429397e-199,\n",
       "         5.00313355e-196,   6.11024649e-193,   7.05733613e-190,\n",
       "         7.70879690e-187,   7.96332390e-184,   7.77969086e-181,\n",
       "         7.18767848e-178,   6.28017004e-175,   5.18929895e-172,\n",
       "         4.05507158e-169,   2.99666969e-166,   2.09424582e-163,\n",
       "         1.38408491e-160,   8.65051403e-158,   5.11284876e-155,\n",
       "         2.85774529e-152,   1.51050184e-149,   7.55011780e-147,\n",
       "         3.56876888e-144,   1.59519130e-141,   6.74270453e-139,\n",
       "         2.69513035e-136,   1.01870142e-133,   3.64110047e-131,\n",
       "         1.23064862e-128,   3.93321856e-126,   1.18869808e-123,\n",
       "         3.39704487e-121,   9.17981469e-119,   2.34566521e-116,\n",
       "         5.66753332e-114,   1.29483502e-111,   2.79719879e-109,\n",
       "         5.71369278e-107,   1.10354765e-104,   2.01530980e-102,\n",
       "         3.47988419e-100,   5.68140305e-098,   8.77020374e-096,\n",
       "         1.28003641e-093,   1.76639831e-091,   2.30464260e-089,\n",
       "         2.84290230e-087,   3.31557055e-085,   3.65583841e-083,\n",
       "         3.81102918e-081,   3.75593523e-079,   3.49951770e-077,\n",
       "         3.08252127e-075,   2.56687672e-073,   2.02068203e-071,\n",
       "         1.50375712e-069,   1.05788046e-067,   7.03504340e-066,\n",
       "         4.42242067e-064,   2.62789404e-062,   1.47605066e-060,\n",
       "         7.83665972e-059,   3.93266833e-057,   1.86534909e-055,\n",
       "         8.36255125e-054,   3.54333534e-052,   1.41895594e-050,\n",
       "         5.37027612e-049,   1.92080217e-047,   6.49252488e-046,\n",
       "         2.07384146e-044,   6.25970254e-043,   1.78538781e-041,\n",
       "         4.81167027e-040,   1.22525476e-038,   2.94785468e-037,\n",
       "         6.70063180e-036,   1.43891535e-034,   2.91906096e-033,\n",
       "         5.59392804e-032,   1.01258705e-030,   1.73126743e-029,\n",
       "         2.79566510e-028,   4.26350212e-027,   6.14012797e-026,\n",
       "         8.34997410e-025,   1.07214738e-023,   1.29971430e-022,\n",
       "         1.48739048e-021,   1.60672816e-020,   1.63814896e-019,\n",
       "         1.57618619e-018,   1.43103491e-017,   1.22580775e-016,\n",
       "         9.90511731e-016,   7.54904350e-015,   5.42553642e-014,\n",
       "         3.67644369e-013,   2.34830916e-012,   1.41358781e-011,\n",
       "         8.01710382e-011,   4.28266115e-010,   2.15412497e-009,\n",
       "         1.01983801e-008,   4.54272345e-008,   1.90293323e-007,\n",
       "         7.49240195e-007,   2.77103177e-006,   9.61997605e-006,\n",
       "         3.13222903e-005,   9.55535208e-005,   2.72792457e-004,\n",
       "         7.27736603e-004,   1.81084610e-003,   4.19324663e-003,\n",
       "         9.00891570e-003,   1.78848998e-002,   3.26227235e-002,\n",
       "         5.42135870e-002,   8.09822667e-002,   1.06147560e-001,\n",
       "         1.15999046e-001,   9.08467747e-002,   1.10024302e-002,\n",
       "         1.31749031e-001,   3.20638430e-001,   5.06157487e-001,\n",
       "         6.13132402e-001,   5.66651260e-001,   3.29825313e-001,\n",
       "         6.49001107e-002,   5.11863009e-001,   8.65538684e-001,\n",
       "         2.77103177e-006,   8.65547555e-001,   5.11894141e-001,\n",
       "         6.49956188e-002,   3.30098095e-001,   5.67378995e-001,\n",
       "         6.14943248e-001,   5.10350733e-001,   3.29647345e-001,\n",
       "         1.49633931e-001,   4.36251537e-002,   1.45060362e-001,\n",
       "         1.96981313e-001,   2.12295120e-001,   1.96981313e-001,\n",
       "         1.45060362e-001,   4.36251537e-002,   1.49633931e-001,\n",
       "         3.29647345e-001,   5.10350733e-001,   6.14943248e-001,\n",
       "         5.67378995e-001,   3.30098095e-001,   6.49956188e-002,\n",
       "         5.11894141e-001,   8.65547555e-001,   2.77103177e-006,\n",
       "         8.65538684e-001,   5.11863009e-001,   6.49001107e-002,\n",
       "         3.29825313e-001,   5.66651260e-001,   6.13132402e-001,\n",
       "         5.06157487e-001,   3.20638430e-001,   1.31749031e-001,\n",
       "         1.10024302e-002,   9.08467747e-002,   1.15999046e-001,\n",
       "         1.06147560e-001,   8.09822667e-002,   5.42135870e-002,\n",
       "         3.26227235e-002,   1.78848998e-002,   9.00891570e-003,\n",
       "         4.19324663e-003,   1.81084610e-003,   7.27736603e-004,\n",
       "         2.72792457e-004,   9.55535208e-005,   3.13222903e-005,\n",
       "         9.61997605e-006,   2.77103177e-006,   7.49240195e-007,\n",
       "         1.90293323e-007,   4.54272345e-008,   1.01983801e-008,\n",
       "         2.15412497e-009,   4.28266115e-010,   8.01710382e-011,\n",
       "         1.41358781e-011,   2.34830916e-012,   3.67644369e-013,\n",
       "         5.42553642e-014,   7.54904350e-015,   9.90511731e-016,\n",
       "         1.22580775e-016,   1.43103491e-017,   1.57618619e-018,\n",
       "         1.63814896e-019,   1.60672816e-020,   1.48739048e-021,\n",
       "         1.29971430e-022,   1.07214738e-023,   8.34997410e-025,\n",
       "         6.14012797e-026,   4.26350212e-027,   2.79566510e-028,\n",
       "         1.73126743e-029,   1.01258705e-030,   5.59392804e-032,\n",
       "         2.91906096e-033,   1.43891535e-034,   6.70063180e-036,\n",
       "         2.94785468e-037,   1.22525476e-038,   4.81167027e-040,\n",
       "         1.78538781e-041,   6.25970254e-043,   2.07384146e-044,\n",
       "         6.49252488e-046,   1.92080217e-047,   5.37027612e-049,\n",
       "         1.41895594e-050,   3.54333534e-052,   8.36255125e-054,\n",
       "         1.86534909e-055,   3.93266833e-057,   7.83665972e-059,\n",
       "         1.47605066e-060,   2.62789404e-062,   4.42242067e-064,\n",
       "         7.03504340e-066,   1.05788046e-067,   1.50375712e-069,\n",
       "         2.02068203e-071,   2.56687672e-073,   3.08252127e-075,\n",
       "         3.49951770e-077,   3.75593523e-079,   3.81102918e-081,\n",
       "         3.65583841e-083,   3.31557055e-085,   2.84290230e-087,\n",
       "         2.30464260e-089,   1.76639831e-091,   1.28003641e-093,\n",
       "         8.77020374e-096,   5.68140305e-098,   3.47988419e-100,\n",
       "         2.01530980e-102,   1.10354765e-104,   5.71369278e-107,\n",
       "         2.79719879e-109,   1.29483502e-111,   5.66753332e-114,\n",
       "         2.34566521e-116,   9.17981469e-119,   3.39704487e-121,\n",
       "         1.18869808e-123,   3.93321856e-126,   1.23064862e-128,\n",
       "         3.64110047e-131,   1.01870142e-133,   2.69513035e-136,\n",
       "         6.74270453e-139,   1.59519130e-141,   3.56876888e-144,\n",
       "         7.55011780e-147,   1.51050184e-149,   2.85774529e-152,\n",
       "         5.11284876e-155,   8.65051403e-158,   1.38408491e-160,\n",
       "         2.09424582e-163,   2.99666969e-166,   4.05507158e-169,\n",
       "         5.18929895e-172,   6.28017004e-175,   7.18767848e-178,\n",
       "         7.77969086e-181,   7.96332390e-184,   7.70879690e-187,\n",
       "         7.05733613e-190,   6.11024649e-193,   5.00313355e-196,\n",
       "         3.87429397e-199,   2.83734264e-202,   1.96517546e-205,\n",
       "         1.28724962e-208,   7.97439275e-212,   4.67204881e-215,\n",
       "         2.58877004e-218,   1.35661731e-221,   6.72357721e-225,\n",
       "         3.15154828e-228,   1.39710610e-231,   5.85757650e-235,\n",
       "         2.32268856e-238,   8.71063203e-242,   3.08955017e-245,\n",
       "         1.03640364e-248,   3.28815185e-252,   9.86654747e-256,\n",
       "         2.80007770e-259,   7.51566792e-263,   1.90791397e-266,\n",
       "         4.58083608e-270,   1.04022314e-273,   2.23411268e-277,\n",
       "         4.53817708e-281,   8.71879722e-285,   1.58427820e-288,\n",
       "         2.72274507e-292,   4.42572170e-296,   6.80399062e-300,\n",
       "         9.89342535e-304,   1.36061074e-307,   1.76980816e-311,\n",
       "         2.17733080e-315,   2.53356863e-319,   1.48219694e-323,\n",
       "         0.00000000e+000,   0.00000000e+000,   0.00000000e+000,\n",
       "         0.00000000e+000,   0.00000000e+000,   0.00000000e+000,\n",
       "         0.00000000e+000,   0.00000000e+000,   0.00000000e+000,\n",
       "         0.00000000e+000,   0.00000000e+000,   0.00000000e+000,\n",
       "         0.00000000e+000,   0.00000000e+000,   0.00000000e+000,\n",
       "         0.00000000e+000,   0.00000000e+000,   0.00000000e+000,\n",
       "         0.00000000e+000,   0.00000000e+000,   0.00000000e+000,\n",
       "         0.00000000e+000,   0.00000000e+000,   0.00000000e+000,\n",
       "         0.00000000e+000,   0.00000000e+000,   0.00000000e+000,\n",
       "         0.00000000e+000,   0.00000000e+000,   0.00000000e+000,\n",
       "         0.00000000e+000,   0.00000000e+000,   0.00000000e+000,\n",
       "         0.00000000e+000,   0.00000000e+000,   0.00000000e+000,\n",
       "         0.00000000e+000,   0.00000000e+000,   0.00000000e+000,\n",
       "         0.00000000e+000,   0.00000000e+000,   0.00000000e+000,\n",
       "         0.00000000e+000,   0.00000000e+000,   0.00000000e+000,\n",
       "         0.00000000e+000,   0.00000000e+000,   0.00000000e+000,\n",
       "         0.00000000e+000,   0.00000000e+000,   0.00000000e+000,\n",
       "         0.00000000e+000,   0.00000000e+000,   0.00000000e+000,\n",
       "         0.00000000e+000,   0.00000000e+000,   0.00000000e+000,\n",
       "         0.00000000e+000,   0.00000000e+000,   0.00000000e+000,\n",
       "         0.00000000e+000,   0.00000000e+000,   0.00000000e+000,\n",
       "         0.00000000e+000,   0.00000000e+000,   0.00000000e+000,\n",
       "         0.00000000e+000,   0.00000000e+000,   0.00000000e+000,\n",
       "         0.00000000e+000,   0.00000000e+000,   0.00000000e+000,\n",
       "         0.00000000e+000,   0.00000000e+000,   0.00000000e+000,\n",
       "         0.00000000e+000,   0.00000000e+000])"
      ]
     },
     "execution_count": 67,
     "metadata": {},
     "output_type": "execute_result"
    }
   ],
   "source": [
    "g(Correlation(Phi), I)"
   ]
  },
  {
   "cell_type": "code",
   "execution_count": 68,
   "metadata": {
    "collapsed": false,
    "deletable": true,
    "editable": true
   },
   "outputs": [
    {
     "data": {
      "text/plain": [
       "array([243, 269])"
      ]
     },
     "execution_count": 68,
     "metadata": {},
     "output_type": "execute_result"
    }
   ],
   "source": [
    "I"
   ]
  },
  {
   "cell_type": "raw",
   "metadata": {
    "deletable": true,
    "editable": true
   },
   "source": [
    "<script>\n",
    "  $(document).ready(function(){\n",
    "      $('div.prompt').hide();\n",
    "  });\n",
    "</script>"
   ]
  }
 ],
 "metadata": {
  "anaconda-cloud": {},
  "kernelspec": {
   "display_name": "Python 2",
   "language": "python",
   "name": "python2"
  },
  "language_info": {
   "codemirror_mode": {
    "name": "ipython",
    "version": 2
   },
   "file_extension": ".py",
   "mimetype": "text/x-python",
   "name": "python",
   "nbconvert_exporter": "python",
   "pygments_lexer": "ipython2",
   "version": "2.7.13"
  }
 },
 "nbformat": 4,
 "nbformat_minor": 0
}
