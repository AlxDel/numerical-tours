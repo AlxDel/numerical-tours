{
 "cells": [
  {
   "cell_type": "markdown",
   "metadata": {
    "deletable": true,
    "editable": true
   },
   "source": [
    "Dijkstra and Fast Marching Algorithms\n",
    "=====================================\n",
    "$\\newcommand{\\dotp}[2]{\\langle #1, #2 \\rangle}$\n",
    "$\\newcommand{\\enscond}[2]{\\lbrace #1, #2 \\rbrace}$\n",
    "$\\newcommand{\\pd}[2]{ \\frac{ \\partial #1}{\\partial #2} }$\n",
    "$\\newcommand{\\umin}[1]{\\underset{#1}{\\min}\\;}$\n",
    "$\\newcommand{\\umax}[1]{\\underset{#1}{\\max}\\;}$\n",
    "$\\newcommand{\\umin}[1]{\\underset{#1}{\\min}\\;}$\n",
    "$\\newcommand{\\uargmin}[1]{\\underset{#1}{argmin}\\;}$\n",
    "$\\newcommand{\\norm}[1]{\\|#1\\|}$\n",
    "$\\newcommand{\\abs}[1]{\\left|#1\\right|}$\n",
    "$\\newcommand{\\choice}[1]{ \\left\\{  \\begin{array}{l} #1 \\end{array} \\right. }$\n",
    "$\\newcommand{\\pa}[1]{\\left(#1\\right)}$\n",
    "$\\newcommand{\\diag}[1]{{diag}\\left( #1 \\right)}$\n",
    "$\\newcommand{\\qandq}{\\quad\\text{and}\\quad}$\n",
    "$\\newcommand{\\qwhereq}{\\quad\\text{where}\\quad}$\n",
    "$\\newcommand{\\qifq}{ \\quad \\text{if} \\quad }$\n",
    "$\\newcommand{\\qarrq}{ \\quad \\Longrightarrow \\quad }$\n",
    "$\\newcommand{\\ZZ}{\\mathbb{Z}}$\n",
    "$\\newcommand{\\CC}{\\mathbb{C}}$\n",
    "$\\newcommand{\\RR}{\\mathbb{R}}$\n",
    "$\\newcommand{\\EE}{\\mathbb{E}}$\n",
    "$\\newcommand{\\Zz}{\\mathcal{Z}}$\n",
    "$\\newcommand{\\Ww}{\\mathcal{W}}$\n",
    "$\\newcommand{\\Vv}{\\mathcal{V}}$\n",
    "$\\newcommand{\\Nn}{\\mathcal{N}}$\n",
    "$\\newcommand{\\NN}{\\mathcal{N}}$\n",
    "$\\newcommand{\\Hh}{\\mathcal{H}}$\n",
    "$\\newcommand{\\Bb}{\\mathcal{B}}$\n",
    "$\\newcommand{\\Ee}{\\mathcal{E}}$\n",
    "$\\newcommand{\\Cc}{\\mathcal{C}}$\n",
    "$\\newcommand{\\Gg}{\\mathcal{G}}$\n",
    "$\\newcommand{\\Ss}{\\mathcal{S}}$\n",
    "$\\newcommand{\\Pp}{\\mathcal{P}}$\n",
    "$\\newcommand{\\Ff}{\\mathcal{F}}$\n",
    "$\\newcommand{\\Xx}{\\mathcal{X}}$\n",
    "$\\newcommand{\\Mm}{\\mathcal{M}}$\n",
    "$\\newcommand{\\Ii}{\\mathcal{I}}$\n",
    "$\\newcommand{\\Dd}{\\mathcal{D}}$\n",
    "$\\newcommand{\\Ll}{\\mathcal{L}}$\n",
    "$\\newcommand{\\Tt}{\\mathcal{T}}$\n",
    "$\\newcommand{\\si}{\\sigma}$\n",
    "$\\newcommand{\\al}{\\alpha}$\n",
    "$\\newcommand{\\la}{\\lambda}$\n",
    "$\\newcommand{\\ga}{\\gamma}$\n",
    "$\\newcommand{\\Ga}{\\Gamma}$\n",
    "$\\newcommand{\\La}{\\Lambda}$\n",
    "$\\newcommand{\\si}{\\sigma}$\n",
    "$\\newcommand{\\Si}{\\Sigma}$\n",
    "$\\newcommand{\\be}{\\beta}$\n",
    "$\\newcommand{\\de}{\\delta}$\n",
    "$\\newcommand{\\De}{\\Delta}$\n",
    "$\\newcommand{\\phi}{\\varphi}$\n",
    "$\\newcommand{\\th}{\\theta}$\n",
    "$\\newcommand{\\om}{\\omega}$\n",
    "$\\newcommand{\\Om}{\\Omega}$\n"
   ]
  },
  {
   "cell_type": "markdown",
   "metadata": {
    "deletable": true,
    "editable": true
   },
   "source": [
    "This numerical tours details the implementations\n",
    "of Dijkstra and Fast Marching algorithms in 2-D.\n",
    "\n",
    "\n",
    "The implementation are performed in Matlab, and are hence quite slow."
   ]
  },
  {
   "cell_type": "code",
   "execution_count": 172,
   "metadata": {
    "collapsed": false,
    "deletable": true,
    "editable": true
   },
   "outputs": [
    {
     "name": "stdout",
     "output_type": "stream",
     "text": [
      "Populating the interactive namespace from numpy and matplotlib\n",
      "The autoreload extension is already loaded. To reload it, use:\n",
      "  %reload_ext autoreload\n"
     ]
    },
    {
     "name": "stderr",
     "output_type": "stream",
     "text": [
      "C:\\Program Files\\Anaconda3\\lib\\site-packages\\IPython\\core\\magics\\pylab.py:161: UserWarning: pylab import has clobbered these variables: ['pylab', 'extract']\n",
      "`%matplotlib` prevents importing * from pylab and numpy\n",
      "  \"\\n`%matplotlib` prevents importing * from pylab and numpy\"\n"
     ]
    }
   ],
   "source": [
    "from __future__ import division\n",
    "from nt_toolbox.general import *\n",
    "from nt_toolbox.signal import *\n",
    "from nt_toolbox.graph import *\n",
    "from nt_solutions import fastmarching_0_implementing as solutions\n",
    "%pylab inline\n",
    "%matplotlib inline\n",
    "%load_ext autoreload\n",
    "%autoreload 2"
   ]
  },
  {
   "cell_type": "markdown",
   "metadata": {
    "deletable": true,
    "editable": true
   },
   "source": [
    "Installation\n",
    "------------\n",
    "*Important:* Please read the [installation page](http://gpeyre.github.io/numerical-tours/installation_python/) for details about how to install the toolboxes."
   ]
  },
  {
   "cell_type": "markdown",
   "metadata": {
    "deletable": true,
    "editable": true
   },
   "source": [
    "Navigating on the Grid\n",
    "----------------------\n",
    "We use a cartesian grid of size $n \\times n$, and defines operators to navigate in the grid.\n",
    "\n",
    "\n",
    "We use a singe index $i \\in \\{1,\\ldots,n^2\\}$ to index a position on\n",
    "the 2-D grid.\n",
    "\n",
    "\n",
    "Size of the grid."
   ]
  },
  {
   "cell_type": "code",
   "execution_count": 173,
   "metadata": {
    "collapsed": false,
    "deletable": true,
    "editable": true
   },
   "outputs": [],
   "source": [
    "n = 40"
   ]
  },
  {
   "cell_type": "markdown",
   "metadata": {
    "deletable": true,
    "editable": true
   },
   "source": [
    "The four displacement vector to go to the four neightbors."
   ]
  },
  {
   "cell_type": "code",
   "execution_count": 174,
   "metadata": {
    "collapsed": false,
    "deletable": true,
    "editable": true
   },
   "outputs": [],
   "source": [
    "neigh = array([[1, -1, 0, 0], [0, 0,  1, -1]])"
   ]
  },
  {
   "cell_type": "markdown",
   "metadata": {
    "deletable": true,
    "editable": true
   },
   "source": [
    "For simplicity of implementation, we use periodic boundary conditions."
   ]
  },
  {
   "cell_type": "code",
   "execution_count": 175,
   "metadata": {
    "collapsed": false,
    "deletable": true,
    "editable": true
   },
   "outputs": [],
   "source": [
    "boundary = lambda x: mod(x,n)"
   ]
  },
  {
   "cell_type": "markdown",
   "metadata": {
    "deletable": true,
    "editable": true
   },
   "source": [
    "For a given grid index |k|, and a given neighboring index k in ${1,2,3,4}$,\n",
    "|Neigh(k,i)| gives the corresponding grid neighboring index."
   ]
  },
  {
   "cell_type": "code",
   "execution_count": 176,
   "metadata": {
    "collapsed": false,
    "deletable": true,
    "editable": true
   },
   "outputs": [],
   "source": [
    "ind2sub1 = lambda k: [int( (k-np.fmod(k,n))/n ), np.fmod(k,n)]\n",
    "sub2ind1 = lambda u: int( u[0]*n + u[1] )\n",
    "Neigh = lambda k,i: sub2ind1(boundary(ind2sub1(k) + neigh[:,i]))"
   ]
  },
  {
   "cell_type": "markdown",
   "metadata": {
    "deletable": true,
    "editable": true
   },
   "source": [
    "Check that these functions are indeed bijections."
   ]
  },
  {
   "cell_type": "code",
   "execution_count": 177,
   "metadata": {
    "collapsed": false,
    "deletable": true,
    "editable": true
   },
   "outputs": [
    {
     "name": "stdout",
     "output_type": "stream",
     "text": [
      "[13, 27]\n",
      "134\n"
     ]
    }
   ],
   "source": [
    "print( ind2sub1( sub2ind1([13, 27]) ) )\n",
    "print( sub2ind1( ind2sub1(134) ) )"
   ]
  },
  {
   "cell_type": "markdown",
   "metadata": {
    "deletable": true,
    "editable": true
   },
   "source": [
    "Dikstra Algorithm\n",
    "-----------------\n",
    "The Dijkstra algorithm compute the geodesic distance on a graph.\n",
    "We use here a graph whose nodes are the pixels, and whose edges defines the\n",
    "usual 4-connectity relationship.\n",
    "\n",
    "\n",
    "In the following, we use the notation $i \\sim j$ to indicate that an\n",
    "index $j$ is a neighbor of $i$ on the graph defined by the discrete\n",
    "grid.\n",
    "\n",
    "\n",
    "The metric $W(x)$. We use here a constant metric."
   ]
  },
  {
   "cell_type": "code",
   "execution_count": 178,
   "metadata": {
    "collapsed": false,
    "deletable": true,
    "editable": true
   },
   "outputs": [],
   "source": [
    "W = ones( (n,n) )"
   ]
  },
  {
   "cell_type": "markdown",
   "metadata": {
    "deletable": true,
    "editable": true
   },
   "source": [
    "Set $\\Ss = \\{x_0\\}$ of initial points."
   ]
  },
  {
   "cell_type": "code",
   "execution_count": 179,
   "metadata": {
    "collapsed": false,
    "deletable": true,
    "editable": true
   },
   "outputs": [],
   "source": [
    "x0 = [n/2, n/2]"
   ]
  },
  {
   "cell_type": "markdown",
   "metadata": {
    "deletable": true,
    "editable": true
   },
   "source": [
    "Initialize the stack of available indexes."
   ]
  },
  {
   "cell_type": "code",
   "execution_count": 180,
   "metadata": {
    "collapsed": false,
    "deletable": true,
    "editable": true
   },
   "outputs": [],
   "source": [
    "I = [sub2ind1(x0)]"
   ]
  },
  {
   "cell_type": "markdown",
   "metadata": {
    "deletable": true,
    "editable": true
   },
   "source": [
    "Initialize the distance to $+\\infty$, excepted for the boundary conditions."
   ]
  },
  {
   "cell_type": "code",
   "execution_count": 181,
   "metadata": {
    "collapsed": false,
    "deletable": true,
    "editable": true
   },
   "outputs": [],
   "source": [
    "D = ones( (n,n) ) + inf\n",
    "u = ind2sub1(I)\n",
    "D[u[0],u[1]] = 0"
   ]
  },
  {
   "cell_type": "markdown",
   "metadata": {
    "deletable": true,
    "editable": true
   },
   "source": [
    "Initialize the state to 0 (unexplored), excepted for the boundary point $\\Ss$ (indexed by |I|)\n",
    "to $1$ (front)."
   ]
  },
  {
   "cell_type": "code",
   "execution_count": 182,
   "metadata": {
    "collapsed": false,
    "deletable": true,
    "editable": true
   },
   "outputs": [],
   "source": [
    "S = zeros( (n,n) )\n",
    "S[u[0],u[1]] = 1"
   ]
  },
  {
   "cell_type": "markdown",
   "metadata": {
    "deletable": true,
    "editable": true
   },
   "source": [
    "Define a callbabk to use a 1-D indexing on a 2-D array."
   ]
  },
  {
   "cell_type": "code",
   "execution_count": 183,
   "metadata": {
    "collapsed": false,
    "deletable": true,
    "editable": true
   },
   "outputs": [],
   "source": [
    "extract   = lambda x,I: x[I]\n",
    "extract1d = lambda x,I: extract(x.flatten(),I)"
   ]
  },
  {
   "cell_type": "markdown",
   "metadata": {
    "deletable": true,
    "editable": true
   },
   "source": [
    "The first step of each iteration of the method is\n",
    "to pop the from stack the element $i$ with smallest current distance $D_i$."
   ]
  },
  {
   "cell_type": "code",
   "execution_count": 184,
   "metadata": {
    "collapsed": false,
    "deletable": true,
    "editable": true
   },
   "outputs": [],
   "source": [
    "j = np.argsort( extract1d(D,I)  )\n",
    "if np.ndim(j)==0:\n",
    "    j = [j]   # make sure that j is a list a not a singleton\n",
    "j = j[0]\n",
    "i = I[j]         \n",
    "a = I.pop(j)"
   ]
  },
  {
   "cell_type": "markdown",
   "metadata": {
    "deletable": true,
    "editable": true
   },
   "source": [
    "We update its state $S$ to be dead (-1)."
   ]
  },
  {
   "cell_type": "code",
   "execution_count": 185,
   "metadata": {
    "collapsed": false,
    "deletable": true,
    "editable": true
   },
   "outputs": [],
   "source": [
    "u = ind2sub1(i);\n",
    "S[u[0],u[1]] = -1"
   ]
  },
  {
   "cell_type": "markdown",
   "metadata": {
    "deletable": true,
    "editable": true
   },
   "source": [
    "Retrieve the list of the neighbors that are not dead and add to I those that are not yet in it."
   ]
  },
  {
   "cell_type": "code",
   "execution_count": 186,
   "metadata": {
    "collapsed": false,
    "deletable": true,
    "editable": true
   },
   "outputs": [],
   "source": [
    "J = [] \n",
    "for k in np.arange(0,4):\n",
    "    j = Neigh(i,k)\n",
    "    if extract1d(S,j)!=-1:\n",
    "        # add to the list of point to update\n",
    "        J.append(j)           \n",
    "        if extract1d(S,j)==0:\n",
    "            # add to the front\n",
    "            u = ind2sub1(j)\n",
    "            S[u[0],u[1]] = 1\n",
    "            I.append(j)"
   ]
  },
  {
   "cell_type": "code",
   "execution_count": 187,
   "metadata": {
    "collapsed": false,
    "deletable": true,
    "editable": true
   },
   "outputs": [
    {
     "data": {
      "image/png": "[encoded data removed]",
      "text/plain": [
       "<matplotlib.figure.Figure at 0x2e539378da0>"
      ]
     },
     "metadata": {},
     "output_type": "display_data"
    }
   ],
   "source": [
    "imageplot(S)"
   ]
  },
  {
   "cell_type": "markdown",
   "metadata": {
    "deletable": true,
    "editable": true
   },
   "source": [
    "Update neighbor values.\n",
    "For each neightbo $j$ of $i$, perform the update,\n",
    "assuming the length of the edge between $j$ and $k$ is $W_j$.\n",
    "$$ D_j \\leftarrow \\umin{k \\sim j} D_k + W_j. $$"
   ]
  },
  {
   "cell_type": "code",
   "execution_count": 188,
   "metadata": {
    "collapsed": false,
    "deletable": true,
    "editable": true
   },
   "outputs": [],
   "source": [
    "DNeigh = lambda D,k: extract1d(D,Neigh(j,k))\n",
    "for j in J:\n",
    "    dx = min(DNeigh(D,0), DNeigh(D,1))\n",
    "    dy = min(DNeigh(D,2), DNeigh(D,3))\n",
    "    u = ind2sub1(j)\n",
    "    w = extract1d(W,j);\n",
    "    D[u[0],u[1]] = min(dx + w, dy + w)"
   ]
  },
  {
   "cell_type": "markdown",
   "metadata": {
    "deletable": true,
    "editable": true
   },
   "source": [
    "__Exercise 1__\n",
    "\n",
    "Implement the Dijkstra algorithm by iterating these step while the\n",
    "stack |I| is non empty.\n",
    "Display from time to time the front that propagates."
   ]
  },
  {
   "cell_type": "code",
   "execution_count": 190,
   "metadata": {
    "collapsed": false,
    "deletable": true,
    "editable": true
   },
   "outputs": [
    {
     "data": {
      "image/png": "[encoded data removed]",
      "text/plain": [
       "<matplotlib.figure.Figure at 0x2e5392d58d0>"
      ]
     },
     "metadata": {},
     "output_type": "display_data"
    }
   ],
   "source": [
    "D = solutions.exo1(x0,W)"
   ]
  },
  {
   "cell_type": "code",
   "execution_count": 191,
   "metadata": {
    "collapsed": false,
    "deletable": true,
    "editable": true
   },
   "outputs": [],
   "source": [
    "## Insert your code here."
   ]
  },
  {
   "cell_type": "markdown",
   "metadata": {
    "deletable": true,
    "editable": true
   },
   "source": [
    "Display the geodesic distance map using a cosine modulation to make the\n",
    "level set appears more clearly."
   ]
  },
  {
   "cell_type": "code",
   "execution_count": 192,
   "metadata": {
    "collapsed": false,
    "deletable": true,
    "editable": true
   },
   "outputs": [
    {
     "data": {
      "image/png": "[encoded data removed]",
      "text/plain": [
       "<matplotlib.figure.Figure at 0x2e5399202e8>"
      ]
     },
     "metadata": {},
     "output_type": "display_data"
    }
   ],
   "source": [
    "displ = lambda D: cos(2*pi*5*D/max(D.flatten()) )\n",
    "imageplot(displ(D))\n",
    "set_cmap('jet')"
   ]
  },
  {
   "cell_type": "markdown",
   "metadata": {
    "deletable": true,
    "editable": true
   },
   "source": [
    "Fast Marching\n",
    "-------------\n",
    "The Dijstra algorithm suffers from a strong metrization problem, and it\n",
    "actually computes the $\\ell^1$ distance on the grid.\n",
    "\n",
    "\n",
    "The Fast Marching algorithm replace the graph update by a local\n",
    "resolution of the Eikonal equation. This reduces significantly the grid\n",
    "bias, and can be shown to converge to the underlying geodesic distance\n",
    "when the grid step size tends to zero.\n",
    "\n",
    "\n",
    "Over a continuous domain, the distance map $D(x)$ to a set of seed\n",
    "points $ \\Ss $ is the unique solution in the viscosity sense\n",
    "$$ \\forall x \\notin \\Ss, \\quad \\norm{\\nabla D(x)} = W(x)\n",
    "      \\qandq\n",
    "    \\forall y \\in \\Ss, \\quad D(y) = 0. $$\n",
    "\n",
    "\n",
    "The equation is then discretized on a grid of $n \\times n$ pixel, and a\n",
    "solution $ (D_{k,\\ell})_{k,\\ell=1}^n \\in \\RR^{n \\times n} $ is found by using\n",
    "an upwind finite difference approximation, that is faithful to the\n",
    "viscosity solution\n",
    "$$ \\forall (k,\\ell) \\notin \\tilde \\Ss,  \\quad\n",
    "     \\norm{ (\\nabla D)_{k,\\ell} } = W_{k,\\ell}$\n",
    "  \\qandq\n",
    "  \\forall (k,\\ell) \\notin \\tilde \\Ss, \\quad D_{k,\\ell}=0,\n",
    "$$\n",
    "where $\\tilde \\Ss$ is the set of discrete starting points (defined here\n",
    "by |x0|).\n",
    "\n",
    "\n",
    "To be consisten with the viscosity solution, one needs to use a\n",
    "non-linear upwind gradient derivative. This corresponds to computing\n",
    "the norm of the gradient as\n",
    "$$ \\norm{ (\\nabla D)_{k,\\ell} }^2 =\n",
    "      \\max( D_{k+1,\\ell}-D_{k,\\ell}, D_{k-1,\\ell}-D_{k,\\ell}, 0 )^2 +\n",
    "      \\max( D_{k,\\ell+1}-D_{k,\\ell}, D_{k,\\ell-1}-D_{k,\\ell}, 0 )^2.\n",
    "$$\n",
    "\n",
    "\n",
    "A each step of the FM propagation, one update $ D_{k,\\ell} \\leftarrow d $\n",
    "by solving the eikonal equation with respect to $D_{k,\\ell}$ alone.\n",
    "This is equivalent to solving the quadratic equation\n",
    "$$ (d-d_x)^2 + (d-d_y)^2 = w^2 \\qwhereq w=W_{k,\\ell}. $$\n",
    "and where\n",
    "$$ d_x = \\min(D_{k+1,\\ell},D_{k-1,\\ell}) \\qandq\n",
    "   d_y = \\min(D_{k,\\ell+1},D_{k,\\ell-1}). $$\n",
    "\n",
    "\n",
    "The update is thus defined as\n",
    "$$\n",
    "      d = \\choice{\n",
    "          \\frac{d_x+d_y+ \\sqrt{\\De}}{2} \\quad\\text{when}\\quad \\De \\geq 0, \\\\\n",
    "          \\min(d_x,d_y)+w \\quad \\text{otherwise.}$\n",
    "      }$\n",
    "      \\qwhereq\n",
    "      \\De = 2 w^2 - (d_x-d_y)^2.\n",
    "$$\n",
    "\n",
    "\n",
    "Note that in the case where $\\De<0$, one has to use the Dijkstra\n",
    "update.\n",
    "\n",
    "\n",
    "Once the Dijstra algorithm is implemented, the implementation of the Fast\n",
    "Marching is trivial. It just corresponds to replacing the graph udpate"
   ]
  },
  {
   "cell_type": "code",
   "execution_count": 193,
   "metadata": {
    "collapsed": false,
    "deletable": true,
    "editable": true
   },
   "outputs": [],
   "source": [
    "D[u[0],u[1]] = min(dx + w, dy + w)"
   ]
  },
  {
   "cell_type": "markdown",
   "metadata": {
    "deletable": true,
    "editable": true
   },
   "source": [
    "by the eikonal update."
   ]
  },
  {
   "cell_type": "code",
   "execution_count": 194,
   "metadata": {
    "collapsed": false,
    "deletable": true,
    "editable": true
   },
   "outputs": [],
   "source": [
    "Delta = 2*w - (dx-dy)**2\n",
    "if (Delta>=0):\n",
    "    D[u[0],u[1]] = (dx + dy + sqrt(Delta))/ 2\n",
    "else:\n",
    "    D[u[0],u[1]] = min(dx + w, dy + w)"
   ]
  },
  {
   "cell_type": "markdown",
   "metadata": {
    "deletable": true,
    "editable": true
   },
   "source": [
    "__Exercise 2__\n",
    "\n",
    "Implement the Fast Marching algorithm.\n",
    "Display from time to time the front that propagates."
   ]
  },
  {
   "cell_type": "code",
   "execution_count": 195,
   "metadata": {
    "collapsed": false,
    "deletable": true,
    "editable": true
   },
   "outputs": [
    {
     "data": {
      "image/png": "[encoded data removed]",
      "text/plain": [
       "<matplotlib.figure.Figure at 0x2e53998de80>"
      ]
     },
     "metadata": {},
     "output_type": "display_data"
    }
   ],
   "source": [
    "D = solutions.exo2(x0,W)"
   ]
  },
  {
   "cell_type": "code",
   "execution_count": 196,
   "metadata": {
    "collapsed": false,
    "deletable": true,
    "editable": true
   },
   "outputs": [],
   "source": [
    "## Insert your code here."
   ]
  },
  {
   "cell_type": "markdown",
   "metadata": {
    "deletable": true,
    "editable": true
   },
   "source": [
    "Display the geodesic distance map using a cosine modulation to make the\n",
    "level set appears more clearly."
   ]
  },
  {
   "cell_type": "code",
   "execution_count": 197,
   "metadata": {
    "collapsed": false,
    "deletable": true,
    "editable": true
   },
   "outputs": [
    {
     "data": {
      "image/png": "[encoded data removed]",
      "text/plain": [
       "<matplotlib.figure.Figure at 0x2e539a09518>"
      ]
     },
     "metadata": {},
     "output_type": "display_data"
    }
   ],
   "source": [
    "imageplot(displ(D))\n",
    "set_cmap('jet')"
   ]
  },
  {
   "cell_type": "markdown",
   "metadata": {
    "deletable": true,
    "editable": true
   },
   "source": [
    "Computation of Geodesic Paths\n",
    "-----------------------------\n",
    "We use a more complicated, non-constant metric, with a bump in the\n",
    "middle."
   ]
  },
  {
   "cell_type": "code",
   "execution_count": 198,
   "metadata": {
    "collapsed": false,
    "deletable": true,
    "editable": true
   },
   "outputs": [],
   "source": [
    "n = 100\n",
    "x = linspace(-1, 1, n)\n",
    "[Y, X] = meshgrid(x, x)\n",
    "sigma = .2\n",
    "W = 1 + 8 * exp(-(X**2 + Y**2)/ (2*sigma**2))"
   ]
  },
  {
   "cell_type": "markdown",
   "metadata": {
    "deletable": true,
    "editable": true
   },
   "source": [
    "Display it."
   ]
  },
  {
   "cell_type": "code",
   "execution_count": 199,
   "metadata": {
    "collapsed": false,
    "deletable": true,
    "editable": true
   },
   "outputs": [
    {
     "data": {
      "image/png": "[encoded data removed]",
      "text/plain": [
       "<matplotlib.figure.Figure at 0x2e539b54748>"
      ]
     },
     "metadata": {},
     "output_type": "display_data"
    }
   ],
   "source": [
    "imageplot(W)"
   ]
  },
  {
   "cell_type": "markdown",
   "metadata": {
    "deletable": true,
    "editable": true
   },
   "source": [
    "Starting points."
   ]
  },
  {
   "cell_type": "code",
   "execution_count": 200,
   "metadata": {
    "collapsed": false,
    "deletable": true,
    "editable": true
   },
   "outputs": [],
   "source": [
    "x0 = [round(.1*n), round(.1*n)]"
   ]
  },
  {
   "cell_type": "markdown",
   "metadata": {
    "deletable": true,
    "editable": true
   },
   "source": [
    "__Exercise 3:__ \n",
    "\n",
    "Compute the distance map to these starting point using the FM algorithm. _Important:_ use symetric boundary conditions."
   ]
  },
  {
   "cell_type": "code",
   "execution_count": 201,
   "metadata": {
    "collapsed": false,
    "deletable": true,
    "editable": true
   },
   "outputs": [
    {
     "data": {
      "image/png": "[encoded data removed]",
      "text/plain": [
       "<matplotlib.figure.Figure at 0x2e5399a1320>"
      ]
     },
     "metadata": {},
     "output_type": "display_data"
    }
   ],
   "source": [
    "D = solutions.exo3(x0,W)"
   ]
  },
  {
   "cell_type": "code",
   "execution_count": 30,
   "metadata": {
    "collapsed": false,
    "deletable": true,
    "editable": true
   },
   "outputs": [],
   "source": [
    "## Insert your code here."
   ]
  },
  {
   "cell_type": "markdown",
   "metadata": {
    "deletable": true,
    "editable": true
   },
   "source": [
    "Once the geodesic distance map to $\\Ss$\n",
    "has been computed, the geodesic curve between any point $x_1$ and $\\Ss$\n",
    "extracted through gradient descent\n",
    "$$ \\ga'(t) = - \\eta_t \\nabla D(\\ga(t)) \\qandq \\ga(0)=x_1 $$\n",
    "where $\\eta_t>0$ controls the parameterization speed of the resulting\n",
    "curve.\n",
    "\n",
    "\n",
    "To obtain unit speed parameterization, one can use $\\eta_t =\n",
    "\\norm{\\nabla D(\\ga(t))}^{-1}$ (one need to be careful when\n",
    "$\\ga$ approaches $\\Ss$ since $D$ is not smooth on $\\Ss$).\n",
    "\n",
    "\n",
    "Compute the gradient $G_0(x) = \\nabla D(x) \\in \\RR^2$ of the distance map.\n",
    "Use centered differences."
   ]
  },
  {
   "cell_type": "code",
   "execution_count": 202,
   "metadata": {
    "collapsed": false,
    "deletable": true,
    "editable": true
   },
   "outputs": [],
   "source": [
    "G0 = grad(D)"
   ]
  },
  {
   "cell_type": "markdown",
   "metadata": {
    "deletable": true,
    "editable": true
   },
   "source": [
    "Normalize the gradient to obtained $G(x) = G_0(x)/\\norm{G_0(x)}$, in order to have unit speed geodesic curve (parameterized\n",
    "by arc length)."
   ]
  },
  {
   "cell_type": "code",
   "execution_count": 203,
   "metadata": {
    "collapsed": false,
    "deletable": true,
    "editable": true
   },
   "outputs": [],
   "source": [
    "d = sqrt(sum(G0**2, axis=2))\n",
    "U = zeros((n,n,2))\n",
    "U[:,:,0] = d\n",
    "U[:,:,1] = d\n",
    "G = G0 / U"
   ]
  },
  {
   "cell_type": "markdown",
   "metadata": {
    "deletable": true,
    "editable": true
   },
   "source": [
    "The geodesic is then numerically computed using a discretized gradient\n",
    "descent, which defines a discret curve $ (\\ga_k)_k $ using\n",
    "$$ \\ga_{k+1} = \\ga_k - \\tau G(\\ga_k) $$\n",
    "where $\\ga_k \\in \\RR^2$ is an approximation of $\\ga(t)$ at time\n",
    "$t=k\\tau$, and the step size $\\tau>0$ should be small enough.\n",
    "\n",
    "\n",
    "Step size $\\tau$ for the gradient descent."
   ]
  },
  {
   "cell_type": "code",
   "execution_count": 204,
   "metadata": {
    "collapsed": false,
    "deletable": true,
    "editable": true
   },
   "outputs": [],
   "source": [
    "tau = .8"
   ]
  },
  {
   "cell_type": "markdown",
   "metadata": {
    "deletable": true,
    "editable": true
   },
   "source": [
    "Initialize the path with the ending point."
   ]
  },
  {
   "cell_type": "code",
   "execution_count": 205,
   "metadata": {
    "collapsed": false,
    "deletable": true,
    "editable": true
   },
   "outputs": [],
   "source": [
    "x1 = round(.9*n) + 1j*round(.88*n)\n",
    "gamma = [x1]"
   ]
  },
  {
   "cell_type": "markdown",
   "metadata": {
    "deletable": true,
    "editable": true
   },
   "source": [
    "Define a shortcut to interpolate $G$ at a 2-D points.\n",
    "_Warning:_ the |interp2| switches the role of the axis ..."
   ]
  },
  {
   "cell_type": "code",
   "execution_count": 206,
   "metadata": {
    "collapsed": false,
    "deletable": true,
    "editable": true
   },
   "outputs": [],
   "source": [
    "Geval = lambda G,x: bilinear_interpolate(G[:,:,0], imag(x), real(x) ) + 1j * bilinear_interpolate(G[:,:,1],imag(x), real(x))"
   ]
  },
  {
   "cell_type": "markdown",
   "metadata": {
    "deletable": true,
    "editable": true
   },
   "source": [
    "Compute the gradient at the last point in the path, using interpolation."
   ]
  },
  {
   "cell_type": "code",
   "execution_count": 207,
   "metadata": {
    "collapsed": false,
    "deletable": true,
    "editable": true
   },
   "outputs": [],
   "source": [
    "g = Geval(G, gamma[-1] )"
   ]
  },
  {
   "cell_type": "markdown",
   "metadata": {
    "deletable": true,
    "editable": true
   },
   "source": [
    "Perform the descent and add the new point to the path."
   ]
  },
  {
   "cell_type": "code",
   "execution_count": 208,
   "metadata": {
    "collapsed": false,
    "deletable": true,
    "editable": true
   },
   "outputs": [],
   "source": [
    "gamma.append( gamma[-1] - tau*g )"
   ]
  },
  {
   "cell_type": "markdown",
   "metadata": {
    "deletable": true,
    "editable": true
   },
   "source": [
    "__Exercise 4__\n",
    "\n",
    "Perform the full geodesic path extraction by iterating the gradient\n",
    "descent. You must be very careful when the path become close to\n",
    "$x_0$, because the distance function is not differentiable at this\n",
    "point. You must stop the iteration when the path is close to $x_0$."
   ]
  },
  {
   "cell_type": "code",
   "execution_count": 209,
   "metadata": {
    "collapsed": false,
    "deletable": true,
    "editable": true
   },
   "outputs": [],
   "source": [
    "gamma = solutions.exo4(tau,x0,x1,G)"
   ]
  },
  {
   "cell_type": "code",
   "execution_count": 210,
   "metadata": {
    "collapsed": false,
    "deletable": true,
    "editable": true
   },
   "outputs": [],
   "source": [
    "## Insert your code here."
   ]
  },
  {
   "cell_type": "markdown",
   "metadata": {
    "deletable": true,
    "editable": true
   },
   "source": [
    "Display the geodesic curve."
   ]
  },
  {
   "cell_type": "code",
   "execution_count": 211,
   "metadata": {
    "collapsed": false,
    "deletable": true,
    "editable": true
   },
   "outputs": [
    {
     "data": {
      "image/png": "[encoded data removed]",
      "text/plain": [
       "<matplotlib.figure.Figure at 0x2e53997bba8>"
      ]
     },
     "metadata": {},
     "output_type": "display_data"
    }
   ],
   "source": [
    "clf\n",
    "imageplot(W) \n",
    "set_cmap('gray')\n",
    "h = plot(imag(gamma), real(gamma), '.b', linewidth=2)\n",
    "h = plot(x0[1], x0[0], '.r', markersize=20)\n",
    "h = plot(imag(x1), real(x1), '.g', markersize=20)"
   ]
  },
  {
   "cell_type": "raw",
   "metadata": {},
   "source": [
    "<script>\n",
    "  $(document).ready(function(){\n",
    "      $('div.prompt').hide();\n",
    "  });\n",
    "</script>"
   ]
  }
 ],
 "metadata": {
  "anaconda-cloud": {},
  "kernelspec": {
   "display_name": "Python [default]",
   "language": "python",
   "name": "python3"
  },
  "language_info": {
   "codemirror_mode": {
    "name": "ipython",
    "version": 3
   },
   "file_extension": ".py",
   "mimetype": "text/x-python",
   "name": "python",
   "nbconvert_exporter": "python",
   "pygments_lexer": "ipython3",
   "version": "3.5.2"
  }
 },
 "nbformat": 4,
 "nbformat_minor": 0
}
