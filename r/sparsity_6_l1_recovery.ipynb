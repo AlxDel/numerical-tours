{
 "cells": [
  {
   "cell_type": "markdown",
   "metadata": {
    "deletable": true,
    "editable": true
   },
   "source": [
    "Performance of Sparse Recovery Using L1 Minimization\n",
    "====================================================\n",
    "\n",
    "*Important:* Please read the [installation page](http://gpeyre.github.io/numerical-tours/installation_python/) for details about how to install the toolboxes.\n",
    "$\\newcommand{\\dotp}[2]{\\langle #1, #2 \\rangle}$\n",
    "$\\newcommand{\\enscond}[2]{\\lbrace #1, #2 \\rbrace}$\n",
    "$\\newcommand{\\pd}[2]{ \\frac{ \\partial #1}{\\partial #2} }$\n",
    "$\\newcommand{\\umin}[1]{\\underset{#1}{\\min}\\;}$\n",
    "$\\newcommand{\\umax}[1]{\\underset{#1}{\\max}\\;}$\n",
    "$\\newcommand{\\umin}[1]{\\underset{#1}{\\min}\\;}$\n",
    "$\\newcommand{\\uargmin}[1]{\\underset{#1}{argmin}\\;}$\n",
    "$\\newcommand{\\norm}[1]{\\|#1\\|}$\n",
    "$\\newcommand{\\abs}[1]{\\left|#1\\right|}$\n",
    "$\\newcommand{\\choice}[1]{ \\left\\{  \\begin{array}{l} #1 \\end{array} \\right. }$\n",
    "$\\newcommand{\\pa}[1]{\\left(#1\\right)}$\n",
    "$\\newcommand{\\diag}[1]{{diag}\\left( #1 \\right)}$\n",
    "$\\newcommand{\\qandq}{\\quad\\text{and}\\quad}$\n",
    "$\\newcommand{\\qwhereq}{\\quad\\text{where}\\quad}$\n",
    "$\\newcommand{\\qifq}{ \\quad \\text{if} \\quad }$\n",
    "$\\newcommand{\\qarrq}{ \\quad \\Longrightarrow \\quad }$\n",
    "$\\newcommand{\\ZZ}{\\mathbb{Z}}$\n",
    "$\\newcommand{\\CC}{\\mathbb{C}}$\n",
    "$\\newcommand{\\RR}{\\mathbb{R}}$\n",
    "$\\newcommand{\\EE}{\\mathbb{E}}$\n",
    "$\\newcommand{\\Zz}{\\mathcal{Z}}$\n",
    "$\\newcommand{\\Ww}{\\mathcal{W}}$\n",
    "$\\newcommand{\\Vv}{\\mathcal{V}}$\n",
    "$\\newcommand{\\Nn}{\\mathcal{N}}$\n",
    "$\\newcommand{\\NN}{\\mathcal{N}}$\n",
    "$\\newcommand{\\Hh}{\\mathcal{H}}$\n",
    "$\\newcommand{\\Bb}{\\mathcal{B}}$\n",
    "$\\newcommand{\\Ee}{\\mathcal{E}}$\n",
    "$\\newcommand{\\Cc}{\\mathcal{C}}$\n",
    "$\\newcommand{\\Gg}{\\mathcal{G}}$\n",
    "$\\newcommand{\\Ss}{\\mathcal{S}}$\n",
    "$\\newcommand{\\Pp}{\\mathcal{P}}$\n",
    "$\\newcommand{\\Ff}{\\mathcal{F}}$\n",
    "$\\newcommand{\\Xx}{\\mathcal{X}}$\n",
    "$\\newcommand{\\Mm}{\\mathcal{M}}$\n",
    "$\\newcommand{\\Ii}{\\mathcal{I}}$\n",
    "$\\newcommand{\\Dd}{\\mathcal{D}}$\n",
    "$\\newcommand{\\Ll}{\\mathcal{L}}$\n",
    "$\\newcommand{\\Tt}{\\mathcal{T}}$\n",
    "$\\newcommand{\\si}{\\sigma}$\n",
    "$\\newcommand{\\al}{\\alpha}$\n",
    "$\\newcommand{\\la}{\\lambda}$\n",
    "$\\newcommand{\\ga}{\\gamma}$\n",
    "$\\newcommand{\\Ga}{\\Gamma}$\n",
    "$\\newcommand{\\La}{\\Lambda}$\n",
    "$\\newcommand{\\si}{\\sigma}$\n",
    "$\\newcommand{\\Si}{\\Sigma}$\n",
    "$\\newcommand{\\be}{\\beta}$\n",
    "$\\newcommand{\\de}{\\delta}$\n",
    "$\\newcommand{\\De}{\\Delta}$\n",
    "$\\newcommand{\\phi}{\\varphi}$\n",
    "$\\newcommand{\\th}{\\theta}$\n",
    "$\\newcommand{\\om}{\\omega}$\n",
    "$\\newcommand{\\Om}{\\Omega}$"
   ]
  },
  {
   "cell_type": "markdown",
   "metadata": {
    "deletable": true,
    "editable": true
   },
   "source": [
    "This tour explores theoritical garantees for the performance of recovery\n",
    "using $\\ell^1$ minimization."
   ]
  },
  {
   "cell_type": "code",
   "execution_count": 1,
   "metadata": {
    "collapsed": false,
    "deletable": true,
    "editable": true
   },
   "outputs": [
    {
     "name": "stderr",
     "output_type": "stream",
     "text": [
      "Loading required package: plyr\n",
      "Loading required package: magrittr\n",
      "\n",
      "Attaching package: ‘magrittr’\n",
      "\n",
      "The following objects are masked from ‘package:pracma’:\n",
      "\n",
      "    and, mod, or\n",
      "\n",
      "\n",
      "Attaching package: ‘imager’\n",
      "\n",
      "The following object is masked from ‘package:magrittr’:\n",
      "\n",
      "    add\n",
      "\n",
      "The following object is masked from ‘package:plyr’:\n",
      "\n",
      "    liply\n",
      "\n",
      "The following objects are masked from ‘package:stats’:\n",
      "\n",
      "    convolve, spectrum\n",
      "\n",
      "The following object is masked from ‘package:graphics’:\n",
      "\n",
      "    frame\n",
      "\n",
      "The following object is masked from ‘package:base’:\n",
      "\n",
      "    save.image\n",
      "\n"
     ]
    }
   ],
   "source": [
    "library(pracma)\n",
    "library(OpenImageR)\n",
    "library(imager)\n",
    "\n",
    "# Importing the libraries\n",
    "for (f in list.files(path=\"nt_toolbox/toolbox_general/\", pattern=\"*.R\")) {\n",
    "    source(paste(\"nt_toolbox/toolbox_general/\", f, sep=\"\"))\n",
    "}\n",
    "for (f in list.files(path=\"nt_toolbox/toolbox_signal/\", pattern=\"*.R\")) {\n",
    "    source(paste(\"nt_toolbox/toolbox_signal/\", f, sep=\"\"))\n",
    "}"
   ]
  },
  {
   "cell_type": "markdown",
   "metadata": {
    "deletable": true,
    "editable": true
   },
   "source": [
    "Sparse $\\ell^1$ Recovery\n",
    "--------------------------\n",
    "We consider the inverse problem of estimating an unknown signal $x_0 \\in\n",
    "\\RR^N$ from noisy measurements $y=\\Phi x_0 + w \\in \\RR^P$ where $\\Phi \\in \\RR^{P \\times N}$\n",
    "is a measurement matrix with $P \\leq N$, and $w$ is some noise.\n",
    "\n",
    "\n",
    "This tour is focused on recovery using $\\ell^1$ minimization\n",
    "$$ x^\\star \\in \\uargmin{x \\in \\RR^N} \\frac{1}{2}\\norm{y-\\Phi x}^2 + \\la \\norm{x}_1. $$\n",
    "\n",
    "\n",
    "Where there is no noise, we consider the problem $ \\Pp(y) $\n",
    "$$ x^\\star \\in \\uargmin{\\Phi x = y} \\norm{x}_1. $$\n",
    "\n",
    "\n",
    "We are not concerned here about the actual way to solve this convex\n",
    "problem (see the other numerical tours on sparse regularization) but\n",
    "rather on the theoritical analysis of wether $x^\\star$ is close to\n",
    "$x_0$.\n",
    "\n",
    "\n",
    "More precisely, we consider the following three key properties\n",
    "\n",
    "\n",
    "* *Noiseless identifiability*: $x_0$ is the unique solution of $\n",
    "\\Pp(y) $ for $y=\\Phi x_0$.\n",
    "* *Robustess to small noise*: one has $\\norm{x^\\star - x_0} =\n",
    "O(\\norm{w})$ for $y=\\Phi x_0+w$ if $\\norm{w}$ is smaller than\n",
    "an arbitrary small constant that depends on $x_0$ if $\\la$ is well chosen according to $\\norm{w}$.\n",
    "* *Robustess to bounded noise:* same as above, but $\\norm{w}$ can be\n",
    "arbitrary.\n",
    "\n",
    "\n",
    "\n",
    "\n",
    "Note that noise robustness implies identifiability, but the converse\n",
    "is not true in general.\n",
    "\n",
    "\n",
    "Coherence Criteria\n",
    "------------------\n",
    "The simplest criteria for identifiality are based on the coherence of the\n",
    "matrix $\\Phi$ and depends only on the sparsity $\\norm{x_0}_0$ of the\n",
    "original signal. This criteria is thus not very precise and gives very pessimistic\n",
    "bounds.\n",
    "\n",
    "\n",
    "The coherence of the matrix $\\Phi = ( \\phi_i )_{i=1}^N \\in \\RR^{P \\times\n",
    "N}$ with unit norm colum $\\norm{\\phi_i}=1$ is\n",
    "$$ \\mu(\\Phi) = \\umax{i \\neq j} \\abs{\\dotp{\\phi_i}{\\phi_j}}. $$\n",
    "\n",
    "\n",
    "\n",
    "Compute the correlation matrix (remove the diagonal of 1's)."
   ]
  },
  {
   "cell_type": "code",
   "execution_count": 2,
   "metadata": {
    "collapsed": false,
    "deletable": true,
    "editable": true
   },
   "outputs": [],
   "source": [
    "remove_diag = function(C){C - base::diag(base::diag(C))}\n",
    "Correlation = function(Phi){remove_diag(abs(t(Phi) %*% Phi))}"
   ]
  },
  {
   "cell_type": "markdown",
   "metadata": {
    "deletable": true,
    "editable": true
   },
   "source": [
    "Compute the coherence $\\mu(\\Phi)$."
   ]
  },
  {
   "cell_type": "code",
   "execution_count": 3,
   "metadata": {
    "collapsed": false,
    "deletable": true,
    "editable": true
   },
   "outputs": [],
   "source": [
    "mu = function(Phi){max(Correlation(Phi))}"
   ]
  },
  {
   "cell_type": "markdown",
   "metadata": {
    "deletable": true,
    "editable": true
   },
   "source": [
    "The condition\n",
    "$$ \\norm{x_0}_0 < \\frac{1}{2}\\pa{1 + \\frac{1}{\\mu(\\Phi)}} $$\n",
    "implies that $x_0$ is identifiable, and also implies to robustess to small and bounded noise.\n",
    "\n",
    "\n",
    "Equivalently, this condition can be written as $\\text{Coh}(\\norm{x_0}_0)<1$\n",
    "where\n",
    "$$ \\text{Coh}(k) = \\frac{k \\mu(\\Phi)}{ 1 - (k-1)\\mu(\\Phi) } $$"
   ]
  },
  {
   "cell_type": "code",
   "execution_count": 4,
   "metadata": {
    "collapsed": false,
    "deletable": true,
    "editable": true
   },
   "outputs": [],
   "source": [
    "Coh = function(Phi, k){(k * mu(Phi)) / (1 - (k-1) * mu(Phi))}"
   ]
  },
  {
   "cell_type": "markdown",
   "metadata": {
    "deletable": true,
    "editable": true
   },
   "source": [
    "Generate a matrix with random unit columns in $\\RR^P$."
   ]
  },
  {
   "cell_type": "code",
   "execution_count": 5,
   "metadata": {
    "collapsed": false,
    "deletable": true,
    "editable": true
   },
   "outputs": [],
   "source": [
    "normalize = function(Phi){t(t(Phi) / sqrt(apply(Phi**2,2, sum)))}\n",
    "PhiRand = function(P, N){normalize(matrix( rnorm(P*N,mean=0,sd=1), P, N))}\n",
    "Phi = PhiRand(250, 1000)"
   ]
  },
  {
   "cell_type": "markdown",
   "metadata": {
    "deletable": true,
    "editable": true
   },
   "source": [
    "Compute the coherence and the maximum possible sparsity to ensure\n",
    "recovery using the coherence bound."
   ]
  },
  {
   "cell_type": "code",
   "execution_count": 6,
   "metadata": {
    "collapsed": false,
    "deletable": true,
    "editable": true
   },
   "outputs": [
    {
     "name": "stdout",
     "output_type": "stream",
     "text": [
      "[1] \"Coherence: 0.28\"\n",
      "[1] \"Sparsity max: 2\"\n"
     ]
    }
   ],
   "source": [
    "c = mu(Phi)\n",
    "print(paste(\"Coherence:\", round(c, 2)))\n",
    "print(paste(\"Sparsity max:\", floor(1/2*(1 + 1/c))))"
   ]
  },
  {
   "cell_type": "markdown",
   "metadata": {
    "deletable": true,
    "editable": true
   },
   "source": [
    "__Exercise 1__\n",
    "\n",
    "Display how the average coherence of a random matrix\n",
    "decays with the redundancy $\\eta = P/N$ of\n",
    "the matrix $\\Phi$. Can you derive an empirical law between\n",
    "$P$ and the maximal sparsity?"
   ]
  },
  {
   "cell_type": "code",
   "execution_count": 7,
   "metadata": {
    "collapsed": false,
    "deletable": true,
    "editable": true
   },
   "outputs": [],
   "source": [
    "##Insert your code here."
   ]
  },
  {
   "cell_type": "markdown",
   "metadata": {
    "deletable": true,
    "editable": true
   },
   "source": [
    "Support and Sign-based Criteria\n",
    "-------------------------------\n",
    "In the following we will consider the support\n",
    "$$ \\text{supp}(x_0) = \\enscond{i}{x_0(i) \\neq 0} $$\n",
    "of the vector $x_0$. The co-support is its complementary $I^c$."
   ]
  },
  {
   "cell_type": "code",
   "execution_count": 8,
   "metadata": {
    "collapsed": false,
    "deletable": true,
    "editable": true
   },
   "outputs": [],
   "source": [
    "where = function(I)\n",
    "       {\n",
    "         n = length(I)\n",
    "         out = c()\n",
    "         for (i in 1:n)\n",
    "         {\n",
    "             if (I[i] == TRUE)\n",
    "             {\n",
    "                 out = c(out, i)\n",
    "             }\n",
    "         }\n",
    "        return(out)\n",
    "        }\n",
    "\n",
    "supp   = function(s){where(abs(s) > 1e-5)}\n",
    "cosupp = function(s){where(abs(s) < 1e-5)}"
   ]
  },
  {
   "cell_type": "markdown",
   "metadata": {
    "deletable": true,
    "editable": true
   },
   "source": [
    "Given some support $ I \\subset \\{0,\\ldots,N-1\\} $, we will denote as\n",
    "$ \\Phi = (\\phi_m)_{m \\in I} \\in \\RR^{N \\times \\abs{I}}$ the\n",
    "sub-matrix extracted from $\\Phi$ using the columns indexed by $I$.\n",
    "\n",
    "\n",
    "J.J. Fuchs introduces a criteria $F$ for identifiability that depends on the\n",
    "sign of $x_0$.\n",
    "\n",
    "\n",
    "J.J. Fuchs. _Recovery of exact sparse representations in the presence of\n",
    "bounded noise._ IEEE Trans. Inform. Theory, 51(10), p. 3601-3608, 2005\n",
    "\n",
    "\n",
    "Under the condition that $\\Phi_I$ has full rank, the $F$ measure\n",
    "of a sign vector $s \\in \\{+1,0,-1\\}^N$ with $\\text{supp}(s)=I$ reads\n",
    "$$ \\text{F}(s) = \\norm{ \\Psi_I s_I }_\\infty\n",
    "      \\qwhereq \\Psi_I = \\Phi_{I^c}^* \\Phi_I^{+,*} $$\n",
    "where $ A^+ = (A^* A)^{-1} A^* $ is the pseudo inverse of a\n",
    "matrix $A$.\n",
    "\n",
    "\n",
    "The condition\n",
    "$$ \\text{F}(\\text{sign}(x_0))<1 $$\n",
    "implies that $x_0$ is identifiable, and also implies to robustess to\n",
    "small noise. It does not however imply robustess to a bounded noise.\n",
    "\n",
    "\n",
    "Compute $\\Psi_I$ matrix."
   ]
  },
  {
   "cell_type": "code",
   "execution_count": 9,
   "metadata": {
    "collapsed": false,
    "deletable": true,
    "editable": true
   },
   "outputs": [],
   "source": [
    "PsiI = function(Phi,I)\n",
    "{\n",
    "keep_indices = c()\n",
    "for (i in 1:dim(Phi)[2])\n",
    "{\n",
    "    if (!(i %in% I))\n",
    "    {\n",
    "        keep_indices = c(keep_indices, i)\n",
    "    }\n",
    "}\n",
    "return (t(Phi[,keep_indices]) %*% t(pinv(as.matrix(Phi[,I]))))\n",
    "}"
   ]
  },
  {
   "cell_type": "markdown",
   "metadata": {
    "deletable": true,
    "editable": true
   },
   "source": [
    "Compute $\\text{F}(s)$."
   ]
  },
  {
   "cell_type": "code",
   "execution_count": 10,
   "metadata": {
    "collapsed": false,
    "deletable": true,
    "editable": true
   },
   "outputs": [],
   "source": [
    "F = function(Phi,s){base::norm(PsiI(Phi, supp(s)) %*% s[supp(s)], type=\"I\")}"
   ]
  },
  {
   "cell_type": "markdown",
   "metadata": {
    "deletable": true,
    "editable": true
   },
   "source": [
    "The Exact Recovery Criterion (ERC) of a support $I$,\n",
    "introduced by Tropp in\n",
    "\n",
    "\n",
    "J. A. Tropp. _Just relax: Convex programming methods for identifying\n",
    "sparse signals._ IEEE Trans. Inform. Theory, vol. 52, num. 3, pp. 1030-1051, Mar. 2006.\n",
    "\n",
    "\n",
    "Under the condition that $\\Phi_I$ has full rank, this condition reads\n",
    "$$ \\text{ERC}(I) = \\norm{\\Psi_{I}}_{\\infty,\\infty}\n",
    "      =  \\umax{j \\in I^c} \\norm{ \\Phi_I^+ \\phi_j }_1. $$\n",
    "where $\\norm{A}_{\\infty,\\infty}$ is the $\\ell^\\infty-\\ell^\\infty$\n",
    "operator norm of a matrix $A$."
   ]
  },
  {
   "cell_type": "code",
   "execution_count": 11,
   "metadata": {
    "collapsed": false,
    "deletable": true,
    "editable": true
   },
   "outputs": [],
   "source": [
    "erc = function(Phi, I){base::norm(PsiI(Phi, I), type=\"I\")}"
   ]
  },
  {
   "cell_type": "markdown",
   "metadata": {
    "deletable": true,
    "editable": true
   },
   "source": [
    "The condition\n",
    "$$ \\text{ERC}(\\text{supp}(x_0))<1 $$\n",
    "implies that $x_0$ is identifiable, and also implies to robustess to\n",
    "small and bounded noise.\n",
    "\n",
    "\n",
    "One can prove that the ERC is the maximum of the F criterion for all signs of the given\n",
    "support\n",
    "$$ \\text{ERC}(I) = \\umax{ s, \\text{supp}(s) \\subset I } \\text{F}(s). $$\n",
    "\n",
    "\n",
    "The weak-ERC is an approximation of the ERC using only the correlation\n",
    "matrix\n",
    "$$ \\text{w-ERC}(I) = \\frac{\n",
    "      \\umax{j \\in I^c} \\sum_{i \\in I} \\abs{\\dotp{\\phi_i}{\\phi_j}}\n",
    " }{\n",
    "      1-\\umax{j \\in I} \\sum_{i \\neq j \\in I} \\abs{\\dotp{\\phi_i}{\\phi_j}}\n",
    " }$$"
   ]
  },
  {
   "cell_type": "code",
   "execution_count": 12,
   "metadata": {
    "collapsed": false,
    "deletable": true,
    "editable": true
   },
   "outputs": [],
   "source": [
    "setdiff = function(n, I)\n",
    "          {keep_indices = c()\n",
    "            for (i in 1:n)\n",
    "            {\n",
    "                if (!(i %in% I))\n",
    "                {\n",
    "                    keep_indices = c(keep_indices, i)\n",
    "                }\n",
    "            }\n",
    "           return(keep_indices)\n",
    "          }\n",
    "\n",
    "g = function(C,I){apply(as.matrix(C[,I]), 1, sum)}\n",
    "werc_g = function(g,I,J){max(g[J])/(1 - max(g[I]))}\n",
    "werc = function(Phi,I){werc_g(g(Correlation(Phi), I), I, setdiff(dim(Phi)[2], I))}"
   ]
  },
  {
   "cell_type": "markdown",
   "metadata": {
    "deletable": true,
    "editable": true
   },
   "source": [
    "One has, if $\\text{w-ERC}(I)>0$,  for $ I = \\text{supp}(s) $,\n",
    "$$ \\text{F}(s) \\leq \\text{ERC}(I) \\leq \\text{w-ERC}(I) \\leq\n",
    "      \\text{Coh}(\\abs{I}). $$\n",
    "\n",
    "\n",
    "This shows in particular that the condition\n",
    "$$ \\text{w-ERC}(\\text{supp}(x_0))<1 $$\n",
    "implies identifiability and robustess to small and bounded noise."
   ]
  },
  {
   "cell_type": "markdown",
   "metadata": {
    "deletable": true,
    "editable": true
   },
   "source": [
    "__Exercise 2__\n",
    "\n",
    "Show that this inequality holds on a given matrix.\n",
    "What can you conclude about the sharpness of these criteria ?"
   ]
  },
  {
   "cell_type": "code",
   "execution_count": 13,
   "metadata": {
    "collapsed": false,
    "deletable": true,
    "editable": true
   },
   "outputs": [],
   "source": [
    "## Insert your code here."
   ]
  },
  {
   "cell_type": "markdown",
   "metadata": {
    "deletable": true,
    "editable": true
   },
   "source": [
    "__Exercise 3__\n",
    "\n",
    "For a given matrix $\\Phi$ generated using PhiRand, draw as a function of the sparsity $k$\n",
    "the probability that a random sign vector $s$ of sparsity\n",
    "$\\norm{s}_0=k$ satisfies the conditions $\\text{F}(x_0)<1$,\n",
    "$\\text{ERC}(x_0)<1$ and $\\text{w-ERC}(x_0)<1$"
   ]
  },
  {
   "cell_type": "code",
   "execution_count": 14,
   "metadata": {
    "collapsed": false,
    "deletable": true,
    "editable": true
   },
   "outputs": [],
   "source": [
    "#Insert your code here."
   ]
  },
  {
   "cell_type": "markdown",
   "metadata": {
    "deletable": true,
    "editable": true
   },
   "source": [
    "Restricted Isometry Criteria\n",
    "----------------------------\n",
    "The restricted isometry constants $\\de_k^1,\\de_k^2$ of a matrix $\\Phi$ are the\n",
    "smallest $\\de^1,\\de^2$ that satisfy\n",
    "$$ \\forall x \\in \\RR^N, \\quad \\norm{x}_0 \\leq k \\qarrq\n",
    "      (1-\\de^1)\\norm{x}^2 \\leq \\norm{\\Phi x}^2 \\leq (1+\\de^2)\\norm{x}^2.  $$\n",
    "\n",
    "\n",
    "E. Candes shows in\n",
    "\n",
    "\n",
    "E. J. Cand s. _The restricted isometry property and its implications for\n",
    "compressed sensing_. Compte Rendus de l'Academie des Sciences, Paris, Serie I, 346 589-592\n",
    "\n",
    "\n",
    "that if\n",
    "$$ \\de_{2k} \\leq \\sqrt{2}-1 ,$$\n",
    "then $\\norm{x_0} \\leq k$ implies identifiability as well as robustness to small and bounded noise.\n",
    "\n",
    "\n",
    "The stability constant $\\la^1(A), \\la^2(A)$ of a matrix\n",
    "$A = \\Phi_I$ extracted from $\\Phi$ is the smallest $\\tilde \\la_1,\\tilde \\la_2$ such that\n",
    "$$ \\forall \\al \\in \\RR^{\\abs{I}}, \\quad\n",
    "      (1-\\tilde\\la_1)\\norm{\\al}^2 \\leq \\norm{A \\al}^2 \\leq (1+\\tilde \\la_2)\\norm{\\al}^2.  $$\n",
    "\n",
    "\n",
    "These constants $\\la^1(A), \\la^2(A)$ are easily computed from the\n",
    "largest and smallest eigenvalues of $A^* A \\in \\RR^{\\abs{I} \\times \\abs{I}}$"
   ]
  },
  {
   "cell_type": "code",
   "execution_count": 15,
   "metadata": {
    "collapsed": false,
    "deletable": true,
    "editable": true
   },
   "outputs": [],
   "source": [
    "minmax = function(v){c(1 - min(v), max(v) - 1)}\n",
    "ric = function(A){minmax(eigen(t(A) %*% A)$values)}"
   ]
  },
  {
   "cell_type": "markdown",
   "metadata": {
    "deletable": true,
    "editable": true
   },
   "source": [
    "The restricted isometry constant of $\\Phi$ are computed as the largest\n",
    "stability constants of extracted matrices\n",
    "$$ \\de^\\ell_k = \\umax{ \\abs{I}=k } \\la^\\ell( \\Phi_I ).  $$\n",
    "\n",
    "\n",
    "The eigenvalues of $\\Phi$ are essentially contained in the\n",
    "interval $ [a,b] $ where $a=(1-\\sqrt{\\be})^2$ and $b=(1+\\sqrt{\\be})^2$\n",
    "with $\\beta = k/P$\n",
    "More precisely, as $k=\\be P$ tends to infinity, the distribution of the\n",
    "eigenvalues tends to the Marcenko-Pastur law\n",
    "$ f_\\be(\\la) = \\frac{1}{2\\pi \\be \\la}\\sqrt{ (\\la-b)^+ (a-\\la)^+ }. $"
   ]
  },
  {
   "cell_type": "markdown",
   "metadata": {
    "deletable": true,
    "editable": true
   },
   "source": [
    "__Exercise 4__\n",
    "\n",
    "Display, for an increasing value of $k$ the histogram of repartition\n",
    "of the eigenvalues $A^* A$ where $A$ is a Gaussian matrix of size $(P,k)$ and\n",
    "variance $1/P$. For this, accumulate the eigenvalues for many\n",
    "realizations of $A$."
   ]
  },
  {
   "cell_type": "code",
   "execution_count": 16,
   "metadata": {
    "collapsed": false,
    "deletable": true,
    "editable": true
   },
   "outputs": [],
   "source": [
    "## Insert your code here."
   ]
  },
  {
   "cell_type": "markdown",
   "metadata": {
    "deletable": true,
    "editable": true
   },
   "source": [
    "__Exercise 5__\n",
    "\n",
    "Estimate numerically lower bound on $\\de_k^1,\\de_k^2$ by Monte-Carlo\n",
    "sampling of sub-matrices."
   ]
  },
  {
   "cell_type": "code",
   "execution_count": 17,
   "metadata": {
    "collapsed": false,
    "deletable": true,
    "editable": true
   },
   "outputs": [],
   "source": [
    "## Insert your code here."
   ]
  },
  {
   "cell_type": "markdown",
   "metadata": {
    "deletable": true,
    "editable": true
   },
   "source": [
    "Sparse Spikes Deconvolution\n",
    "---------------------------\n",
    "We now consider a convolution dictionary $ \\Phi $.\n",
    "Such a dictionary is used with sparse regulariz\n",
    "\n",
    "\n",
    "Second derivative of Gaussian kernel $g$ with a given variance $\\si^2$."
   ]
  },
  {
   "cell_type": "code",
   "execution_count": 18,
   "metadata": {
    "collapsed": false,
    "deletable": true,
    "editable": true
   },
   "outputs": [],
   "source": [
    "sigma = 6\n",
    "g = function(x){(1 - (x**2 / sigma**2)) * exp(-x**2/(2*sigma**2))}"
   ]
  },
  {
   "cell_type": "markdown",
   "metadata": {
    "deletable": true,
    "editable": true
   },
   "source": [
    "Create a matrix $\\Phi$ so that $\\Phi x = g \\star x$ with periodic\n",
    "boundary conditions."
   ]
  },
  {
   "cell_type": "code",
   "execution_count": 19,
   "metadata": {
    "collapsed": false,
    "deletable": true,
    "editable": true
   },
   "outputs": [],
   "source": [
    "P = 1024\n",
    "t = meshgrid(0:(P - 1),0:(P - 1))\n",
    "Y = t$X\n",
    "X = t$Y\n",
    "Phi = normalize(g((X - Y + P/2.) %% P - P/2.))"
   ]
  },
  {
   "cell_type": "markdown",
   "metadata": {
    "deletable": true,
    "editable": true
   },
   "source": [
    "To improve the conditionning of the dictionary, we sub-sample its atoms,\n",
    "so that $ P = \\eta N > N $."
   ]
  },
  {
   "cell_type": "code",
   "execution_count": 20,
   "metadata": {
    "collapsed": false,
    "deletable": true,
    "editable": true
   },
   "outputs": [],
   "source": [
    "eta = 2.\n",
    "N = P/eta\n",
    "Phi = Phi[,seq(1, dim(Phi)[2], by=eta)]"
   ]
  },
  {
   "cell_type": "markdown",
   "metadata": {
    "deletable": true,
    "editable": true
   },
   "source": [
    "Plot the correlation function associated to the filter.\n",
    "Can you determine the value of the coherence $\\mu(\\Phi)$?"
   ]
  },
  {
   "cell_type": "code",
   "execution_count": 21,
   "metadata": {
    "collapsed": false,
    "deletable": true,
    "editable": true
   },
   "outputs": [
    {
     "data": {
      "image/png": "[encoded data removed]",
      "text/plain": [
       "plot without title"
      ]
     },
     "metadata": {},
     "output_type": "display_data"
    }
   ],
   "source": [
    "c = t(Phi) %*% Phi\n",
    "c = abs(c[,dim(c)[2]/2])\n",
    "\n",
    "options(repr.plot.width=5, repr.plot.height=5)\n",
    "plot(c[(length(c)/2 - 50):((length(c)/2) + 50)], type=\"l\", xlab=\"\", ylab=\"\", col=4)"
   ]
  },
  {
   "cell_type": "code",
   "execution_count": 22,
   "metadata": {
    "collapsed": false,
    "deletable": true,
    "editable": true
   },
   "outputs": [],
   "source": [
    "roll <- function( x , n ){\n",
    "  if( n == 0 )\n",
    "    return( x )\n",
    "  c( tail(x,n) , head(x,-n) )\n",
    "}"
   ]
  },
  {
   "cell_type": "code",
   "execution_count": 23,
   "metadata": {
    "collapsed": false,
    "deletable": true,
    "editable": true
   },
   "outputs": [],
   "source": [
    "twosparse = function(d){roll(c(1, rep(0, d), -1, rep(0, N - d- 2)), as.integer(N/2 - d/2))}"
   ]
  },
  {
   "cell_type": "markdown",
   "metadata": {
    "deletable": true,
    "editable": true
   },
   "source": [
    "Display $x_0$ and $\\Phi x_0$."
   ]
  },
  {
   "cell_type": "code",
   "execution_count": 24,
   "metadata": {
    "collapsed": false,
    "deletable": true,
    "editable": true
   },
   "outputs": [
    {
     "data": {
      "image/png": "[encoded data removed]",
      "text/plain": [
       "plot without title"
      ]
     },
     "metadata": {},
     "output_type": "display_data"
    },
    {
     "data": {
      "image/png": "[encoded data removed]",
      "text/plain": [
       "plot without title"
      ]
     },
     "metadata": {},
     "output_type": "display_data"
    }
   ],
   "source": [
    "x0 = twosparse(50)\n",
    "\n",
    "plot(x0, type=\"l\", col=2, ylab=\"\", xlab=\"\")\n",
    "plot(Phi %*% x0, type=\"l\", col=4, ylab=\"\", xlab=\"\")"
   ]
  },
  {
   "cell_type": "markdown",
   "metadata": {
    "deletable": true,
    "editable": true
   },
   "source": [
    "__Exercise 6__\n",
    "\n",
    "Plot the evolution of the criteria F, ERC and Coh as a function of $d$.\n",
    "Do the same plot for other signs patterns for $x_0$.\n",
    "Do the same plot for a Dirac comb with a varying spacing $d$."
   ]
  },
  {
   "cell_type": "code",
   "execution_count": 25,
   "metadata": {
    "collapsed": false,
    "deletable": true,
    "editable": true
   },
   "outputs": [],
   "source": [
    "#Insert your code here."
   ]
  }
 ],
 "metadata": {
  "anaconda-cloud": {},
  "kernelspec": {
   "display_name": "R",
   "language": "R",
   "name": "ir"
  },
  "language_info": {
   "codemirror_mode": "r",
   "file_extension": ".r",
   "mimetype": "text/x-r-source",
   "name": "R",
   "pygments_lexer": "r",
   "version": "3.4.2"
  }
 },
 "nbformat": 4,
 "nbformat_minor": 0
}
