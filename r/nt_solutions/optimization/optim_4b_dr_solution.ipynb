{
 "cells": [
  {
   "cell_type": "markdown",
   "metadata": {
    "deletable": true,
    "editable": true
   },
   "source": [
    "Douglas Rachford Proximal Splitting\n",
    "===================================\n",
    "\n",
    "*Important:* Please read the [installation page](http://gpeyre.github.io/numerical-tours/installation_matlab/) for details about how to install the toolboxes.\n",
    "$\\newcommand{\\dotp}[2]{\\langle #1, #2 \\rangle}$\n",
    "$\\newcommand{\\enscond}[2]{\\lbrace #1, #2 \\rbrace}$\n",
    "$\\newcommand{\\pd}[2]{ \\frac{ \\partial #1}{\\partial #2} }$\n",
    "$\\newcommand{\\umin}[1]{\\underset{#1}{\\min}\\;}$\n",
    "$\\newcommand{\\umax}[1]{\\underset{#1}{\\max}\\;}$\n",
    "$\\newcommand{\\umin}[1]{\\underset{#1}{\\min}\\;}$\n",
    "$\\newcommand{\\uargmin}[1]{\\underset{#1}{argmin}\\;}$\n",
    "$\\newcommand{\\norm}[1]{\\|#1\\|}$\n",
    "$\\newcommand{\\abs}[1]{\\left|#1\\right|}$\n",
    "$\\newcommand{\\choice}[1]{ \\left\\{  \\begin{array}{l} #1 \\end{array} \\right. }$\n",
    "$\\newcommand{\\pa}[1]{\\left(#1\\right)}$\n",
    "$\\newcommand{\\diag}[1]{{diag}\\left( #1 \\right)}$\n",
    "$\\newcommand{\\qandq}{\\quad\\text{and}\\quad}$\n",
    "$\\newcommand{\\qwhereq}{\\quad\\text{where}\\quad}$\n",
    "$\\newcommand{\\qifq}{ \\quad \\text{if} \\quad }$\n",
    "$\\newcommand{\\qarrq}{ \\quad \\Longrightarrow \\quad }$\n",
    "$\\newcommand{\\ZZ}{\\mathbb{Z}}$\n",
    "$\\newcommand{\\CC}{\\mathbb{C}}$\n",
    "$\\newcommand{\\RR}{\\mathbb{R}}$\n",
    "$\\newcommand{\\EE}{\\mathbb{E}}$\n",
    "$\\newcommand{\\Zz}{\\mathcal{Z}}$\n",
    "$\\newcommand{\\Ww}{\\mathcal{W}}$\n",
    "$\\newcommand{\\Vv}{\\mathcal{V}}$\n",
    "$\\newcommand{\\Nn}{\\mathcal{N}}$\n",
    "$\\newcommand{\\NN}{\\mathcal{N}}$\n",
    "$\\newcommand{\\Hh}{\\mathcal{H}}$\n",
    "$\\newcommand{\\Bb}{\\mathcal{B}}$\n",
    "$\\newcommand{\\Ee}{\\mathcal{E}}$\n",
    "$\\newcommand{\\Cc}{\\mathcal{C}}$\n",
    "$\\newcommand{\\Gg}{\\mathcal{G}}$\n",
    "$\\newcommand{\\Ss}{\\mathcal{S}}$\n",
    "$\\newcommand{\\Pp}{\\mathcal{P}}$\n",
    "$\\newcommand{\\Ff}{\\mathcal{F}}$\n",
    "$\\newcommand{\\Xx}{\\mathcal{X}}$\n",
    "$\\newcommand{\\Mm}{\\mathcal{M}}$\n",
    "$\\newcommand{\\Ii}{\\mathcal{I}}$\n",
    "$\\newcommand{\\Dd}{\\mathcal{D}}$\n",
    "$\\newcommand{\\Ll}{\\mathcal{L}}$\n",
    "$\\newcommand{\\Tt}{\\mathcal{T}}$\n",
    "$\\newcommand{\\si}{\\sigma}$\n",
    "$\\newcommand{\\al}{\\alpha}$\n",
    "$\\newcommand{\\la}{\\lambda}$\n",
    "$\\newcommand{\\ga}{\\gamma}$\n",
    "$\\newcommand{\\Ga}{\\Gamma}$\n",
    "$\\newcommand{\\La}{\\Lambda}$\n",
    "$\\newcommand{\\si}{\\sigma}$\n",
    "$\\newcommand{\\Si}{\\Sigma}$\n",
    "$\\newcommand{\\be}{\\beta}$\n",
    "$\\newcommand{\\de}{\\delta}$\n",
    "$\\newcommand{\\De}{\\Delta}$\n",
    "$\\newcommand{\\phi}{\\varphi}$\n",
    "$\\newcommand{\\th}{\\theta}$\n",
    "$\\newcommand{\\om}{\\omega}$\n",
    "$\\newcommand{\\Om}{\\Omega}$\n"
   ]
  },
  {
   "cell_type": "markdown",
   "metadata": {
    "deletable": true,
    "editable": true
   },
   "source": [
    "This numerical tour presents the Douglas-Rachford (DR) algorithm to\n",
    "minimize the sum of two simple functions. It shows an\n",
    "application to\n",
    "reconstruction of exactly sparse signal from noiseless measurement using\n",
    "$\\ell^1$ minimization."
   ]
  },
  {
   "cell_type": "code",
   "execution_count": 133,
   "metadata": {
    "collapsed": false,
    "deletable": true,
    "editable": true
   },
   "outputs": [],
   "source": [
    "source(\"../../nt_toolbox/general.R\")\n",
    "source(\"../../nt_toolbox/signal.R\")\n",
    "source(\"../../nt_toolbox/norms.R\")\n",
    "source(\"../../nt_toolbox/stemplot.R\")\n",
    "library(pracma)"
   ]
  },
  {
   "cell_type": "markdown",
   "metadata": {
    "deletable": true,
    "editable": true
   },
   "source": [
    "Douglas-Rachford Algorithm\n",
    "--------------------------\n",
    "The Douglas-Rachford (DR) algorithm is an iterative scheme to minimize\n",
    "functionals of the form\n",
    "$$ \\umin{x} F(x) + G(x) $$\n",
    "where $F$ and $G$ are convex functions for which one is able to\n",
    "comptue the proximal mappings $ \\text{prox}_{\\gamma F} $ and\n",
    "$ \\text{prox}_{\\gamma G} $ which are defined as\n",
    "$$ \\text{prox}_{\\gamma F}(x) = \\text{argmin}_{y} \\frac{1}{2}\\norm{x-y}^2 + \\ga F(y) $$\n",
    "(the same definition applies also for $G$).\n",
    "\n",
    "\n",
    "The important point is that $F$ and $G$ do not need to be smooth.\n",
    "One only needs them to be \"proximable\".\n",
    "\n",
    "\n",
    "This algorithm was introduced in:\n",
    "\n",
    "\n",
    "P. L. Lions and B. Mercier\n",
    "_Splitting Algorithms for the Sum of Two Nonlinear Operators_\n",
    "SIAM Journal on Numerical Analysis\n",
    "Vol. 16, No. 6 (Dec., 1979), pp. 964-979\n",
    "\n",
    "\n",
    "as a generalization of an algorithm introduced by Douglas and Rachford in\n",
    "the case of quadratic minimization (which corresponds to the solution of\n",
    "a linear system).\n",
    "\n",
    "\n",
    "To learn more about this algorithm, you can read:\n",
    "\n",
    "\n",
    "Patrick L. Combettes and Jean-Christophe Pesquet,\n",
    "_Proximal Splitting Methods in Signal Processing_,\n",
    "in: Fixed-Point Algorithms for Inverse\n",
    "Problems in Science and Engineering, New York: Springer-Verlag, 2010.\n",
    "\n",
    "\n",
    "\n",
    "A DR iteration reads\n",
    "$$ \\tilde x_{k+1} = \\pa{1-\\frac{\\mu}{2}} \\tilde x_k +\n",
    "  \\frac{\\mu}{2} \\text{rprox}_{\\gamma G}( \\text{rprox}_{\\gamma F}(\\tilde x_k)  )\n",
    "  \\qandq x_{k+1} = \\text{prox}_{\\gamma F}(\\tilde x_{k+1},) $$\n",
    "\n",
    "\n",
    "\n",
    "We have used the following shortcuts:\n",
    "$$   \\text{rprox}_{\\gamma F}(x) = 2\\text{prox}_{\\gamma F}(x)-x $$\n",
    "\n",
    "\n",
    "It is of course possible to inter-change the roles of $F$ and $G$,\n",
    "which defines another set of iterations.\n",
    "\n",
    "\n",
    "One can show that for any value of $\\gamma>0$, any $ 0 < \\mu < 2 $,\n",
    "and any $\\tilde x_0$, $x_k \\rightarrow x^\\star$\n",
    "which is a minimizer of the minimization of $F+G$.\n",
    "\n",
    "Compressed Sensing Acquisition\n",
    "------------------------------\n",
    "Compressed sensing acquisition corresponds to a random projection\n",
    "$y=Ax_0$ of a signal $x_0$ on a\n",
    "few linear vectors (the lines of $A$). For the recovery of $x_0$ to be possible, it is assumed\n",
    "to be sparsely represented in an orthogonal basis. Up to a change of\n",
    "basis, we suppose that the vector $x$ itself is sparse.\n",
    "\n",
    "\n",
    "Initialize the random number generator to have always the same signals."
   ]
  },
  {
   "cell_type": "code",
   "execution_count": 134,
   "metadata": {
    "collapsed": false,
    "deletable": true,
    "editable": true
   },
   "outputs": [],
   "source": [
    "set.seed(1)"
   ]
  },
  {
   "cell_type": "markdown",
   "metadata": {
    "deletable": true,
    "editable": true
   },
   "source": [
    "Dimension of the problem."
   ]
  },
  {
   "cell_type": "code",
   "execution_count": 135,
   "metadata": {
    "collapsed": false,
    "deletable": true,
    "editable": true
   },
   "outputs": [],
   "source": [
    "n = 400"
   ]
  },
  {
   "cell_type": "markdown",
   "metadata": {
    "deletable": true,
    "editable": true
   },
   "source": [
    "Number of measurements."
   ]
  },
  {
   "cell_type": "code",
   "execution_count": 136,
   "metadata": {
    "collapsed": false,
    "deletable": true,
    "editable": true
   },
   "outputs": [],
   "source": [
    "p = round(n/4)"
   ]
  },
  {
   "cell_type": "markdown",
   "metadata": {
    "deletable": true,
    "editable": true
   },
   "source": [
    "Create a random Gaussian measurement matrix $A$."
   ]
  },
  {
   "cell_type": "code",
   "execution_count": 137,
   "metadata": {
    "collapsed": false,
    "deletable": true,
    "editable": true
   },
   "outputs": [],
   "source": [
    "A = randn(p,n) / sqrt(p)"
   ]
  },
  {
   "cell_type": "markdown",
   "metadata": {
    "deletable": true,
    "editable": true
   },
   "source": [
    "Sparsity of the signal."
   ]
  },
  {
   "cell_type": "code",
   "execution_count": 138,
   "metadata": {
    "collapsed": false,
    "deletable": true,
    "editable": true
   },
   "outputs": [],
   "source": [
    "s = 17"
   ]
  },
  {
   "cell_type": "markdown",
   "metadata": {
    "deletable": true,
    "editable": true
   },
   "source": [
    "We begin by generating a $s$-sparse signal $x_0$ with $s$ randomized values.\n",
    "Since the measurement matrix is random, one does not care about the sign\n",
    "of the Diracs, so we use +1 values."
   ]
  },
  {
   "cell_type": "code",
   "execution_count": 139,
   "metadata": {
    "collapsed": false,
    "deletable": true,
    "editable": true
   },
   "outputs": [],
   "source": [
    "sel = sample(c(1 : n))\n",
    "x0 = zeros(n, 1)\n",
    "x0[sel[1:s]] = 1"
   ]
  },
  {
   "cell_type": "markdown",
   "metadata": {
    "deletable": true,
    "editable": true
   },
   "source": [
    "We perform random measurements $y=Ax_0$ without noise."
   ]
  },
  {
   "cell_type": "code",
   "execution_count": 140,
   "metadata": {
    "collapsed": false,
    "deletable": true,
    "editable": true
   },
   "outputs": [],
   "source": [
    "y = A %*% x0"
   ]
  },
  {
   "cell_type": "markdown",
   "metadata": {
    "deletable": true,
    "editable": true
   },
   "source": [
    "Compressed Sensing Recovery using DR\n",
    "------------------------------------\n",
    "Compressed sensing recovery corresponds\n",
    "to solving the inverse problem $y=A x_0$, which is ill posed because\n",
    "$x_0$ is\n",
    "higher dimensional than $y$.\n",
    "\n",
    "\n",
    "The reconstruction can be perform with $\\ell^1$ minimization,\n",
    "which regularizes the problems by using the sparsity of the solution.\n",
    "$$ x^\\star \\in \\uargmin{ A x = y } \\norm{x}_1 $$\n",
    "where the $\\ell^1$ norm is defined as\n",
    "$$ \\norm{x}_1 = \\sum_i \\abs{x_i}. $$\n",
    "\n",
    "\n",
    "This is the minimization of a non-smooth function under affine\n",
    "constraints. This can be shown to be equivalent to a linear programming\n",
    "problem, for wich various algorithms can be used (simplex, interior\n",
    "points). We propose here to use the DR iterative algorithm.\n",
    "\n",
    "\n",
    "It is possible to recast this problem as the minimization of $F+G$\n",
    "where $G(x) = \\norm{x}_1$ and $F(x)=\\iota_{H}$ where $H =\n",
    "\\enscond{x}{Ax=y}$ is an affine space, and $\\iota_H$ is the indicator\n",
    "function\n",
    "$$ \\iota_H(x) = \\choice{ 0 \\qifq x \\in H, \\\\ +\\infty \\qifq x \\notin H. } $$\n",
    "\n",
    "\n",
    "The proximal operator of the $\\ell^1$ norm is the soft thresholding:\n",
    "$$ \\text{prox}_{\\gamma \\norm{\\cdot}_1}(x)_i = \\max\\pa{ 0, 1-\\frac{\\ga}{\\abs{x_i}} } x_i. $$"
   ]
  },
  {
   "cell_type": "code",
   "execution_count": 141,
   "metadata": {
    "collapsed": false,
    "deletable": true,
    "editable": true
   },
   "outputs": [],
   "source": [
    "proxG = function(x, gamma) {x * pmax(1 - ((gamma) / abs(x)), 0)}"
   ]
  },
  {
   "cell_type": "markdown",
   "metadata": {
    "deletable": true,
    "editable": true
   },
   "source": [
    "Display the 1-D curve of the thresholding."
   ]
  },
  {
   "cell_type": "code",
   "execution_count": 142,
   "metadata": {
    "collapsed": false,
    "deletable": true,
    "editable": true
   },
   "outputs": [
    {
     "data": {
      "image/png": "[encoded data removed]",
      "text/plain": [
       "plot without title"
      ]
     },
     "metadata": {},
     "output_type": "display_data"
    }
   ],
   "source": [
    "options(repr.plot.width=5, repr.plot.height=3.5)\n",
    "t = linspace(-1,1)\n",
    "plot(t, proxG(t, 0.3), type=\"l\", col=\"blue\", ylab=\"\", xlab=\"\")"
   ]
  },
  {
   "cell_type": "markdown",
   "metadata": {
    "deletable": true,
    "editable": true
   },
   "source": [
    "The proximal operator of the indicator function of $H$ is the\n",
    "projector, and does not depends on $\\gamma$.\n",
    "$$ \\text{prox}_{\\gamma \\iota_H}(x)_i = \\text{prox}_F(x) = x + A^* (A A^*)^{-1} (y-Ax). $$"
   ]
  },
  {
   "cell_type": "code",
   "execution_count": 143,
   "metadata": {
    "collapsed": false,
    "deletable": true,
    "editable": true
   },
   "outputs": [],
   "source": [
    "pA = t(A) %*% solve(A%*% t(A))\n",
    "proxF = function(x,y){x + pA %*% (y - A %*% x)}"
   ]
  },
  {
   "cell_type": "markdown",
   "metadata": {
    "deletable": true,
    "editable": true
   },
   "source": [
    "There are two kinds of Douglas-Rachford iterations, depending on wether\n",
    "you first apply the projection or the thresholding.\n",
    "\n",
    "\n",
    "The first algorithm, (DR1), reads:\n",
    "$$ \\tilde x_{k+1} = \\pa{1-\\frac{\\mu}{2}} \\tilde x_k + \\frac{\\mu}{2} \\text{rprox}_F( \\text{rprox}_\\gamma(\\tilde x_k)  )\n",
    "\\qandq x_k = \\text{prox}_\\gamma(\\tilde x_k) $$\n",
    "\n",
    "\n",
    "The second algorithm, (DR2), reads:\n",
    "$$ \\tilde x_{k+1} = \\pa{1-\\frac{\\mu}{2}} \\tilde x_k + \\frac{\\mu}{2} \\text{rprox}_{\\gamma G}( \\text{rprox}_F(\\tilde x_k)  )\n",
    "\\qandq x_k = \\text{Prox}_F(\\tilde x_k) $$\n",
    "\n",
    "\n",
    "The advantage of (DR2) is the the iterates $x_k$ always satisfy\n",
    "$Ax_k=y$, so that one can only keep track of the evolution of the\n",
    "$\\ell^1$ norm during the iterations. We will use only (DR2) in the\n",
    "following.\n",
    "\n",
    "\n",
    "Set the value of $\\mu$ and $\\gamma$.\n",
    "You might consider using your own value to speed up the convergence."
   ]
  },
  {
   "cell_type": "code",
   "execution_count": 144,
   "metadata": {
    "collapsed": false,
    "deletable": true,
    "editable": true
   },
   "outputs": [],
   "source": [
    "mu = 1\n",
    "gamma = 1"
   ]
  },
  {
   "cell_type": "markdown",
   "metadata": {
    "deletable": true,
    "editable": true
   },
   "source": [
    "Define the rprox operators."
   ]
  },
  {
   "cell_type": "code",
   "execution_count": 145,
   "metadata": {
    "collapsed": false,
    "deletable": true,
    "editable": true
   },
   "outputs": [],
   "source": [
    "rproxG = function(x,tau){2 * proxG(x,tau) - x}\n",
    "rproxF = function(x, tau){2 * proxF(x,tau) - x}"
   ]
  },
  {
   "cell_type": "markdown",
   "metadata": {
    "deletable": true,
    "editable": true
   },
   "source": [
    "Number of iterations."
   ]
  },
  {
   "cell_type": "code",
   "execution_count": 146,
   "metadata": {
    "collapsed": false,
    "deletable": true,
    "editable": true
   },
   "outputs": [],
   "source": [
    "niter = 500"
   ]
  },
  {
   "cell_type": "markdown",
   "metadata": {
    "deletable": true,
    "editable": true
   },
   "source": [
    "__Exercise 1__\n",
    "\n",
    "Implement the DR iterative algorithm on |niter| iterations.\n",
    "Keep track of the evolution of the $\\ell^1$ norm."
   ]
  },
  {
   "cell_type": "code",
   "execution_count": 147,
   "metadata": {
    "collapsed": false,
    "deletable": true,
    "editable": true
   },
   "outputs": [
    {
     "data": {
      "image/png": "[encoded data removed]",
      "text/plain": [
       "plot without title"
      ]
     },
     "metadata": {},
     "output_type": "display_data"
    }
   ],
   "source": [
    "lun = c()\n",
    "err = c()\n",
    "tx = zeros(n,1)\n",
    "\n",
    "for (i in 1:niter)\n",
    "{\n",
    "    tx = (1 - (mu/2)) * tx + (mu / 2) * rproxG(rproxF(tx, y), gamma)\n",
    "    x = proxF(tx,y)\n",
    "    lun = c(lun, l1_norm(x))\n",
    "    err = c(norm(y - A %*% x))\n",
    "}\n",
    "\n",
    "plot(lun, type=\"l\", col=\"blue\", ylab=\"||x|_1\", xlab=\"Nb of iterations\")"
   ]
  },
  {
   "cell_type": "markdown",
   "metadata": {
    "deletable": true,
    "editable": true
   },
   "source": [
    "We display the convergence speed of the $\\ell^1$ norm on the first half iterations, in log\n",
    "scales."
   ]
  },
  {
   "cell_type": "code",
   "execution_count": 148,
   "metadata": {
    "collapsed": false,
    "deletable": true,
    "editable": true
   },
   "outputs": [
    {
     "data": {
      "image/png": "[encoded data removed]",
      "text/plain": [
       "plot without title"
      ]
     },
     "metadata": {},
     "output_type": "display_data"
    }
   ],
   "source": [
    "plot(log10(lun[1: (niter/2)]- lun[niter]), col=\"blue\", ylab=\"log10(||x|_1)\", xlab=\"Nb of iterations\", type=\"l\")"
   ]
  },
  {
   "cell_type": "markdown",
   "metadata": {
    "deletable": true,
    "editable": true
   },
   "source": [
    "Display the original and the recovered signals.\n",
    "Since the original signal is highly sparse, it is perfectly recovered."
   ]
  },
  {
   "cell_type": "code",
   "execution_count": 149,
   "metadata": {
    "collapsed": false,
    "deletable": true,
    "editable": true
   },
   "outputs": [
    {
     "data": {
      "image/png": "[encoded data removed]",
      "text/plain": [
       "Plot with title “Original Signal”"
      ]
     },
     "metadata": {},
     "output_type": "display_data"
    },
    {
     "data": {
      "image/png": "[encoded data removed]",
      "text/plain": [
       "Plot with title “Recovered Signal”"
      ]
     },
     "metadata": {},
     "output_type": "display_data"
    }
   ],
   "source": [
    "options(repr.plot.width=5, repr.plot.height=3)\n",
    "stemplot(x0, ylab=\"\", xlab=\"\", main=\"Original Signal\", ylim=c(-1,1))\n",
    "stemplot(x, ylab=\"\", xlab=\"\", main=\"Recovered Signal\", ylim=c(-1,1))"
   ]
  },
  {
   "cell_type": "markdown",
   "metadata": {
    "deletable": true,
    "editable": true
   },
   "source": [
    "__Exercise 2__\n",
    "\n",
    "Test the recovery of a less sparse signal.\n",
    "What do you observe ?"
   ]
  },
  {
   "cell_type": "code",
   "execution_count": 150,
   "metadata": {
    "collapsed": false,
    "deletable": true,
    "editable": true
   },
   "outputs": [
    {
     "data": {
      "image/png": "[encoded data removed]",
      "text/plain": [
       "Plot with title “Original Signal”"
      ]
     },
     "metadata": {},
     "output_type": "display_data"
    },
    {
     "data": {
      "image/png": "[encoded data removed]",
      "text/plain": [
       "Plot with title “Recovered Signal”"
      ]
     },
     "metadata": {},
     "output_type": "display_data"
    }
   ],
   "source": [
    "s = 31\n",
    "sel = sample(c(1 : n))\n",
    "x0 = zeros(n, 1)\n",
    "x0[sel[1:s]] = 1\n",
    "y = A %*% x0\n",
    "\n",
    "tx = zeros(n,1)\n",
    "\n",
    "for (i in 1:niter)\n",
    "{\n",
    "    tx = (1 - (mu/2)) * tx + (mu / 2) * rproxG(rproxF(tx, y), gamma)\n",
    "    x = proxF(tx,y)\n",
    "}\n",
    "\n",
    "\n",
    "options(repr.plot.width=5, repr.plot.height=3)\n",
    "stemplot(x0, ylab=\"\", xlab=\"\", main=\"Original Signal\", ylim=c(-1,1))\n",
    "stemplot(x, ylab=\"\", xlab=\"\", main=\"Recovered Signal\", ylim=c(-1,1))"
   ]
  },
  {
   "cell_type": "markdown",
   "metadata": {
    "deletable": true,
    "editable": true
   },
   "source": [
    "Evaluation of the CS Recovery Probability\n",
    "-----------------------------------------\n",
    "In order to bench in a randomized manner the efficiency of compressed\n",
    "sensing, we compute the probability $p_s$ for a $s$-sparse signal\n",
    "with random non-zero coefficient locations to be recovered by $\\ell^1$\n",
    "minimization.\n",
    "\n",
    "\n",
    "Put formally, if we call $ x^\\star(y) $ the resolution of the $\\ell^1$\n",
    "problem using measurements $y$, then we want to compute with\n",
    "Monte-Carlo sampling\n",
    "$$ p_s = \\mathbb{P}( x^\\star(Ax)=x \\:\\backslash\\: \\norm{x}_0=s ) $$\n",
    "\n",
    "\n",
    "An important feature of the DR algorithm is that it can be run on many\n",
    "signal at once.\n",
    "\n",
    "\n",
    "Number of signals."
   ]
  },
  {
   "cell_type": "code",
   "execution_count": 151,
   "metadata": {
    "collapsed": false,
    "deletable": true,
    "editable": true
   },
   "outputs": [],
   "source": [
    "q = 1000"
   ]
  },
  {
   "cell_type": "markdown",
   "metadata": {
    "deletable": true,
    "editable": true
   },
   "source": [
    "List of benched sparsity."
   ]
  },
  {
   "cell_type": "code",
   "execution_count": 152,
   "metadata": {
    "collapsed": false,
    "deletable": true,
    "editable": true
   },
   "outputs": [],
   "source": [
    "slist = seq(14, 42, 2)"
   ]
  },
  {
   "cell_type": "markdown",
   "metadata": {
    "deletable": true,
    "editable": true
   },
   "source": [
    "List of sparsity of each signal"
   ]
  },
  {
   "cell_type": "code",
   "execution_count": 153,
   "metadata": {
    "collapsed": false,
    "deletable": true,
    "editable": true
   },
   "outputs": [],
   "source": [
    "Slist = slist[mod(c(1 : q), length(slist)) + 1]\n",
    "\n",
    "# Genetate signals so that |x0(:,j)| has sparsity |Slist(j)|.\n",
    "U = rand(n,q)\n",
    "v = c(apply(U,2,sort))\n",
    "v = v[c(0: (q - 1)) * n + Slist]\n",
    "x0 = 1 * (U <= t(matrix(rep(v, n), ncol=n)))"
   ]
  },
  {
   "cell_type": "markdown",
   "metadata": {
    "deletable": true,
    "editable": true
   },
   "source": [
    "Measurements."
   ]
  },
  {
   "cell_type": "code",
   "execution_count": 154,
   "metadata": {
    "collapsed": false,
    "deletable": true,
    "editable": true
   },
   "outputs": [],
   "source": [
    "y = A %*% x0"
   ]
  },
  {
   "cell_type": "markdown",
   "metadata": {
    "deletable": true,
    "editable": true
   },
   "source": [
    "__Exercise 3__\n",
    "\n",
    "Perform DR on the set of signals |x0|. Note that the proximal mappings\n",
    "operate in parallel on all the signals in |x0|.\n",
    "Each |i|, count the average number |proba(i)|\n",
    "of recovered vectors of sparsity |slist(i)| (up to a given, small, precision)."
   ]
  },
  {
   "cell_type": "code",
   "execution_count": 156,
   "metadata": {
    "collapsed": false,
    "deletable": true,
    "editable": true
   },
   "outputs": [
    {
     "data": {
      "image/png": "[encoded data removed]",
      "text/plain": [
       "Plot with title “Evaluation of the CS Recovery Probability”"
      ]
     },
     "metadata": {},
     "output_type": "display_data"
    }
   ],
   "source": [
    "tx = x0\n",
    "niter = 2000\n",
    "for (i in 1:niter)\n",
    "{\n",
    "    tx = (1 - (mu / 2)) * tx + (mu / 2) * rproxG(rproxF(tx,y),gamma)\n",
    "    x = proxF(tx,y)\n",
    "}\n",
    "\n",
    "proba = c()\n",
    "E = 1 * (apply(abs(x - x0),2,mean) < .05)\n",
    "\n",
    "for (j in c(1:length(slist)))\n",
    "{\n",
    "    s = slist[j]\n",
    "    proba = c(proba, mean(E[Slist==s]))\n",
    "}\n",
    "\n",
    "plot(slist, proba, type=\"l\", col=\"blue\", xlab=\"Sparsity\",\n",
    "     ylab=\"Proba\", main=\"Evaluation of the CS Recovery Probability\")"
   ]
  }
 ],
 "metadata": {
  "kernelspec": {
   "display_name": "R",
   "language": "R",
   "name": "ir"
  },
  "language_info": {
   "codemirror_mode": "r",
   "file_extension": ".r",
   "mimetype": "text/x-r-source",
   "name": "R",
   "pygments_lexer": "r",
   "version": "3.4.2"
  }
 },
 "nbformat": 4,
 "nbformat_minor": 0
}
