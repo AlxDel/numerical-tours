{
 "cells": [
  {
   "cell_type": "markdown",
   "metadata": {},
   "source": [
    "Optimal Transport with Linear Programming\n",
    "=========================================\n",
    "\n",
    "*Important:* Please read the [installation page](http://gpeyre.github.io/numerical-tours/installation_python/) for details about how to install the toolboxes.\n",
    "$\\newcommand{\\dotp}[2]{\\langle #1, #2 \\rangle}$\n",
    "$\\newcommand{\\enscond}[2]{\\lbrace #1, #2 \\rbrace}$\n",
    "$\\newcommand{\\pd}[2]{ \\frac{ \\partial #1}{\\partial #2} }$\n",
    "$\\newcommand{\\umin}[1]{\\underset{#1}{\\min}\\;}$\n",
    "$\\newcommand{\\umax}[1]{\\underset{#1}{\\max}\\;}$\n",
    "$\\newcommand{\\umin}[1]{\\underset{#1}{\\min}\\;}$\n",
    "$\\newcommand{\\uargmin}[1]{\\underset{#1}{argmin}\\;}$\n",
    "$\\newcommand{\\norm}[1]{\\|#1\\|}$\n",
    "$\\newcommand{\\abs}[1]{\\left|#1\\right|}$\n",
    "$\\newcommand{\\choice}[1]{ \\left\\{  \\begin{array}{l} #1 \\end{array} \\right. }$\n",
    "$\\newcommand{\\pa}[1]{\\left(#1\\right)}$\n",
    "$\\newcommand{\\diag}[1]{{diag}\\left( #1 \\right)}$\n",
    "$\\newcommand{\\qandq}{\\quad\\text{and}\\quad}$\n",
    "$\\newcommand{\\qwhereq}{\\quad\\text{where}\\quad}$\n",
    "$\\newcommand{\\qifq}{ \\quad \\text{if} \\quad }$\n",
    "$\\newcommand{\\qarrq}{ \\quad \\Longrightarrow \\quad }$\n",
    "$\\newcommand{\\ZZ}{\\mathbb{Z}}$\n",
    "$\\newcommand{\\CC}{\\mathbb{C}}$\n",
    "$\\newcommand{\\RR}{\\mathbb{R}}$\n",
    "$\\newcommand{\\EE}{\\mathbb{E}}$\n",
    "$\\newcommand{\\Zz}{\\mathcal{Z}}$\n",
    "$\\newcommand{\\Ww}{\\mathcal{W}}$\n",
    "$\\newcommand{\\Vv}{\\mathcal{V}}$\n",
    "$\\newcommand{\\Nn}{\\mathcal{N}}$\n",
    "$\\newcommand{\\NN}{\\mathcal{N}}$\n",
    "$\\newcommand{\\Hh}{\\mathcal{H}}$\n",
    "$\\newcommand{\\Bb}{\\mathcal{B}}$\n",
    "$\\newcommand{\\Ee}{\\mathcal{E}}$\n",
    "$\\newcommand{\\Cc}{\\mathcal{C}}$\n",
    "$\\newcommand{\\Gg}{\\mathcal{G}}$\n",
    "$\\newcommand{\\Ss}{\\mathcal{S}}$\n",
    "$\\newcommand{\\Pp}{\\mathcal{P}}$\n",
    "$\\newcommand{\\Ff}{\\mathcal{F}}$\n",
    "$\\newcommand{\\Xx}{\\mathcal{X}}$\n",
    "$\\newcommand{\\Mm}{\\mathcal{M}}$\n",
    "$\\newcommand{\\Ii}{\\mathcal{I}}$\n",
    "$\\newcommand{\\Dd}{\\mathcal{D}}$\n",
    "$\\newcommand{\\Ll}{\\mathcal{L}}$\n",
    "$\\newcommand{\\Tt}{\\mathcal{T}}$\n",
    "$\\newcommand{\\si}{\\sigma}$\n",
    "$\\newcommand{\\al}{\\alpha}$\n",
    "$\\newcommand{\\la}{\\lambda}$\n",
    "$\\newcommand{\\ga}{\\gamma}$\n",
    "$\\newcommand{\\Ga}{\\Gamma}$\n",
    "$\\newcommand{\\La}{\\Lambda}$\n",
    "$\\newcommand{\\si}{\\sigma}$\n",
    "$\\newcommand{\\Si}{\\Sigma}$\n",
    "$\\newcommand{\\be}{\\beta}$\n",
    "$\\newcommand{\\de}{\\delta}$\n",
    "$\\newcommand{\\De}{\\Delta}$\n",
    "$\\newcommand{\\phi}{\\varphi}$\n",
    "$\\newcommand{\\th}{\\theta}$\n",
    "$\\newcommand{\\om}{\\omega}$\n",
    "$\\newcommand{\\Om}{\\Omega}$"
   ]
  },
  {
   "cell_type": "markdown",
   "metadata": {},
   "source": [
    "This numerical tours details how to solve the discrete optimal transport\n",
    "problem (in the case of measures that are sums of Diracs) using linear\n",
    "programming."
   ]
  },
  {
   "cell_type": "code",
   "execution_count": 1,
   "metadata": {
    "collapsed": false
   },
   "outputs": [
    {
     "name": "stderr",
     "output_type": "stream",
     "text": [
      "Loading required package: plyr\n",
      "Loading required package: magrittr\n",
      "\n",
      "Attaching package: 'imager'\n",
      "\n",
      "The following object is masked from 'package:magrittr':\n",
      "\n",
      "    add\n",
      "\n",
      "The following object is masked from 'package:plyr':\n",
      "\n",
      "    liply\n",
      "\n",
      "The following objects are masked from 'package:stats':\n",
      "\n",
      "    convolve, spectrum\n",
      "\n",
      "The following object is masked from 'package:graphics':\n",
      "\n",
      "    frame\n",
      "\n",
      "The following object is masked from 'package:base':\n",
      "\n",
      "    save.image\n",
      "\n"
     ]
    }
   ],
   "source": [
    "options(repr.plot.width=3.5, repr.plot.height=3.5)\n",
    "options(warn=-1) # turns off warnings, to turn on: \"options(warn=0)\"\n",
    "\n",
    "\n",
    "library(imager)\n",
    "library(png)\n",
    "\n",
    "source(\"nt_toolbox/general.R\")\n",
    "source(\"nt_toolbox/signal.R\")"
   ]
  },
  {
   "cell_type": "markdown",
   "metadata": {},
   "source": [
    "Optimal Transport of Discrete Distribution\n",
    "------------------------------------------\n",
    "We consider two dicretes distributions\n",
    "$$ \\forall k=0,1, \\quad \\mu_k = \\sum_{i=1}^{n_k} p_{k,i} \\de_{x_{k,i}} $$\n",
    "where $n_0,n_1$ are the number of points, $\\de_x$ is the Dirac at\n",
    "location $x \\in \\RR^d$, and $ X_k = ( x_{k,i} )_{i=1}^{n_k} \\subset \\RR^d$ for $k=0,1$\n",
    "are two point clouds.\n",
    "\n",
    "\n",
    "We define the set of couplings between $\\mu_0,\\mu_1$ as\n",
    "\n",
    "$$ \\Pp = \\enscond{ (\\ga_{i,j})_{i,j} \\in (\\RR^+)^{n_0 \\times n_1} }{\n",
    "     \\forall i, \\sum_j \\ga_{i,j} = p_{0,i}, \\:\n",
    "     \\forall j, \\sum_i \\ga_{i,j} = p_{1,j} } $$\n",
    "\n",
    "\n",
    "The Kantorovitch formulation of the optimal transport reads\n",
    "\n",
    "$$ \\ga^\\star \\in \\uargmin{\\ga \\in \\Pp} \\sum_{i,j} \\ga_{i,j} C_{i,j}  $$\n",
    "where $C_{i,j} \\geq 0$ is the cost of moving some mass from $x_{0,i}$\n",
    "to $x_{1,j}$.\n",
    "\n",
    "\n",
    "The optimal coupling $\\ga^\\star$ can be shown to be a sparse matrix\n",
    "with less than $n_0+n_1-1$ non zero entries. An entry $\\ga_{i,j}^\\star \\neq 0$\n",
    "should be understood as a link between $x_{0,i}$\n",
    "and $x_{1,j}$ where an amount of mass equal to $\\ga_{i,j}^\\star$ is transfered.\n",
    "\n",
    "\n",
    "In the following, we concentrate on the $L^2$ Wasserstein distance.\n",
    "$$ C_{i,j}=\\norm{x_{0,i}-x_{1,j}}^2. $$\n",
    "\n",
    "\n",
    "The $L^2$ Wasserstein distance is then defined as\n",
    "$$ W_2(\\mu_0,\\mu_1)^2 = \\sum_{i,j} \\ga_{i,j}^\\star C_{i,j}. $$\n",
    "\n",
    "\n",
    "The coupling constraint\n",
    "$$\n",
    "     \\forall i, \\sum_j \\ga_{i,j} = p_{0,i}, \\:\n",
    "     \\forall j, \\sum_i \\ga_{i,j} = p_{1,j}\n",
    "$$\n",
    "can be expressed in matrix form as\n",
    "$$ \\Sigma(n_0,n_1) \\ga = [p_0;p_1] $$\n",
    "where $ \\Sigma(n_0,n_1) \\in \\RR^{ (n_0+n_1) \\times (n_0 n_1) } $."
   ]
  },
  {
   "cell_type": "code",
   "execution_count": 2,
   "metadata": {
    "collapsed": true
   },
   "outputs": [],
   "source": [
    "library(\"Matrix\")\n",
    "\n",
    "Rows <- function(n0, n1){ sparseMatrix(rep(1:n0,times=n1), 1:(n0*n1), x=rep(1, n0*n1)) }\n",
    "\n",
    "Cols <- function(n0, n1){ sparseMatrix(rep(1:n1,each=n0), 1:(n0*n1), x=rep(1, n0*n1)) }\n",
    "\n",
    "Sigma <- function(n0,n1){ rBind(Rows(n0,n1),Cols(n0,n1)) }"
   ]
  },
  {
   "cell_type": "markdown",
   "metadata": {},
   "source": [
    "We use a simplex algorithm to compute the optimal transport coupling\n",
    "$\\ga^\\star$."
   ]
  },
  {
   "cell_type": "code",
   "execution_count": 3,
   "metadata": {
    "collapsed": true
   },
   "outputs": [],
   "source": [
    "source(\"nt_toolbox/perform_linprog.R\")\n",
    "\n",
    "maxit <- 1e+4\n",
    "tol <- 1e-9\n",
    "otransp <- function(C,p0,p1){ array(perform_linprog(as.matrix(Sigma(length(p0),length(p1))),array(c(p0,p1),c(length(p0)+length(p1),1)),C,maxit,tol),c(n0,n1)) }"
   ]
  },
  {
   "cell_type": "markdown",
   "metadata": {},
   "source": [
    "Dimensions $n_0, n_1$ of the clouds."
   ]
  },
  {
   "cell_type": "code",
   "execution_count": 4,
   "metadata": {
    "collapsed": true
   },
   "outputs": [],
   "source": [
    "n0 <- 60\n",
    "n1 <- 80"
   ]
  },
  {
   "cell_type": "markdown",
   "metadata": {},
   "source": [
    "Compute a first point cloud $X_0$ that is Gaussian, and a second point cloud $X_1$ that is Gaussian mixture."
   ]
  },
  {
   "cell_type": "code",
   "execution_count": 5,
   "metadata": {
    "collapsed": false
   },
   "outputs": [],
   "source": [
    "gauss <- function(q,a,c){ a*array(rnorm(2*q), c(2,q)) + array(rep(c, q), c(length(c),q)) }\n",
    "X0 <- array(rnorm(2*n0), c(2,n0))*.3\n",
    "X1 <- cbind(gauss(n1/2,.5,c(0,1.6)),\n",
    "            cbind(gauss(n1/4,.3,c(-1,-1)),\n",
    "                  gauss(n1/4,.3,c(1,-1))))"
   ]
  },
  {
   "cell_type": "markdown",
   "metadata": {},
   "source": [
    "Density weights $p_0, p_1$."
   ]
  },
  {
   "cell_type": "code",
   "execution_count": 6,
   "metadata": {
    "collapsed": false
   },
   "outputs": [],
   "source": [
    "normalize <- function(a){ a/sum(a) }\n",
    "p0 <- normalize(array(runif(n0), c(n0, 1)))\n",
    "p1 <- normalize(array(runif(n1), c(n1, 1)))"
   ]
  },
  {
   "cell_type": "markdown",
   "metadata": {},
   "source": [
    "Shortcut for display."
   ]
  },
  {
   "cell_type": "code",
   "execution_count": 7,
   "metadata": {
    "collapsed": true
   },
   "outputs": [],
   "source": [
    "myplot <- function(x,y,cex,col){ points(x,y, pch=21, cex=(cex*1.5), col=\"black\", bg=col, lwd=2) }"
   ]
  },
  {
   "cell_type": "markdown",
   "metadata": {},
   "source": [
    "Display the point clouds.\n",
    "The size of each dot is proportional to its probability density weight."
   ]
  },
  {
   "cell_type": "code",
   "execution_count": 8,
   "metadata": {
    "collapsed": false
   },
   "outputs": [
    {
     "data": {
      "image/png": "[encoded data removed]",
      "text/plain": [
       "plot without title"
      ]
     },
     "metadata": {},
     "output_type": "display_data"
    }
   ],
   "source": [
    "options(repr.plot.width=7, repr.plot.height=5)\n",
    "\n",
    "plot(1, type=\"n\", axes=F, xlab=\"\", ylab=\"\",\n",
    "     xlim=c(min(X1[1,])-.1, max(X1[1,])+.1),\n",
    "     ylim=c(min(X1[2,])-.1, max(X1[2,])+.1))\n",
    "\n",
    "for (i in 1:length(p0)){\n",
    "    myplot(X0[1,i], X0[2,i], p0[i]*length(p0), 'blue')\n",
    "}\n",
    "\n",
    "for (i in 1:length(p1)){\n",
    "    myplot(X1[1,i], X1[2,i], p1[i]*length(p1), 'red')\n",
    "}"
   ]
  },
  {
   "cell_type": "markdown",
   "metadata": {},
   "source": [
    "Compute the weight matrix $ (C_{i,j})_{i,j}. $"
   ]
  },
  {
   "cell_type": "code",
   "execution_count": 9,
   "metadata": {
    "collapsed": true
   },
   "outputs": [],
   "source": [
    "C <- array(rep(apply(X0**2,2,sum),n1), c(n0,n1)) + array(rep(apply(X1**2,2,sum), each=n0), c(n0,n1)) - 2*t(X0)%*%X1"
   ]
  },
  {
   "cell_type": "markdown",
   "metadata": {},
   "source": [
    "Compute the optimal transport plan."
   ]
  },
  {
   "cell_type": "code",
   "execution_count": 10,
   "metadata": {
    "collapsed": false
   },
   "outputs": [],
   "source": [
    "gamma <- otransp(C, p0, p1)"
   ]
  },
  {
   "cell_type": "markdown",
   "metadata": {},
   "source": [
    "Check that the number of non-zero entries in $\\ga^\\star$ is $n_0+n_1-1$."
   ]
  },
  {
   "cell_type": "code",
   "execution_count": 11,
   "metadata": {
    "collapsed": false
   },
   "outputs": [
    {
     "name": "stdout",
     "output_type": "stream",
     "text": [
      "[1] \"Number of non-zero: 139 (n0 + n1-1 = 139 )\"\n"
     ]
    }
   ],
   "source": [
    "print(paste(\"Number of non-zero:\", length(gamma[gamma>0]), \"(n0 + n1-1 =\", n0 + n1-1,\")\"))"
   ]
  },
  {
   "cell_type": "markdown",
   "metadata": {},
   "source": [
    "Check that the solution satifies the constraints $\\ga \\in \\Cc$."
   ]
  },
  {
   "cell_type": "code",
   "execution_count": 12,
   "metadata": {
    "collapsed": false
   },
   "outputs": [
    {
     "name": "stdout",
     "output_type": "stream",
     "text": [
      "[1] \"Constraints deviation (should be 0): 2.09068366667404e-17 9.23037542831273e-18\"\n"
     ]
    }
   ],
   "source": [
    "print(paste(\"Constraints deviation (should be 0):\",\n",
    "            norm(apply(gamma, 1, sum) - as.vector(p0)),\n",
    "            norm(apply(gamma, 2, sum) - as.vector(p1)) ))"
   ]
  },
  {
   "cell_type": "markdown",
   "metadata": {
    "collapsed": true
   },
   "source": [
    "Displacement Interpolation\n",
    "--------------------------\n",
    "For any $t \\in [0,1]$, one can define a distribution $\\mu_t$ such\n",
    "that $t \\mapsto \\mu_t$ defines a geodesic for the Wasserstein metric.\n",
    "\n",
    "\n",
    "Since the $W_2$ distance is a geodesic distance, this geodesic path solves the\n",
    "following variational problem\n",
    "\n",
    "$$ \\mu_t = \\uargmin{\\mu} (1-t)W_2(\\mu_0,\\mu)^2 + t W_2(\\mu_1,\\mu)^2. $$\n",
    "This can be understood as a generalization of the usual Euclidean\n",
    "barycenter to barycenter of distribution. Indeed, in the case that\n",
    "$\\mu_k = \\de_{x_k}$, one has $\\mu_t=\\de_{x_t}$ where $ x_t =\n",
    "(1-t)x_0+t x_1 $.\n",
    "\n",
    "\n",
    "Once the optimal coupling $\\ga^\\star$ has been computed, the\n",
    "interpolated distribution is obtained as\n",
    "\n",
    "$$ \\mu_t = \\sum_{i,j} \\ga^\\star_{i,j} \\de_{(1-t)x_{0,i} + t x_{1,j}}. $$\n",
    "\n",
    "\n",
    "Find the $i,j$ with non-zero $\\ga_{i,j}^\\star$."
   ]
  },
  {
   "cell_type": "code",
   "execution_count": 13,
   "metadata": {
    "collapsed": true
   },
   "outputs": [],
   "source": [
    "nonzero <- function(X){\n",
    "    n_r <- dim(X)[1]\n",
    "    idx <- which(X != 0)\n",
    "    I <- mod(idx-1,n_r)+1\n",
    "    J <- ceiling(idx/n_r)\n",
    "    return(list(I=I, J=J))\n",
    "}\n",
    "nonzero_gamma <- nonzero(gamma)\n",
    "I <- nonzero_gamma$I ; J <- nonzero_gamma$J"
   ]
  },
  {
   "cell_type": "code",
   "execution_count": 14,
   "metadata": {
    "collapsed": true
   },
   "outputs": [],
   "source": [
    "gammaij <- gamma[which(gamma != 0)]"
   ]
  },
  {
   "cell_type": "markdown",
   "metadata": {},
   "source": [
    "Display the evolution of $\\mu_t$ for a varying value of $t \\in [0,1]$."
   ]
  },
  {
   "cell_type": "code",
   "execution_count": 15,
   "metadata": {
    "collapsed": false
   },
   "outputs": [
    {
     "data": {
      "image/png": "[encoded data removed]",
      "text/plain": [
       "Plot with title \"t = 1\""
      ]
     },
     "metadata": {},
     "output_type": "display_data"
    }
   ],
   "source": [
    "options(repr.plot.width=7, repr.plot.height=7)\n",
    "\n",
    "tlist = seq(0, 1, length=6)\n",
    "par(mfrow=c(2,3))\n",
    "\n",
    "for (i in 1:length(tlist)){\n",
    "    t <- tlist[i]\n",
    "    Xt <- (1-t)*X0[,I] + t*X1[,J]\n",
    "    \n",
    "    plot(1, type=\"n\", axes=F, xlab=\"\", ylab=\"\", main=paste(\"t =\", t),\n",
    "     xlim=c(min(X1[1,])-.1, max(X1[1,])+.1),\n",
    "     ylim=c(min(X1[2,])-.1, max(X1[2,])+.1))\n",
    "    \n",
    "    for (j in 1:length(gammaij)){\n",
    "        myplot(Xt[1,j],Xt[2,j],gammaij[j]*length(gammaij),rgb(t,0,1-t))\n",
    "    }\n",
    "        \n",
    "}"
   ]
  },
  {
   "cell_type": "markdown",
   "metadata": {},
   "source": [
    "Optimal Assignement\n",
    "-------------------\n",
    "In the case where the weights $p_{0,i}=1/n, p_{1,i}=1/n$ (where $n_0=n_1=n$) are\n",
    "constants, one can show that the optimal transport coupling is actually a\n",
    "permutation matrix. This properties comes from the fact that\n",
    "the extremal point of the polytope $\\Cc$ are permutation matrices.\n",
    "\n",
    "\n",
    "This means that there exists an optimal permutation $ \\si^\\star \\in \\Sigma_n $ such\n",
    "that\n",
    "\n",
    "$$ \\ga^\\star_{i,j} = \\choice{\n",
    "      1 \\qifq j=\\si^\\star(i), \\\\\n",
    "      0 \\quad\\text{otherwise}.\n",
    "  } $$\n",
    "  \n",
    "where $\\Si_n$ is the set of permutation (bijections) of\n",
    "$\\{1,\\ldots,n\\}$.\n",
    "\n",
    "\n",
    "This permutation thus solves the so-called optimal assignement problem\n",
    "\n",
    "$$ \\si^\\star \\in \\uargmin{\\si \\in \\Sigma_n}\n",
    "      \\sum_{i} C_{i,\\si(j)}. $$\n",
    "\n",
    "\n",
    "Same number of points."
   ]
  },
  {
   "cell_type": "code",
   "execution_count": 16,
   "metadata": {
    "collapsed": true
   },
   "outputs": [],
   "source": [
    "n0 <- 40\n",
    "n1 <- n0"
   ]
  },
  {
   "cell_type": "markdown",
   "metadata": {},
   "source": [
    "Compute points clouds."
   ]
  },
  {
   "cell_type": "code",
   "execution_count": 17,
   "metadata": {
    "collapsed": true
   },
   "outputs": [],
   "source": [
    "X0 <- array(rnorm(2*n0), c(2,n0))*.3\n",
    "X1 <- cbind(gauss(n1/2,.5,c(0,1.6)),\n",
    "            cbind(gauss(n1/4,.3,c(-1,-1)),\n",
    "                  gauss(n1/4,.3,c(1,-1))))"
   ]
  },
  {
   "cell_type": "markdown",
   "metadata": {},
   "source": [
    "Constant distributions."
   ]
  },
  {
   "cell_type": "code",
   "execution_count": 18,
   "metadata": {
    "collapsed": true
   },
   "outputs": [],
   "source": [
    "p0 <- array(1, c(n0,1))/n0\n",
    "p1 <- array(1, c(n1,1))/n1"
   ]
  },
  {
   "cell_type": "markdown",
   "metadata": {},
   "source": [
    "Compute the weight matrix $ (C_{i,j})_{i,j}. $"
   ]
  },
  {
   "cell_type": "code",
   "execution_count": 19,
   "metadata": {
    "collapsed": true
   },
   "outputs": [],
   "source": [
    "C <- array(rep(apply(X0**2,2,sum),n1), c(n0,n1)) + array(rep(apply(X1**2,2,sum), each=n0), c(n0,n1)) - 2*t(X0)%*%X1"
   ]
  },
  {
   "cell_type": "markdown",
   "metadata": {},
   "source": [
    "Display the coulds."
   ]
  },
  {
   "cell_type": "code",
   "execution_count": 20,
   "metadata": {
    "collapsed": false
   },
   "outputs": [
    {
     "data": {
      "image/png": "[encoded data removed]",
      "text/plain": [
       "plot without title"
      ]
     },
     "metadata": {},
     "output_type": "display_data"
    }
   ],
   "source": [
    "options(repr.plot.width=7, repr.plot.height=5)\n",
    "\n",
    "plot(1, type=\"n\", axes=F, xlab=\"\", ylab=\"\",\n",
    "     xlim=c(min(X1[1,])-.1, max(X1[1,])+.1),\n",
    "     ylim=c(min(X1[2,])-.1, max(X1[2,])+.1))\n",
    "\n",
    "myplot(X0[1,],X0[2,],1,\"blue\")\n",
    "myplot(X1[1,],X1[2,],1,\"red\")"
   ]
  },
  {
   "cell_type": "markdown",
   "metadata": {},
   "source": [
    "Solve the optimal transport."
   ]
  },
  {
   "cell_type": "code",
   "execution_count": 21,
   "metadata": {
    "collapsed": false
   },
   "outputs": [],
   "source": [
    "source(\"nt_toolbox/perform_linprog.R\")\n",
    "\n",
    "gamma <- otransp(C, p0, p1)"
   ]
  },
  {
   "cell_type": "markdown",
   "metadata": {},
   "source": [
    "Show that $\\ga$ is a binary permutation matrix."
   ]
  },
  {
   "cell_type": "code",
   "execution_count": 22,
   "metadata": {
    "collapsed": false
   },
   "outputs": [
    {
     "data": {
      "image/png": "[encoded data removed]",
      "text/plain": [
       "Plot with title \"\""
      ]
     },
     "metadata": {},
     "output_type": "display_data"
    }
   ],
   "source": [
    "options(repr.plot.width=3.5, repr.plot.height=3.5)\n",
    "\n",
    "imageplot(gamma)"
   ]
  },
  {
   "cell_type": "markdown",
   "metadata": {},
   "source": [
    "Display the optimal assignement."
   ]
  },
  {
   "cell_type": "code",
   "execution_count": 23,
   "metadata": {
    "collapsed": false
   },
   "outputs": [
    {
     "data": {
      "image/png": "[encoded data removed]",
      "text/plain": [
       "plot without title"
      ]
     },
     "metadata": {},
     "output_type": "display_data"
    }
   ],
   "source": [
    "nonzero_gamma <- nonzero(gamma)\n",
    "I <- nonzero_gamma$I ; J <- nonzero_gamma$J\n",
    "\n",
    "options(repr.plot.width=7, repr.plot.height=5)\n",
    "\n",
    "plot(1, type=\"n\", axes=F, xlab=\"\", ylab=\"\",\n",
    "     xlim=c(min(X1[1,])-.1, max(X1[1,])+.1),\n",
    "     ylim=c(min(X1[2,])-.1, max(X1[2,])+.1))\n",
    "\n",
    "for (k in 1:length(I)){\n",
    "    lines(c(X0[1,I[k]], X1[1,J[k]]),\n",
    "          c(X0[2,I[k]], X1[2,J[k]]),\n",
    "          lwd=2)\n",
    "}\n",
    "\n",
    "myplot(X0[1,],X0[2,],1,\"blue\")\n",
    "myplot(X1[1,],X1[2,],1,\"red\")"
   ]
  },
  {
   "cell_type": "raw",
   "metadata": {},
   "source": [
    "<script>\n",
    "  $(document).ready(function(){\n",
    "      $('div.prompt').hide();\n",
    "  });\n",
    "</script>"
   ]
  }
 ],
 "metadata": {
  "anaconda-cloud": {},
  "kernelspec": {
   "display_name": "R",
   "language": "R",
   "name": "ir"
  },
  "language_info": {
   "codemirror_mode": "r",
   "file_extension": ".r",
   "mimetype": "text/x-r-source",
   "name": "R",
   "pygments_lexer": "r",
   "version": "3.3.2"
  }
 },
 "nbformat": 4,
 "nbformat_minor": 1
}
