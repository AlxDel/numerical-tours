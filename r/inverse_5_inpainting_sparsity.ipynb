{
 "cells": [
  {
   "cell_type": "markdown",
   "metadata": {
    "deletable": true,
    "editable": true
   },
   "source": [
    "Inpainting using Sparse Regularization\n",
    "======================================\n",
    "\n",
    "*Important:* Please read the [installation page](http://gpeyre.github.io/numerical-tours/installation_python/) for details about how to install the toolboxes.\n",
    "$\\newcommand{\\dotp}[2]{\\langle #1, #2 \\rangle}$\n",
    "$\\newcommand{\\enscond}[2]{\\lbrace #1, #2 \\rbrace}$\n",
    "$\\newcommand{\\pd}[2]{ \\frac{ \\partial #1}{\\partial #2} }$\n",
    "$\\newcommand{\\umin}[1]{\\underset{#1}{\\min}\\;}$\n",
    "$\\newcommand{\\umax}[1]{\\underset{#1}{\\max}\\;}$\n",
    "$\\newcommand{\\umin}[1]{\\underset{#1}{\\min}\\;}$\n",
    "$\\newcommand{\\uargmin}[1]{\\underset{#1}{argmin}\\;}$\n",
    "$\\newcommand{\\norm}[1]{\\|#1\\|}$\n",
    "$\\newcommand{\\abs}[1]{\\left|#1\\right|}$\n",
    "$\\newcommand{\\choice}[1]{ \\left\\{  \\begin{array}{l} #1 \\end{array} \\right. }$\n",
    "$\\newcommand{\\pa}[1]{\\left(#1\\right)}$\n",
    "$\\newcommand{\\diag}[1]{{diag}\\left( #1 \\right)}$\n",
    "$\\newcommand{\\qandq}{\\quad\\text{and}\\quad}$\n",
    "$\\newcommand{\\qwhereq}{\\quad\\text{where}\\quad}$\n",
    "$\\newcommand{\\qifq}{ \\quad \\text{if} \\quad }$\n",
    "$\\newcommand{\\qarrq}{ \\quad \\Longrightarrow \\quad }$\n",
    "$\\newcommand{\\ZZ}{\\mathbb{Z}}$\n",
    "$\\newcommand{\\CC}{\\mathbb{C}}$\n",
    "$\\newcommand{\\RR}{\\mathbb{R}}$\n",
    "$\\newcommand{\\EE}{\\mathbb{E}}$\n",
    "$\\newcommand{\\Zz}{\\mathcal{Z}}$\n",
    "$\\newcommand{\\Ww}{\\mathcal{W}}$\n",
    "$\\newcommand{\\Vv}{\\mathcal{V}}$\n",
    "$\\newcommand{\\Nn}{\\mathcal{N}}$\n",
    "$\\newcommand{\\NN}{\\mathcal{N}}$\n",
    "$\\newcommand{\\Hh}{\\mathcal{H}}$\n",
    "$\\newcommand{\\Bb}{\\mathcal{B}}$\n",
    "$\\newcommand{\\Ee}{\\mathcal{E}}$\n",
    "$\\newcommand{\\Cc}{\\mathcal{C}}$\n",
    "$\\newcommand{\\Gg}{\\mathcal{G}}$\n",
    "$\\newcommand{\\Ss}{\\mathcal{S}}$\n",
    "$\\newcommand{\\Pp}{\\mathcal{P}}$\n",
    "$\\newcommand{\\Ff}{\\mathcal{F}}$\n",
    "$\\newcommand{\\Xx}{\\mathcal{X}}$\n",
    "$\\newcommand{\\Mm}{\\mathcal{M}}$\n",
    "$\\newcommand{\\Ii}{\\mathcal{I}}$\n",
    "$\\newcommand{\\Dd}{\\mathcal{D}}$\n",
    "$\\newcommand{\\Ll}{\\mathcal{L}}$\n",
    "$\\newcommand{\\Tt}{\\mathcal{T}}$\n",
    "$\\newcommand{\\si}{\\sigma}$\n",
    "$\\newcommand{\\al}{\\alpha}$\n",
    "$\\newcommand{\\la}{\\lambda}$\n",
    "$\\newcommand{\\ga}{\\gamma}$\n",
    "$\\newcommand{\\Ga}{\\Gamma}$\n",
    "$\\newcommand{\\La}{\\Lambda}$\n",
    "$\\newcommand{\\si}{\\sigma}$\n",
    "$\\newcommand{\\Si}{\\Sigma}$\n",
    "$\\newcommand{\\be}{\\beta}$\n",
    "$\\newcommand{\\de}{\\delta}$\n",
    "$\\newcommand{\\De}{\\Delta}$\n",
    "$\\newcommand{\\phi}{\\varphi}$\n",
    "$\\newcommand{\\th}{\\theta}$\n",
    "$\\newcommand{\\om}{\\omega}$\n",
    "$\\newcommand{\\Om}{\\Omega}$"
   ]
  },
  {
   "cell_type": "markdown",
   "metadata": {
    "deletable": true,
    "editable": true
   },
   "source": [
    "This numerical tour explores the use of\n",
    "sparse energies to regularize the image inpaiting problem."
   ]
  },
  {
   "cell_type": "code",
   "execution_count": 1,
   "metadata": {
    "collapsed": false,
    "deletable": true,
    "editable": true
   },
   "outputs": [
    {
     "name": "stderr",
     "output_type": "stream",
     "text": [
      "Loading required package: plyr\n",
      "Loading required package: magrittr\n",
      "\n",
      "Attaching package: ‘magrittr’\n",
      "\n",
      "The following objects are masked from ‘package:pracma’:\n",
      "\n",
      "    and, mod, or\n",
      "\n",
      "\n",
      "Attaching package: ‘imager’\n",
      "\n",
      "The following object is masked from ‘package:magrittr’:\n",
      "\n",
      "    add\n",
      "\n",
      "The following object is masked from ‘package:plyr’:\n",
      "\n",
      "    liply\n",
      "\n",
      "The following objects are masked from ‘package:stats’:\n",
      "\n",
      "    convolve, spectrum\n",
      "\n",
      "The following object is masked from ‘package:graphics’:\n",
      "\n",
      "    frame\n",
      "\n",
      "The following object is masked from ‘package:base’:\n",
      "\n",
      "    save.image\n",
      "\n"
     ]
    }
   ],
   "source": [
    "library(pracma)\n",
    "library(OpenImageR)\n",
    "library(imager)\n",
    "\n",
    "# Importing the libraries\n",
    "for (f in list.files(path=\"nt_toolbox/toolbox_general/\", pattern=\"*.R\")) {\n",
    "    source(paste(\"nt_toolbox/toolbox_general/\", f, sep=\"\"))\n",
    "}\n",
    "for (f in list.files(path=\"nt_toolbox/toolbox_signal/\", pattern=\"*.R\")) {\n",
    "    source(paste(\"nt_toolbox/toolbox_signal/\", f, sep=\"\"))\n",
    "}"
   ]
  },
  {
   "cell_type": "markdown",
   "metadata": {
    "deletable": true,
    "editable": true
   },
   "source": [
    "Here we consider inpainting of damaged observation without noise."
   ]
  },
  {
   "cell_type": "markdown",
   "metadata": {
    "deletable": true,
    "editable": true
   },
   "source": [
    "Sparse Regularization\n",
    "---------------------\n",
    "This tour consider measurements $y=\\Phi f_0 + w$\n",
    "where $\\Phi$ is a masking operator\n",
    "and $w$ is an additive noise.\n",
    "\n",
    "\n",
    "This tour is focused on using sparsity to recover an image from the\n",
    "measurements $y$. It considers a synthesis-based regularization, that\n",
    "compute a sparse set of coefficients $ (a_m^{\\star})_m $\n",
    "in a frame $\\Psi = (\\psi_m)_m$ that solves\n",
    "$$a^{\\star} \\in \\text{argmin}_a \\: \\frac{1}{2}\\|y-\\Phi \\Psi a\\|^2 + \\lambda J(a)$$\n",
    "\n",
    "\n",
    "where $\\lambda$ should be adapted to the noise level $\\|w\\|$.\n",
    "Since in this tour we consider damaged observation without noise, i.e.\n",
    "$w=0$, we use either a very small value of $\\lambda$, or we decay its\n",
    "value through the iterations of the recovery process.\n",
    "\n",
    "\n",
    "Here we use the notation\n",
    "$$\\Psi a = \\sum_m a_m \\psi_m$$\n",
    "to indicate the reconstruction operator, and $J(a)$ is the $\\ell^1$\n",
    "sparsity prior\n",
    "$$J(a)=\\sum_m \\|a_m\\|.$$\n",
    "\n",
    "\n",
    "Missing Pixels and Inpainting\n",
    "-----------------------------\n",
    "Inpainting corresponds to filling holes in images.\n",
    "This corresponds to a linear ill posed inverse problem.\n",
    "\n",
    "\n",
    "You might want to do first the numerical tour _Variational image inpaiting_\n",
    "that use Sobolev and TV priors to performs the inpainting.\n",
    "\n",
    "\n",
    "First we load the image to be inpainted."
   ]
  },
  {
   "cell_type": "code",
   "execution_count": 2,
   "metadata": {
    "collapsed": false,
    "deletable": true,
    "editable": true
   },
   "outputs": [],
   "source": [
    "n = 128\n",
    "f0 = load_image(\"nt_toolbox/data/lena.png\")\n",
    "f0 = t(f0[,])\n",
    "f0 = rescale(f0[(256 - n / 2 + 1):(256 + n / 2), (256 - n / 2 + 1) : (256 + n / 2)])"
   ]
  },
  {
   "cell_type": "markdown",
   "metadata": {
    "deletable": true,
    "editable": true
   },
   "source": [
    "Display it."
   ]
  },
  {
   "cell_type": "code",
   "execution_count": 3,
   "metadata": {
    "collapsed": false,
    "deletable": true,
    "editable": true
   },
   "outputs": [
    {
     "name": "stderr",
     "output_type": "stream",
     "text": [
      "Warning message in as.raster.cimg(im, rescale = rescale, colorscale = colorscale, :\n",
      "“You've specified a colour scale, but rescale is set to TRUE. You may get unexpected results”"
     ]
    },
    {
     "data": {
      "image/png": "[encoded data removed]",
      "text/plain": [
       "Plot with title “Image f_0”"
      ]
     },
     "metadata": {},
     "output_type": "display_data"
    }
   ],
   "source": [
    "options(repr.plot.width=4, repr.plot.height=4)\n",
    "imageplot(f0, 'Image f_0')"
   ]
  },
  {
   "cell_type": "markdown",
   "metadata": {
    "deletable": true,
    "editable": true
   },
   "source": [
    "Amount of removed pixels."
   ]
  },
  {
   "cell_type": "code",
   "execution_count": 4,
   "metadata": {
    "collapsed": false,
    "deletable": true,
    "editable": true
   },
   "outputs": [],
   "source": [
    "rho = 0.7"
   ]
  },
  {
   "cell_type": "markdown",
   "metadata": {
    "deletable": true,
    "editable": true
   },
   "source": [
    "Then we construct a mask $\\Omega$ made of random pixel locations."
   ]
  },
  {
   "cell_type": "code",
   "execution_count": 5,
   "metadata": {
    "collapsed": false,
    "deletable": true,
    "editable": true
   },
   "outputs": [],
   "source": [
    "set.seed(1)\n",
    "Omega = c(matrix(0, n, n))\n",
    "sel = sample(n**2)\n",
    "Omega[sel[1:as.integer(rho * n**2)]] = 1\n",
    "Omega = matrix(Omega, n, n)"
   ]
  },
  {
   "cell_type": "markdown",
   "metadata": {
    "deletable": true,
    "editable": true
   },
   "source": [
    "The damaging operator put to zeros the pixel locations $x$ for which $\\Omega(x)=1$"
   ]
  },
  {
   "cell_type": "code",
   "execution_count": 6,
   "metadata": {
    "collapsed": false,
    "deletable": true,
    "editable": true
   },
   "outputs": [],
   "source": [
    "Phi = function(f, Omega){f * (1 - Omega)}"
   ]
  },
  {
   "cell_type": "markdown",
   "metadata": {
    "deletable": true,
    "editable": true
   },
   "source": [
    "The damaged observations reads $y = \\Phi f_0$."
   ]
  },
  {
   "cell_type": "code",
   "execution_count": 7,
   "metadata": {
    "collapsed": false,
    "deletable": true,
    "editable": true
   },
   "outputs": [],
   "source": [
    "y = Phi(f0, Omega)"
   ]
  },
  {
   "cell_type": "markdown",
   "metadata": {
    "deletable": true,
    "editable": true
   },
   "source": [
    "Display the observations."
   ]
  },
  {
   "cell_type": "code",
   "execution_count": 8,
   "metadata": {
    "collapsed": false,
    "deletable": true,
    "editable": true
   },
   "outputs": [
    {
     "name": "stderr",
     "output_type": "stream",
     "text": [
      "Warning message in as.raster.cimg(im, rescale = rescale, colorscale = colorscale, :\n",
      "“You've specified a colour scale, but rescale is set to TRUE. You may get unexpected results”"
     ]
    },
    {
     "data": {
      "image/png": "[encoded data removed]",
      "text/plain": [
       "Plot with title “Observations y”"
      ]
     },
     "metadata": {},
     "output_type": "display_data"
    }
   ],
   "source": [
    "imageplot(y, 'Observations y')"
   ]
  },
  {
   "cell_type": "markdown",
   "metadata": {
    "deletable": true,
    "editable": true
   },
   "source": [
    "Soft Thresholding in a Basis\n",
    "----------------------------\n",
    "The soft thresholding operator is at the heart of $\\ell^1$ minimization\n",
    "schemes. It can be applied to coefficients $a$, or to an image $f$\n",
    "in an ortho-basis.\n",
    "\n",
    "\n",
    "The soft thresholding is a 1-D functional that shrinks the value of\n",
    "coefficients.\n",
    "$$ s_T(u)=\\max(0,1-T/|u|)u $$\n",
    "\n",
    "\n",
    "Define a shortcut for this soft thresholding 1-D functional."
   ]
  },
  {
   "cell_type": "code",
   "execution_count": 9,
   "metadata": {
    "collapsed": false,
    "deletable": true,
    "editable": true
   },
   "outputs": [],
   "source": [
    "SoftThresh = function(x, T)\n",
    "{\n",
    "    if (!is.null(dim(x)))\n",
    "    {\n",
    "        return(x * pmax(1 - T / abs(x), 1e-10 * array(1, dim=dim(x)), array(0, dim=dim(x))))\n",
    "    }\n",
    "    else\n",
    "    {\n",
    "        return(x * pmax(1 - T / abs(x), 1e-10 * rep(1, length(x)), rep(0, length(x))))\n",
    "    }\n",
    "}"
   ]
  },
  {
   "cell_type": "markdown",
   "metadata": {
    "deletable": true,
    "editable": true
   },
   "source": [
    "Display a curve of the 1D soft thresholding."
   ]
  },
  {
   "cell_type": "code",
   "execution_count": 10,
   "metadata": {
    "collapsed": false,
    "deletable": true,
    "editable": true
   },
   "outputs": [
    {
     "data": {
      "image/png": "[encoded data removed]",
      "text/plain": [
       "plot without title"
      ]
     },
     "metadata": {},
     "output_type": "display_data"
    }
   ],
   "source": [
    "x = seq(-1, 1, length=1000)\n",
    "\n",
    "plot(x, SoftThresh(x, .5), col=4, type=\"l\", ylab=\"\", xlab=\"\")"
   ]
  },
  {
   "cell_type": "markdown",
   "metadata": {
    "deletable": true,
    "editable": true
   },
   "source": [
    "Note that the function SoftThresh can also be applied to vector which defines an\n",
    "operator on coefficients:\n",
    "$$ S_T(a) = ( s_T(a_m) )_m. $$\n",
    "\n",
    "\n",
    "In the next section, we use an orthogonal wavelet basis $\\Psi$.\n",
    "\n",
    "\n",
    "We set the parameters of the wavelet transform."
   ]
  },
  {
   "cell_type": "code",
   "execution_count": 11,
   "metadata": {
    "collapsed": false,
    "deletable": true,
    "editable": true
   },
   "outputs": [],
   "source": [
    "Jmax = log2(n) - 1\n",
    "Jmin = (Jmax - 3)"
   ]
  },
  {
   "cell_type": "markdown",
   "metadata": {
    "deletable": true,
    "editable": true
   },
   "source": [
    "Shortcut for $\\Psi$ and $\\Psi^*$ in the orthogonal case."
   ]
  },
  {
   "cell_type": "code",
   "execution_count": 12,
   "metadata": {
    "collapsed": false,
    "deletable": true,
    "editable": true
   },
   "outputs": [],
   "source": [
    "Psi = function(a){perform_wavelet_transf(a, Jmin, -1, ti=0)}\n",
    "PsiS = function(f){perform_wavelet_transf(f, Jmin, +1, ti=0)}"
   ]
  },
  {
   "cell_type": "markdown",
   "metadata": {
    "deletable": true,
    "editable": true
   },
   "source": [
    "The soft thresholding opterator in the basis $\\Psi$ is defined as\n",
    "$$S_T^\\Psi(f) = \\sum_m s_T( \\langle f,\\psi_m \\rangle ) \\psi_m $$\n",
    "\n",
    "\n",
    "It thus corresponds to applying the transform $\\Psi^*$, thresholding\n",
    "the coefficients using $S_T$ and then undoing the transform using\n",
    "$\\Psi$.\n",
    "$$ S_T^\\Psi(f) = \\Psi \\circ S_T \\circ \\Psi^*$$"
   ]
  },
  {
   "cell_type": "code",
   "execution_count": 13,
   "metadata": {
    "collapsed": false,
    "deletable": true,
    "editable": true
   },
   "outputs": [],
   "source": [
    "SoftThreshPsi = function(f, T){Psi(SoftThresh(PsiS(f), T))}"
   ]
  },
  {
   "cell_type": "markdown",
   "metadata": {
    "deletable": true,
    "editable": true
   },
   "source": [
    "This soft thresholding corresponds to a denoising operator."
   ]
  },
  {
   "cell_type": "code",
   "execution_count": 14,
   "metadata": {
    "collapsed": false,
    "deletable": true,
    "editable": true
   },
   "outputs": [
    {
     "name": "stderr",
     "output_type": "stream",
     "text": [
      "Warning message in as.raster.cimg(im, rescale = rescale, colorscale = colorscale, :\n",
      "“You've specified a colour scale, but rescale is set to TRUE. You may get unexpected results”"
     ]
    },
    {
     "data": {
      "image/png": "[encoded data removed]",
      "text/plain": [
       "Plot with title “”"
      ]
     },
     "metadata": {},
     "output_type": "display_data"
    }
   ],
   "source": [
    "imageplot(clamp(SoftThreshPsi(f0, 0.1)))"
   ]
  },
  {
   "cell_type": "markdown",
   "metadata": {
    "deletable": true,
    "editable": true
   },
   "source": [
    "Inpainting using Orthogonal Wavelet Sparsity\n",
    "--------------------------------------------\n",
    "If $\\Psi$ is an orthogonal basis, a change of variable shows that the\n",
    "synthesis prior is also an analysis prior, that reads\n",
    "$$f^{\\star} \\in \\text{argmin}_f \\: E(f) = \\frac{1}{2}\\|y-\\Phi f\\|^2 + \\lambda \\sum_m \\|\\langle f,\\psi_m \\rangle\\|. $$\n",
    "\n",
    "\n",
    "To solve this non-smooth optimization problem, one can use\n",
    "forward-backward splitting, also known as iterative soft thresholding.\n",
    "\n",
    "\n",
    "It computes a series of images $f^{(\\ell)}$ defined as\n",
    "$$ f^{(\\ell+1)} = S_{\\tau\\lambda}^{\\Psi}( f^{(\\ell)} - \\tau \\Phi^{*} (\\Phi f^{(\\ell)} - y)  ) $$\n",
    "\n",
    "\n",
    "Set up the value of the threshold."
   ]
  },
  {
   "cell_type": "code",
   "execution_count": 15,
   "metadata": {
    "collapsed": false,
    "deletable": true,
    "editable": true
   },
   "outputs": [],
   "source": [
    "lambd = .03"
   ]
  },
  {
   "cell_type": "markdown",
   "metadata": {
    "deletable": true,
    "editable": true
   },
   "source": [
    "In our setting, we have $ \\Phi^* = \\Phi $ which is an operator of norm\n",
    "1.\n",
    "\n",
    "\n",
    "For $f^{(\\ell)}$ to converge to a solution of the problem, the gradient\n",
    "step size should be chosen as\n",
    "$$\\tau < \\frac{2}{\\|\\Phi^* \\Phi\\|} = 2$$\n",
    "\n",
    "\n",
    "In the following we use:\n",
    "$$\\tau = 1$$\n",
    "\n",
    "\n",
    "Since we use $ \\tau=1 $ and $ \\Phi = \\Phi^* = \\text{diag}(1-\\Omega) $,  the gradient descent step\n",
    "is a projection on the inpainting constraint\n",
    "$$ C = \\{ f \\backslash \\forall \\Omega(x)=0, f(x)=y(x) \\} $$\n",
    "One thus has\n",
    "$$ f - \\tau \\Phi^{*} (\\Phi f - y)  = \\text{Proj}_C(f) $$\n",
    "\n",
    "\n",
    "For the sake of simplicity, we define a shortcut for this projection\n",
    "operator."
   ]
  },
  {
   "cell_type": "code",
   "execution_count": 16,
   "metadata": {
    "collapsed": false,
    "deletable": true,
    "editable": true
   },
   "outputs": [],
   "source": [
    "ProjC = function(f, Omega){Omega * f + (1 - Omega) * y}"
   ]
  },
  {
   "cell_type": "markdown",
   "metadata": {
    "deletable": true,
    "editable": true
   },
   "source": [
    "Each iteration of the forward-backward (iterative thresholding) algorithm\n",
    "thus reads:\n",
    "$$ f^{(\\ell+1)} = S_{\\lambda}^\\Psi( \\text{Proj}_C(f^{(\\ell)}) ). $$\n",
    "\n",
    "\n",
    "Initialize the iterations."
   ]
  },
  {
   "cell_type": "code",
   "execution_count": 17,
   "metadata": {
    "collapsed": false,
    "deletable": true,
    "editable": true
   },
   "outputs": [],
   "source": [
    "fSpars = y"
   ]
  },
  {
   "cell_type": "markdown",
   "metadata": {
    "deletable": true,
    "editable": true
   },
   "source": [
    "First step: gradient descent."
   ]
  },
  {
   "cell_type": "code",
   "execution_count": 18,
   "metadata": {
    "collapsed": false,
    "deletable": true,
    "editable": true
   },
   "outputs": [],
   "source": [
    "fSpars = ProjC(fSpars, Omega)"
   ]
  },
  {
   "cell_type": "markdown",
   "metadata": {
    "deletable": true,
    "editable": true
   },
   "source": [
    "Second step: denoise the solution by thresholding."
   ]
  },
  {
   "cell_type": "code",
   "execution_count": 19,
   "metadata": {
    "collapsed": false,
    "deletable": true,
    "editable": true
   },
   "outputs": [],
   "source": [
    "fSpars = SoftThreshPsi(fSpars, lambd)"
   ]
  },
  {
   "cell_type": "markdown",
   "metadata": {
    "deletable": true,
    "editable": true
   },
   "source": [
    "__Exercise 1__\n",
    "\n",
    "Perform the iterative soft thresholding.\n",
    "Monitor the decay of the energy $E$ you are minimizing."
   ]
  },
  {
   "cell_type": "code",
   "execution_count": 20,
   "metadata": {
    "collapsed": true
   },
   "outputs": [],
   "source": [
    "# Insert your code here."
   ]
  },
  {
   "cell_type": "markdown",
   "metadata": {
    "deletable": true,
    "editable": true
   },
   "source": [
    "Display the result."
   ]
  },
  {
   "cell_type": "code",
   "execution_count": 21,
   "metadata": {
    "collapsed": true
   },
   "outputs": [],
   "source": [
    "# Insert your code here."
   ]
  },
  {
   "cell_type": "markdown",
   "metadata": {
    "deletable": true,
    "editable": true
   },
   "source": [
    "__Exercise 2__\n",
    "\n",
    "Since there is no noise, one should in theory take $\\lambda\n",
    "\\rightarrow 0$.\n",
    "To do this, decay the value of $\\lambda$ through the iterations."
   ]
  },
  {
   "cell_type": "code",
   "execution_count": 22,
   "metadata": {
    "collapsed": true
   },
   "outputs": [],
   "source": [
    "# Insert your code here."
   ]
  },
  {
   "cell_type": "markdown",
   "metadata": {
    "deletable": true,
    "editable": true
   },
   "source": [
    "Inpainting using Translation Invariant Wavelet Sparsity\n",
    "-------------------------------------------------------\n",
    "Orthogonal sparsity performs a poor regularization because of the lack of\n",
    "translation invariance. This regularization is enhanced by considering\n",
    "$\\Psi$ as a redundant tight frame of translation invariant wavelets.\n",
    "\n",
    "\n",
    "One thus looks for optimal coefficients $a^\\star$ that solves\n",
    "$$a^{\\star} \\in \\text{argmin}_a \\: E(a) = \\frac{1}{2}\\|y-\\Phi \\Psi a\\|^2 + \\lambda J(a)$$\n",
    "\n",
    "\n",
    "*Important*: The operator $\\Psi^*$ is the forward translation invariant wavelet transform.\n",
    "It computes the inner product with the unit norm wavelet atoms:\n",
    "$$ (\\Psi^* f)_m = \\langle f,\\psi_m \\rangle \\quad \\text{with} \\quad \\|\\psi_m\\|=1. $$\n",
    "\n",
    "\n",
    "The reconstruction operator $\\Xi$ satisfies $ \\Xi \\Psi^* f = f $, and\n",
    "is the pseudo inverse of the analysis operator $ \\Xi = (\\Psi^*)^+ $.\n",
    "\n",
    "\n",
    "For our algorithm, we will need to use $\\Psi$ and not $\\Xi$. Lukily,\n",
    "for the wavelet transform, one has\n",
    "$$ \\Xi = \\Psi \\text{diag(U)} f $$\n",
    "where $U_m$ account for the redundancy of the scale of the atom\n",
    "$\\psi_m$.\n",
    "\n",
    "\n",
    "Compute the scaling factor (inverse of the redundancy)."
   ]
  },
  {
   "cell_type": "code",
   "execution_count": 23,
   "metadata": {
    "collapsed": false,
    "deletable": true,
    "editable": true
   },
   "outputs": [],
   "source": [
    "J = Jmax - Jmin + 1\n",
    "u = c(4**(-J), 4**(floor(-1 * seq(J + 2./3,1,by=-1 /3.) + 1)))\n",
    "U = array(0, dim=c(n, n, length(u)))\n",
    "for (i in 1:length(u))\n",
    "{\n",
    "    U[,,i] = u[i]\n",
    "}\n",
    "U = aperm(U, c(3, 1, 2))"
   ]
  },
  {
   "cell_type": "markdown",
   "metadata": {
    "deletable": true,
    "editable": true
   },
   "source": [
    "Choose a value of the regularization parameter."
   ]
  },
  {
   "cell_type": "code",
   "execution_count": 24,
   "metadata": {
    "collapsed": false,
    "deletable": true,
    "editable": true
   },
   "outputs": [],
   "source": [
    "lambd = .01"
   ]
  },
  {
   "cell_type": "markdown",
   "metadata": {
    "deletable": true,
    "editable": true
   },
   "source": [
    "Shortcut for the wavelet transform and the reconstruction."
   ]
  },
  {
   "cell_type": "code",
   "execution_count": 25,
   "metadata": {
    "collapsed": false,
    "deletable": true,
    "editable": true
   },
   "outputs": [],
   "source": [
    "Xi = function(a){perform_wavelet_transf(a, Jmin, -1, ti=1)}\n",
    "PsiS = function(f){perform_wavelet_transf(f, Jmin, + 1, ti=1)}\n",
    "Psi = function(a){Xi(a/U)}"
   ]
  },
  {
   "cell_type": "markdown",
   "metadata": {
    "deletable": true,
    "editable": true
   },
   "source": [
    "The forward-backward algorithm now compute a series of wavelet\n",
    "coefficients $a^{(\\ell)}$ computed as\n",
    "$$a^{(\\ell+1)} = S_{\\tau\\lambda}( a^{(\\ell)} + \\Psi^*\\Phi( y - \\Phi\\Psi a^{(\\ell)} )  ). $$\n",
    "\n",
    "\n",
    "The soft thresholding is defined as:\n",
    "$$\\forall m, \\quad S_T(a)_m = \\max(0, 1-T/\\|a_m\\|)a_m. $$\n",
    "\n",
    "\n",
    "The step size should satisfy:\n",
    "$$\\tau < \\frac{2}{\\|\\Psi\\Phi \\|} \\leq 2 \\min( u ). $$"
   ]
  },
  {
   "cell_type": "code",
   "execution_count": 26,
   "metadata": {
    "collapsed": false,
    "deletable": true,
    "editable": true
   },
   "outputs": [],
   "source": [
    "tau = 1.9 * min(u)"
   ]
  },
  {
   "cell_type": "markdown",
   "metadata": {
    "deletable": true,
    "editable": true
   },
   "source": [
    "Initialize the wavelet coefficients with those of the previous reconstruction."
   ]
  },
  {
   "cell_type": "code",
   "execution_count": 27,
   "metadata": {
    "collapsed": false,
    "deletable": true,
    "editable": true
   },
   "outputs": [],
   "source": [
    "a = U * PsiS(fSpars)"
   ]
  },
  {
   "cell_type": "markdown",
   "metadata": {
    "deletable": true,
    "editable": true
   },
   "source": [
    "Gradient descent."
   ]
  },
  {
   "cell_type": "code",
   "execution_count": 28,
   "metadata": {
    "collapsed": false,
    "deletable": true,
    "editable": true
   },
   "outputs": [],
   "source": [
    "fTI = Psi(a)\n",
    "a = a + tau * PsiS(Phi(y - Phi(fTI, Omega), Omega))"
   ]
  },
  {
   "cell_type": "markdown",
   "metadata": {
    "deletable": true,
    "editable": true
   },
   "source": [
    "Soft threshold."
   ]
  },
  {
   "cell_type": "code",
   "execution_count": 29,
   "metadata": {
    "collapsed": false,
    "deletable": true,
    "editable": true
   },
   "outputs": [],
   "source": [
    "a = SoftThresh(a, lambd * tau)"
   ]
  },
  {
   "cell_type": "markdown",
   "metadata": {
    "deletable": true,
    "editable": true
   },
   "source": [
    "__Exercise 3__\n",
    "\n",
    "Perform the iterative soft thresholding. Monitor the decay of the\n",
    "energy $E$."
   ]
  },
  {
   "cell_type": "code",
   "execution_count": 30,
   "metadata": {
    "collapsed": false,
    "deletable": true,
    "editable": true
   },
   "outputs": [],
   "source": [
    "## Insert your code here."
   ]
  },
  {
   "cell_type": "markdown",
   "metadata": {
    "deletable": true,
    "editable": true
   },
   "source": [
    "Perform the reconstruction."
   ]
  },
  {
   "cell_type": "code",
   "execution_count": 31,
   "metadata": {
    "collapsed": true
   },
   "outputs": [],
   "source": [
    "## Insert your code here."
   ]
  },
  {
   "cell_type": "markdown",
   "metadata": {
    "deletable": true,
    "editable": true
   },
   "source": [
    "Display the result."
   ]
  },
  {
   "cell_type": "code",
   "execution_count": 32,
   "metadata": {
    "collapsed": true
   },
   "outputs": [],
   "source": [
    "## Insert your code here."
   ]
  },
  {
   "cell_type": "markdown",
   "metadata": {
    "deletable": true,
    "editable": true
   },
   "source": [
    "__Exercise 4__\n",
    "\n",
    "Perform the iteration with a decaying value of $\\lambda$"
   ]
  },
  {
   "cell_type": "code",
   "execution_count": 33,
   "metadata": {
    "collapsed": false,
    "deletable": true,
    "editable": true
   },
   "outputs": [],
   "source": [
    "## Insert your code here."
   ]
  },
  {
   "cell_type": "markdown",
   "metadata": {
    "deletable": true,
    "editable": true
   },
   "source": [
    "Inpainting using Iterative Hard Thresholding\n",
    "--------------------------------------------\n",
    "To improve the sparsity of the solution, it is possible to replace the\n",
    "soft thresholding by a hard threshdoling. In this case, the resulting\n",
    "algorihtm does not perform anymore a variational minimization of an\n",
    "energy.\n",
    "\n",
    "\n",
    "The hard thresholding is defined as $h_T(x)=0$ if $-T < x < T$\n",
    "and $h_T(x)=x$ otherwise. It thus defines a thresholding operator of\n",
    "wavelet coefficients as $H_T(a)_m = h_T(a_m)$.\n",
    "\n",
    "\n",
    "Define a shortcut for this vectorialized hard thresholding\n",
    "\n",
    "\n",
    "\n",
    "*Important:* Scilab users have to create a file |HardThresh.m| to implement this\n",
    "function."
   ]
  },
  {
   "cell_type": "code",
   "execution_count": 34,
   "metadata": {
    "collapsed": false,
    "deletable": true,
    "editable": true
   },
   "outputs": [],
   "source": [
    "HardThresh = function(x, t){x * (abs(x) > t)}"
   ]
  },
  {
   "cell_type": "markdown",
   "metadata": {
    "deletable": true,
    "editable": true
   },
   "source": [
    "Display a curve of the 1-D Hard thresholding."
   ]
  },
  {
   "cell_type": "code",
   "execution_count": 35,
   "metadata": {
    "collapsed": false,
    "deletable": true,
    "editable": true
   },
   "outputs": [
    {
     "data": {
      "image/png": "[encoded data removed]",
      "text/plain": [
       "plot without title"
      ]
     },
     "metadata": {},
     "output_type": "display_data"
    }
   ],
   "source": [
    "x = seq(-1, 1, length=1000)\n",
    "\n",
    "plot(x, HardThresh(x, .5), col=4, type=\"l\", xlab=\"\", ylab=\"\")"
   ]
  },
  {
   "cell_type": "markdown",
   "metadata": {
    "deletable": true,
    "editable": true
   },
   "source": [
    "The hard thresholding in the translation invariant wavelet basis $\\Psi$\n",
    "reads\n",
    "$$ H_T^\\Psi(f) = \\Xi \\circ H_T \\circ \\Psi^* (f) $$\n",
    "where $\\Xi = (\\Phi^*)^+$ is the reconstruction operator.\n",
    "\n",
    "\n",
    "We follow the MCA paradigm of Jean-Luc Starck, that alternates between a\n",
    "gradient descent step and a hard thresholding denoising, using a decaying\n",
    "threshold.\n",
    "$$f^{(\\ell+1)} = H_{\\tau\\lambda_\\ell}^\\Psi( f^{(\\ell)} - \\tau \\Phi^*(\\Phi f^{(\\ell)} - y)  ). $$\n",
    "\n",
    "\n",
    "Number of iterations."
   ]
  },
  {
   "cell_type": "code",
   "execution_count": 36,
   "metadata": {
    "collapsed": false,
    "deletable": true,
    "editable": true
   },
   "outputs": [],
   "source": [
    "niter = 500"
   ]
  },
  {
   "cell_type": "markdown",
   "metadata": {
    "deletable": true,
    "editable": true
   },
   "source": [
    "List of thresholds. One must start by a large enough initial threshold."
   ]
  },
  {
   "cell_type": "code",
   "execution_count": 37,
   "metadata": {
    "collapsed": false,
    "deletable": true,
    "editable": true
   },
   "outputs": [],
   "source": [
    "lambda_list = seq(1, 0, length=niter)"
   ]
  },
  {
   "cell_type": "markdown",
   "metadata": {
    "deletable": true,
    "editable": true
   },
   "source": [
    "Initialization."
   ]
  },
  {
   "cell_type": "code",
   "execution_count": 38,
   "metadata": {
    "collapsed": false,
    "deletable": true,
    "editable": true
   },
   "outputs": [],
   "source": [
    "fHard = y"
   ]
  },
  {
   "cell_type": "markdown",
   "metadata": {
    "deletable": true,
    "editable": true
   },
   "source": [
    "Gradient descent."
   ]
  },
  {
   "cell_type": "code",
   "execution_count": 39,
   "metadata": {
    "collapsed": false,
    "deletable": true,
    "editable": true
   },
   "outputs": [],
   "source": [
    "fHard = ProjC(fHard, Omega)"
   ]
  },
  {
   "cell_type": "markdown",
   "metadata": {
    "deletable": true,
    "editable": true
   },
   "source": [
    "Hard threshold (here $\\lambda=\\lambda_0$) is used)."
   ]
  },
  {
   "cell_type": "code",
   "execution_count": 40,
   "metadata": {
    "collapsed": false,
    "deletable": true,
    "editable": true
   },
   "outputs": [],
   "source": [
    "fHard = Xi(HardThresh(PsiS(fHard), tau * lambda_list[1]))"
   ]
  },
  {
   "cell_type": "markdown",
   "metadata": {
    "deletable": true,
    "editable": true
   },
   "source": [
    "__Exercise 5__\n",
    "\n",
    "Perform the iteration with a decaying value of $\\lambda$"
   ]
  },
  {
   "cell_type": "code",
   "execution_count": 41,
   "metadata": {
    "collapsed": false,
    "deletable": true,
    "editable": true
   },
   "outputs": [],
   "source": [
    "## Insert your code here."
   ]
  }
 ],
 "metadata": {
  "anaconda-cloud": {},
  "kernelspec": {
   "display_name": "R",
   "language": "R",
   "name": "ir"
  },
  "language_info": {
   "codemirror_mode": "r",
   "file_extension": ".r",
   "mimetype": "text/x-r-source",
   "name": "R",
   "pygments_lexer": "r",
   "version": "3.4.2"
  }
 },
 "nbformat": 4,
 "nbformat_minor": 0
}
