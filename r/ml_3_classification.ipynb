{
 "cells": [
  {
   "cell_type": "markdown",
   "metadata": {
    "deletable": true,
    "editable": true
   },
   "source": [
    "Logistic Classification\n",
    "=======================\n",
    "\n",
    "*Important:* Please read the [installation page](http://gpeyre.github.io/numerical-tours/installation_matlab/) for details about how to install the toolboxes.\n",
    "$\\newcommand{\\dotp}[2]{\\langle #1, #2 \\rangle}$\n",
    "$\\newcommand{\\enscond}[2]{\\lbrace #1, #2 \\rbrace}$\n",
    "$\\newcommand{\\pd}[2]{ \\frac{ \\partial #1}{\\partial #2} }$\n",
    "$\\newcommand{\\umin}[1]{\\underset{#1}{\\min}\\;}$\n",
    "$\\newcommand{\\umax}[1]{\\underset{#1}{\\max}\\;}$\n",
    "$\\newcommand{\\umin}[1]{\\underset{#1}{\\min}\\;}$\n",
    "$\\newcommand{\\uargmin}[1]{\\underset{#1}{argmin}\\;}$\n",
    "$\\newcommand{\\norm}[1]{\\|#1\\|}$\n",
    "$\\newcommand{\\abs}[1]{\\left|#1\\right|}$\n",
    "$\\newcommand{\\choice}[1]{ \\left\\{  \\begin{array}{l} #1 \\end{array} \\right. }$\n",
    "$\\newcommand{\\pa}[1]{\\left(#1\\right)}$\n",
    "$\\newcommand{\\diag}[1]{{diag}\\left( #1 \\right)}$\n",
    "$\\newcommand{\\qandq}{\\quad\\text{and}\\quad}$\n",
    "$\\newcommand{\\qwhereq}{\\quad\\text{where}\\quad}$\n",
    "$\\newcommand{\\qifq}{ \\quad \\text{if} \\quad }$\n",
    "$\\newcommand{\\qarrq}{ \\quad \\Longrightarrow \\quad }$\n",
    "$\\newcommand{\\ZZ}{\\mathbb{Z}}$\n",
    "$\\newcommand{\\CC}{\\mathbb{C}}$\n",
    "$\\newcommand{\\RR}{\\mathbb{R}}$\n",
    "$\\newcommand{\\EE}{\\mathbb{E}}$\n",
    "$\\newcommand{\\Zz}{\\mathcal{Z}}$\n",
    "$\\newcommand{\\Ww}{\\mathcal{W}}$\n",
    "$\\newcommand{\\Vv}{\\mathcal{V}}$\n",
    "$\\newcommand{\\Nn}{\\mathcal{N}}$\n",
    "$\\newcommand{\\NN}{\\mathcal{N}}$\n",
    "$\\newcommand{\\Hh}{\\mathcal{H}}$\n",
    "$\\newcommand{\\Bb}{\\mathcal{B}}$\n",
    "$\\newcommand{\\Ee}{\\mathcal{E}}$\n",
    "$\\newcommand{\\Cc}{\\mathcal{C}}$\n",
    "$\\newcommand{\\Gg}{\\mathcal{G}}$\n",
    "$\\newcommand{\\Ss}{\\mathcal{S}}$\n",
    "$\\newcommand{\\Pp}{\\mathcal{P}}$\n",
    "$\\newcommand{\\Ff}{\\mathcal{F}}$\n",
    "$\\newcommand{\\Xx}{\\mathcal{X}}$\n",
    "$\\newcommand{\\Mm}{\\mathcal{M}}$\n",
    "$\\newcommand{\\Ii}{\\mathcal{I}}$\n",
    "$\\newcommand{\\Dd}{\\mathcal{D}}$\n",
    "$\\newcommand{\\Ll}{\\mathcal{L}}$\n",
    "$\\newcommand{\\Tt}{\\mathcal{T}}$\n",
    "$\\newcommand{\\si}{\\sigma}$\n",
    "$\\newcommand{\\al}{\\alpha}$\n",
    "$\\newcommand{\\la}{\\lambda}$\n",
    "$\\newcommand{\\ga}{\\gamma}$\n",
    "$\\newcommand{\\Ga}{\\Gamma}$\n",
    "$\\newcommand{\\La}{\\Lambda}$\n",
    "$\\newcommand{\\si}{\\sigma}$\n",
    "$\\newcommand{\\Si}{\\Sigma}$\n",
    "$\\newcommand{\\be}{\\beta}$\n",
    "$\\newcommand{\\de}{\\delta}$\n",
    "$\\newcommand{\\De}{\\Delta}$\n",
    "$\\newcommand{\\phi}{\\varphi}$\n",
    "$\\newcommand{\\th}{\\theta}$\n",
    "$\\newcommand{\\om}{\\omega}$\n",
    "$\\newcommand{\\Om}{\\Omega}$\n",
    "$\\newcommand{\\eqdef}{\\equiv}$"
   ]
  },
  {
   "cell_type": "markdown",
   "metadata": {
    "deletable": true,
    "editable": true
   },
   "source": [
    "This tour details the logistic classification method (for 2 classes and\n",
    "multi-classes).\n",
    "\n",
    "\n",
    "_Warning:_ Logisitic classification is actually called [\"logistic\n",
    "regression\"](https://en.wikipedia.org/wiki/Logistic_regression) in the literature, but it is in fact a classification method.\n",
    "\n",
    "\n",
    "We recommend that after doing this Numerical Tours, you apply it to your\n",
    "own data, for instance using a dataset from [LibSVM](https://www.csie.ntu.edu.tw/~cjlin/libsvmtools/datasets/).\n",
    "\n",
    "_Disclaimer:_ these machine learning tours are intended to be\n",
    "overly-simplistic implementations and applications of baseline machine learning methods.\n",
    "For more advanced uses and implementations, we recommend\n",
    "to use a state-of-the-art library, the most well known being\n",
    "[Scikit-Learn](http://scikit-learn.org/)"
   ]
  },
  {
   "cell_type": "code",
   "execution_count": 1,
   "metadata": {
    "collapsed": false,
    "deletable": true,
    "editable": true
   },
   "outputs": [],
   "source": [
    "library(plot3D)\n",
    "library(pracma)\n",
    "library(grid)\n",
    "\n",
    "# Importing the libraries\n",
    "for (f in list.files(path=\"nt_toolbox/toolbox_general/\", pattern=\"*.R\")) {\n",
    "    source(paste(\"nt_toolbox/toolbox_general/\", f, sep=\"\"))\n",
    "}\n",
    "for (f in list.files(path=\"nt_toolbox/toolbox_signal/\", pattern=\"*.R\")) {\n",
    "    source(paste(\"nt_toolbox/toolbox_signal/\", f, sep=\"\"))\n",
    "}"
   ]
  },
  {
   "cell_type": "markdown",
   "metadata": {
    "deletable": true,
    "editable": true
   },
   "source": [
    "We define a few helpers."
   ]
  },
  {
   "cell_type": "code",
   "execution_count": 2,
   "metadata": {
    "collapsed": false,
    "deletable": true,
    "editable": true
   },
   "outputs": [],
   "source": [
    "Xm = function(X){as.matrix(X - rep(colMeans(X), rep.int(nrow(X), ncol(X))))}\n",
    "Cov = function(X){data.matrix(1. / (n - 1) * t(Xm(X)) %*% Xm(X))}"
   ]
  },
  {
   "cell_type": "markdown",
   "metadata": {
    "deletable": true,
    "editable": true
   },
   "source": [
    "Two Classes Logistic Classification\n",
    "-----------------------------------\n",
    "Logistic classification is, with [support vector machine (SVM)](https://en.wikipedia.org/wiki/Support_vector_machine), the baseline\n",
    "method to perform classification. Its main advantage over SVM is that is\n",
    "is a smooth minimization problem, and that it also output class\n",
    "probabity, offering a probabilistic interpretation of the classification.\n",
    "\n",
    "\n",
    "To understand the behavior of the method, we generate synthetic data\n",
    "distributed according to a mixture of Gaussian with an overlap governed by an offset $\\omega$.\n",
    " Here classes indexes are set to $y_i \\in\n",
    "\\{-1,1\\}$ to simplify the equations."
   ]
  },
  {
   "cell_type": "code",
   "execution_count": 3,
   "metadata": {
    "collapsed": false,
    "deletable": true,
    "editable": true
   },
   "outputs": [],
   "source": [
    "n = 1000 # number of sample\n",
    "p = 2 # dimensionality\n",
    "omega = 1.5 * 5\n",
    "X = rbind(randn(n/2,2), randn(n/2,2) + rep(1, n/2) * omega)\n",
    "y = c(rep(1, n/2), rep(-1, n/2))"
   ]
  },
  {
   "cell_type": "markdown",
   "metadata": {
    "deletable": true,
    "editable": true
   },
   "source": [
    "Plot the classes."
   ]
  },
  {
   "cell_type": "code",
   "execution_count": 4,
   "metadata": {
    "collapsed": false,
    "deletable": true,
    "editable": true
   },
   "outputs": [
    {
     "data": {
      "image/png": "[encoded data removed]",
      "text/plain": [
       "plot without title"
      ]
     },
     "metadata": {},
     "output_type": "display_data"
    }
   ],
   "source": [
    "options(repr.plot.width=5, repr.plot.height=5)\n",
    "\n",
    "for (i in c(-1, 1))\n",
    "{\n",
    "    I = (y==i)\n",
    "    plot(X[I,1], X[I,2], col=(i + 3), xlim=c(min(X[,1]), max(X[,1])),  \n",
    "         ylim=c(min(X[,2]), max(X[,2])), xlab=\"\", ylab=\"\", pch=16)\n",
    "    par(new=TRUE)\n",
    "}\n",
    "\n",
    "cols = c(2,4)\n",
    "legend(\"topright\", legend=c(-1, 1), col=cols, pch=16)"
   ]
  },
  {
   "cell_type": "markdown",
   "metadata": {
    "deletable": true,
    "editable": true
   },
   "source": [
    "Logistic classification minimize a logistic loss in place of the usual\n",
    "$\\ell^2$ loss for regression\n",
    "  $$ \\umin{w} E(w) \\eqdef \\frac{1}{n} \\sum_{i=1}^n L(\\dotp{x_i}{w},y_i)  $$\n",
    "where the logistic loss reads\n",
    "  $$ L( s,y ) \\eqdef \\log( 1+\\exp(-sy) ) $$\n",
    "This corresponds to a smooth convex minimization. If $X$ is injective,\n",
    "this is also strictly convex, hence it has a single global minimum.\n",
    "\n",
    "\n",
    "Compare the binary (ideal) 0-1 loss, the logistic loss and the\n",
    "<https://en.wikipedia.org/wiki/Hinge_loss hinge loss>\n",
    "(the one used for SVM)."
   ]
  },
  {
   "cell_type": "code",
   "execution_count": 5,
   "metadata": {
    "collapsed": false,
    "deletable": true,
    "editable": true,
    "scrolled": true
   },
   "outputs": [
    {
     "data": {
      "image/png": "[encoded data removed]",
      "text/plain": [
       "plot without title"
      ]
     },
     "metadata": {},
     "output_type": "display_data"
    }
   ],
   "source": [
    "options(repr.plot.width=7, repr.plot.height=6)\n",
    "t = seq(-3, 3, length=255)\n",
    "plot(t, log(1 + exp(t)), type=\"l\", col=2)\n",
    "#plot(t, t > 0)\n",
    "lines(t, t > 0, col=3)\n",
    "lines(t, pmax(t, 0), col=4)\n",
    "legend(\"topleft\", legend=c('Binary', 'Logistic', 'Hinge'), col=c(3,2,4), pch=\"-\")"
   ]
  },
  {
   "cell_type": "markdown",
   "metadata": {
    "deletable": true,
    "editable": true
   },
   "source": [
    "This can be interpreted as a <https://en.wikipedia.org/wiki/Maximum_likelihood_estimation maximum likelihood estimator> when one\n",
    "models the probability of  belonging to the two classes for sample $x_i$ as\n",
    "  $$ h(x_i) \\eqdef (\\th(x_i),1-\\th(x_i)) \\qwhereq\n",
    "          \\th(s) \\eqdef \\frac{e^{s}}{1+e^s} = (1+e^{-s})^{-1}  $$\n",
    "\n",
    "\n",
    "Re-writting the energy to minimize\n",
    "  $$ E(w) = \\Ll(X w,y) \\qwhereq \\Ll(s,y)= \\frac{1}{n}  \\sum_i L(s_i,y_i), $$\n",
    "its gradient reads\n",
    "  $$ \\nabla E(w) = X^\\top \\nabla \\Ll(X w,y)\n",
    "      \\qwhereq\n",
    "      \\nabla \\Ll(s,y) = \\frac{y}{n} \\odot \\th(-y \\odot s),   $$\n",
    "where $\\odot$ is the pointwise multiplication operator, i.e. |.*| in\n",
    "Matlab.\n",
    "\n",
    "\n",
    "Define the energies."
   ]
  },
  {
   "cell_type": "code",
   "execution_count": 6,
   "metadata": {
    "collapsed": false,
    "deletable": true,
    "editable": true
   },
   "outputs": [],
   "source": [
    "L = function(s,y){1/n * sum( log(1 + exp(-s * y)))}\n",
    "E = function(w,X,y){L(X %*% w, y)}"
   ]
  },
  {
   "cell_type": "markdown",
   "metadata": {
    "deletable": true,
    "editable": true
   },
   "source": [
    "Define their gradients."
   ]
  },
  {
   "cell_type": "code",
   "execution_count": 7,
   "metadata": {
    "collapsed": false,
    "deletable": true,
    "editable": true
   },
   "outputs": [],
   "source": [
    "theta = function(v){1 / (1 + exp(-v))}\n",
    "nablaL = function(s, r){ - 1/n * y * theta(-s * y)}\n",
    "nablaE = function(w,X,y){t(X) %*% nablaL(X %*% w,y)}"
   ]
  },
  {
   "cell_type": "markdown",
   "metadata": {
    "deletable": true,
    "editable": true
   },
   "source": [
    "_Important:_ in order to improve performance, it is important (especially\n",
    "in low dimension $p$) to add a constant bias term $w_{p+1} \\in \\RR$, and replace $\\dotp{x_i}{w}$\n",
    "by $ \\dotp{x_i}{w} + w_{p+1} $.  This is equivalently achieved by\n",
    "adding an extra $(p+1)^{\\text{th}}$ dimension equal to 1 to each\n",
    "$x_i$, which we do using a convenient macro."
   ]
  },
  {
   "cell_type": "code",
   "execution_count": 8,
   "metadata": {
    "collapsed": false,
    "deletable": true,
    "editable": true
   },
   "outputs": [],
   "source": [
    "AddBias = function(X){cbind(X, rep(1, dim(X)[1]))}"
   ]
  },
  {
   "cell_type": "markdown",
   "metadata": {
    "deletable": true,
    "editable": true
   },
   "source": [
    "With this added bias term, once $w_{\\ell=0} \\in \\RR^{p+1}$ initialized\n",
    "(for instance at $0_{p+1}$),"
   ]
  },
  {
   "cell_type": "code",
   "execution_count": 9,
   "metadata": {
    "collapsed": false,
    "deletable": true,
    "editable": true
   },
   "outputs": [],
   "source": [
    "w = rep(0, p + 1)\n",
    "dim(w) = c(p+1, 1)"
   ]
  },
  {
   "cell_type": "markdown",
   "metadata": {
    "deletable": true,
    "editable": true
   },
   "source": [
    "one step of gradient descent reads\n",
    " $$ w_{\\ell+1} = w_\\ell - \\tau_\\ell \\nabla E(w_\\ell). $$"
   ]
  },
  {
   "cell_type": "code",
   "execution_count": 10,
   "metadata": {
    "collapsed": false,
    "deletable": true,
    "editable": true
   },
   "outputs": [],
   "source": [
    "tau = .8 # here we are using a fixed tau\n",
    "w = w - tau * nablaE(w, AddBias(X), y)"
   ]
  },
  {
   "cell_type": "markdown",
   "metadata": {
    "deletable": true,
    "editable": true
   },
   "source": [
    "__Exercise 1__\n",
    "\n",
    "Implement a gradient descent\n",
    "$$ w_{\\ell+1} = w_\\ell - \\tau_\\ell \\nabla E(w_\\ell). $$\n",
    "Monitor the energy decay.\n",
    "Test different step size, and compare with the theory (in particular\n",
    "plot in log domain to illustrate the linear rate)."
   ]
  },
  {
   "cell_type": "code",
   "execution_count": 11,
   "metadata": {
    "collapsed": false,
    "deletable": true,
    "editable": true,
    "scrolled": true
   },
   "outputs": [],
   "source": [
    "## Insert your code here."
   ]
  },
  {
   "cell_type": "markdown",
   "metadata": {
    "deletable": true,
    "editable": true
   },
   "source": [
    "Generate a 2D grid of points."
   ]
  },
  {
   "cell_type": "code",
   "execution_count": 12,
   "metadata": {
    "collapsed": false,
    "deletable": true,
    "editable": true
   },
   "outputs": [],
   "source": [
    "q = 201\n",
    "tx = seq(min(X[,1]), max(X[,1]), length=q)\n",
    "ty = seq(min(X[,2]),max(X[,2]), length=q)\n",
    "B = as.vector(meshgrid(ty, tx)$X)\n",
    "A = as.vector(meshgrid(ty, tx)$Y)\n",
    "G = matrix(c(A, B), nrow=length(A), ncol=2)"
   ]
  },
  {
   "cell_type": "markdown",
   "metadata": {
    "deletable": true,
    "editable": true
   },
   "source": [
    "Evaluate class probability associated to weight vectors on this grid."
   ]
  },
  {
   "cell_type": "code",
   "execution_count": 13,
   "metadata": {
    "collapsed": false,
    "deletable": true,
    "editable": true
   },
   "outputs": [],
   "source": [
    "Theta = theta(AddBias(G) %*% w)\n",
    "dim(Theta) = c(q, q)"
   ]
  },
  {
   "cell_type": "markdown",
   "metadata": {
    "deletable": true,
    "editable": true
   },
   "source": [
    "Display the data overlaid on top of the\n",
    "classification probability, this highlight the\n",
    "separating hyperplane $ \\enscond{x}{\\dotp{w}{x}=0} $."
   ]
  },
  {
   "cell_type": "code",
   "execution_count": 14,
   "metadata": {
    "collapsed": false,
    "deletable": true,
    "editable": true
   },
   "outputs": [
    {
     "data": {
      "image/png": "[encoded data removed]",
      "text/plain": [
       "plot without title"
      ]
     },
     "metadata": {},
     "output_type": "display_data"
    }
   ],
   "source": [
    "image(tx,ty, Theta, xlab=\"\", ylab=\"\", col=cm.colors(10), xaxt=\"n\", yaxt=\"n\")\n",
    "par(new=TRUE)\n",
    "for (i in c(-1, 1))\n",
    "{\n",
    "    I = (y==i)\n",
    "    plot(X[I,1], X[I,2], col=(i + 3), xlim=c(min(X[,1]), max(X[,1])),  \n",
    "         ylim=c(min(X[,2]), max(X[,2])), xlab=\"\", ylab=\"\", pch=16)\n",
    "    par(new=TRUE)\n",
    "}\n",
    "\n",
    "cols = c(2,4)\n",
    "legend(\"topright\", legend=c(-1, 1), col=cols, pch=16)"
   ]
  },
  {
   "cell_type": "markdown",
   "metadata": {
    "deletable": true,
    "editable": true
   },
   "source": [
    "__Exercise 2__\n",
    "\n",
    "Test the influence of the separation offset $\\omega$ on the result."
   ]
  },
  {
   "cell_type": "code",
   "execution_count": 15,
   "metadata": {
    "collapsed": false,
    "deletable": true,
    "editable": true
   },
   "outputs": [],
   "source": [
    "## Insert your code here."
   ]
  },
  {
   "cell_type": "markdown",
   "metadata": {
    "deletable": true,
    "editable": true
   },
   "source": [
    "__Exercise 3__\n",
    "\n",
    "Test logistic classification on a real life dataset. You can look at the Numerical Tour on stochastic gradient descent\n",
    "for an example. Split the data in training and testing to evaluate the\n",
    "classification performance, and check the impact of regularization."
   ]
  },
  {
   "cell_type": "code",
   "execution_count": 16,
   "metadata": {
    "collapsed": false,
    "deletable": true,
    "editable": true
   },
   "outputs": [],
   "source": [
    "## Insert your code here."
   ]
  },
  {
   "cell_type": "markdown",
   "metadata": {
    "deletable": true,
    "editable": true
   },
   "source": [
    "Kernelized Logistic Classification\n",
    "----------------------------------\n",
    "Logistic classification tries to separate the classes using\n",
    "a linear separating hyperplane $ \\enscond{x}{\\dotp{w}{x}=0}. $\n",
    "\n",
    "\n",
    "In order to generate a non-linear descision boundary, one can replace the\n",
    "parametric linear model by a non-linear [non-parametric](https://en.wikipedia.org/wiki/Nonparametric_statistics) model, thanks to\n",
    "kernelization. It is non-parametric in the sense that the number of\n",
    "parameter grows with the number $n$ of sample (while for the basic\n",
    "method, the number of parameter is $p$. This allows in particular to\n",
    "generate decision boundary of arbitrary complexity.\n",
    "\n",
    "\n",
    "The downside is that the numerical complexity of the method grows\n",
    "(at least) quadratically with $n$.\n",
    "\n",
    "\n",
    "The good news however is that thanks to the theory of\n",
    " [reproducing kernel Hilbert spaces](https://en.wikipedia.org/wiki/Reproducing_kernel_Hilbert_space)\n",
    "(RKHS), one can still compute this non-linear decision\n",
    "function using (almost) the same numerical algorithm.\n",
    "\n",
    "\n",
    "Given a kernel $ \\kappa(x,z) \\in \\RR $ defined for $(x,z) \\in \\RR^p$,\n",
    "the kernelized method replace the linear decision functional $f(x) =\n",
    "\\dotp{x}{w}$ by a sum of kernel centered on the samples\n",
    "$$ f_h(x) = \\sum_{i=1}^p h_i k(x_i,x) $$\n",
    "where $h \\in \\RR^n$ is the unknown vector of weight to find.\n",
    "\n",
    "\n",
    "When using the linear kernel $\\kappa(x,y)=\\dotp{x}{y}$, one retrieves\n",
    "the previously studied linear method.\n",
    "\n",
    "\n",
    "Macro to compute pairwise squared Euclidean distance matrix."
   ]
  },
  {
   "cell_type": "code",
   "execution_count": 17,
   "metadata": {
    "collapsed": false,
    "deletable": true,
    "editable": true
   },
   "outputs": [],
   "source": [
    "distmat = function(X,Z)\n",
    "{\n",
    "    dist1 = diag(X %*% t(X))\n",
    "    dist2 = diag(Z %*% t(Z))\n",
    "    n1 = dim(X)[1]\n",
    "    n2 = dim(Z)[1]\n",
    "    out = matrix(0, n1, n2)\n",
    "    for (i in 1:n1)\n",
    "    {\n",
    "        for (j in 1:n2)\n",
    "        {\n",
    "            out[i,j] = dist1[i] + dist2[j]\n",
    "        }\n",
    "    }\n",
    "    out = out - 2 * X %*% t(Z)\n",
    "\n",
    "    return(out)\n",
    "}"
   ]
  },
  {
   "cell_type": "markdown",
   "metadata": {
    "deletable": true,
    "editable": true
   },
   "source": [
    "The gaussian kernel is the most well known and used kernel\n",
    "$$ \\kappa(x,y) \\eqdef e^{-\\frac{\\norm{x-y}^2}{2\\sigma^2}} . $$\n",
    "The bandwidth parameter $\\si>0$ is crucial and controls the locality of\n",
    "the model. It is typically tuned through cross validation."
   ]
  },
  {
   "cell_type": "code",
   "execution_count": 18,
   "metadata": {
    "collapsed": false,
    "deletable": true,
    "editable": true
   },
   "outputs": [],
   "source": [
    "kappa = function(X,Z,sigma){exp( -distmat(X,Z)/(2*sigma^2))}"
   ]
  },
  {
   "cell_type": "markdown",
   "metadata": {
    "deletable": true,
    "editable": true
   },
   "source": [
    "We generate synthetic data in 2-D which are not separable by an\n",
    "hyperplane."
   ]
  },
  {
   "cell_type": "code",
   "execution_count": 19,
   "metadata": {
    "collapsed": false,
    "deletable": true,
    "editable": true
   },
   "outputs": [],
   "source": [
    "n = 1000\n",
    "p = 2\n",
    "t = 2 * pi * rand(n/2,1)\n",
    "R = 2.5\n",
    "r = R * (1 + .2 * rand(n/2,1)) # radius\n",
    "X1 = cbind(cos(t) * r, sin(t) * r)\n",
    "X = rbind(randn(n/2, 2), X1)\n",
    "y = c(rep(1, n/2), rep(-1, n/2))"
   ]
  },
  {
   "cell_type": "markdown",
   "metadata": {
    "deletable": true,
    "editable": true
   },
   "source": [
    "Display the classes."
   ]
  },
  {
   "cell_type": "code",
   "execution_count": 20,
   "metadata": {
    "collapsed": false,
    "deletable": true,
    "editable": true,
    "scrolled": true
   },
   "outputs": [
    {
     "data": {
      "image/png": "[encoded data removed]",
      "text/plain": [
       "plot without title"
      ]
     },
     "metadata": {},
     "output_type": "display_data"
    }
   ],
   "source": [
    "options(repr.plot.width=5, repr.plot.height=5)\n",
    "\n",
    "for (i in c(-1, 1))\n",
    "{\n",
    "    I = (y==i)\n",
    "    plot(X[I,1], X[I,2], col=(i + 3), xlim=c(min(X[,1]), max(X[,1])),  \n",
    "         ylim=c(min(X[,2]), max(X[,2])), xlab=\"\", ylab=\"\", pch=16)\n",
    "    par(new=TRUE)\n",
    "}\n",
    "\n",
    "cols = c(2,4)\n",
    "legend(\"topright\", legend=c(-1, 1), col=cols, pch=16)"
   ]
  },
  {
   "cell_type": "markdown",
   "metadata": {
    "deletable": true,
    "editable": true
   },
   "source": [
    "Once avaluated on grid points, the kernel define a matrix\n",
    "$$ K = (\\kappa(x_i,x_j))_{i,j=1}^n \\in \\RR^{n \\times n}.  $$"
   ]
  },
  {
   "cell_type": "code",
   "execution_count": 21,
   "metadata": {
    "collapsed": false,
    "deletable": true,
    "editable": true
   },
   "outputs": [],
   "source": [
    "sigma = 1\n",
    "K = kappa(X, X, sigma)"
   ]
  },
  {
   "cell_type": "markdown",
   "metadata": {
    "deletable": true,
    "editable": true
   },
   "source": [
    "Valid kernels are those that gives rise to positive symmetric matrices\n",
    "$K$. The linear and Gaussian kernel are valid kernel functions. Other\n",
    "popular kernels include the polynomial kernel $ \\dotp{x}{y}^a $ for $a\n",
    "\\geq 1$ and the Laplacian kernel $ \\exp( -\\norm{x-y}^2/\\si ) $.\n",
    "\n",
    "\n",
    "The kernelized Logistic minimization reads\n",
    "  $$ \\umin{h} F(h) \\eqdef \\Ll(K h,y). $$"
   ]
  },
  {
   "cell_type": "code",
   "execution_count": 22,
   "metadata": {
    "collapsed": false,
    "deletable": true,
    "editable": true
   },
   "outputs": [],
   "source": [
    "F = function(h,K,y){L(K %*% h, y)}\n",
    "nablaF = function(h,K,y){t(K) %*% nablaL(K %*% h,y)}"
   ]
  },
  {
   "cell_type": "markdown",
   "metadata": {
    "deletable": true,
    "editable": true
   },
   "source": [
    "This minimization can be related to an infinite dimensional optimization\n",
    "problem where one minimizes directly over the function $f$. This\n",
    "is shown to be equivalent to the above finite-dimenisonal optimization problem\n",
    "thanks to the theory of RKHS."
   ]
  },
  {
   "cell_type": "markdown",
   "metadata": {
    "deletable": true,
    "editable": true
   },
   "source": [
    "__Exercise 4__\n",
    "\n",
    "Implement a gradient descent to minimize $F(h)$.\n",
    "Monitor the energy decay.\n",
    "Test different step size, and compare with the theory."
   ]
  },
  {
   "cell_type": "code",
   "execution_count": 23,
   "metadata": {
    "collapsed": false,
    "deletable": true,
    "editable": true,
    "scrolled": true
   },
   "outputs": [],
   "source": [
    "## Insert your code here."
   ]
  },
  {
   "cell_type": "markdown",
   "metadata": {
    "deletable": true,
    "editable": true
   },
   "source": [
    "Once this optimal $h$ has been found, class probability at a point\n",
    "$x$ are obtained as\n",
    "  $$ (\\th(f_h(x)), 1-\\th(f_h(x)) $$\n",
    "where $f_h$ has been defined above.\n",
    "\n",
    "\n",
    "We evaluate this classification probability on a grid."
   ]
  },
  {
   "cell_type": "code",
   "execution_count": null,
   "metadata": {
    "collapsed": false,
    "deletable": true,
    "editable": true
   },
   "outputs": [],
   "source": [
    "q = 201\n",
    "tmax = 3.5\n",
    "t = seq(-tmax, tmax, length=q)\n",
    "B = as.vector(meshgrid(t)$X)\n",
    "A = as.vector(meshgrid(t)$Y)\n",
    "G = matrix(c(A, B), nrow=length(A), ncol=2)\n",
    "Theta = theta(kappa(G,X,sigma) %*% h)\n",
    "dim(Theta) = c(q, q)"
   ]
  },
  {
   "cell_type": "markdown",
   "metadata": {
    "deletable": true,
    "editable": true
   },
   "source": [
    "Display the classification probability."
   ]
  },
  {
   "cell_type": "code",
   "execution_count": null,
   "metadata": {
    "collapsed": false,
    "deletable": true,
    "editable": true
   },
   "outputs": [],
   "source": [
    "image(t,t, Theta, xlab=\"\", ylab=\"\", col=cm.colors(10), xaxt=\"n\", yaxt=\"n\")\n",
    "par(new=TRUE)\n",
    "for (i in c(-1, 1))\n",
    "{\n",
    "    I = (y==i)\n",
    "    plot(X[I,1], X[I,2], col=(i + 3), xlim=c(min(X[,1]), max(X[,1])),  \n",
    "         ylim=c(min(X[,2]), max(X[,2])), xlab=\"\", ylab=\"\", pch=16)\n",
    "    par(new=TRUE)\n",
    "}\n",
    "\n",
    "cols = c(2,4)\n",
    "legend(\"topright\", legend=c(-1, 1), col=cols, pch=16)"
   ]
  },
  {
   "cell_type": "markdown",
   "metadata": {
    "deletable": true,
    "editable": true
   },
   "source": [
    "__Exercise 5__\n",
    "\n",
    "Display evolution of the classification probability with $\\sigma$"
   ]
  },
  {
   "cell_type": "code",
   "execution_count": null,
   "metadata": {
    "collapsed": false,
    "deletable": true,
    "editable": true
   },
   "outputs": [],
   "source": [
    "## Insert your code here."
   ]
  },
  {
   "cell_type": "markdown",
   "metadata": {
    "deletable": true,
    "editable": true
   },
   "source": [
    "__Exercise 6__\n",
    "\n",
    "Separate the dataset into a training set and a testing set. Evaluate the classification performance\n",
    "for varying $\\si$. Try to introduce regularization and minmize\n",
    "$$ \\umin{h} F(h) \\eqdef \\Ll(K h,y) + \\la R(h) $$\n",
    "where for instance $R=\\norm{\\cdot}_2^2$ or  $R=\\norm{\\cdot}_1$."
   ]
  },
  {
   "cell_type": "code",
   "execution_count": null,
   "metadata": {
    "collapsed": false,
    "deletable": true,
    "editable": true
   },
   "outputs": [],
   "source": [
    "## Insert your code here."
   ]
  },
  {
   "cell_type": "markdown",
   "metadata": {
    "deletable": true,
    "editable": true
   },
   "source": [
    "Multi-Classes Logistic Classification\n",
    "-------------------------------------\n",
    "The logistic classification method is extended to an arbitrary number\n",
    "$k$ of classes by considering a familly of weight vectors $ w_\\ell\n",
    "$, which are conveniently stored as columns of matrix $W \\in \\RR^{p \\times k}$.\n",
    "\n",
    "\n",
    "This allows to model probabilitically the belonging of a point $x \\in \\RR^p $ to a\n",
    "the classes using an exponential model\n",
    "  $$ h(x) = \\pa{ \\frac{ e^{-\\dotp{x}{w_\\ell}} }{ \\sum_m e^{-\\dotp{x}{w_m}} } }_\\ell $$\n",
    "This vector $h(x) \\in [0,1]^k $ describes the probability of $x$\n",
    "belonging to the different classes, and $ \\sum_\\ell h(x)_\\ell = 1 $.\n",
    "\n",
    "\n",
    "The computation of $w$ is obtained by solving a maximum likelihood\n",
    "estimator\n",
    "   $$ \\umax{w \\in \\RR^k} \\frac{1}{n} \\sum_{i=1}^n \\log( h(x_i)_{y_i} ) $$\n",
    "where we recall that $y_i \\in \\{1,\\ldots,k\\}$ is the class index of\n",
    "point $x_i$.\n",
    "\n",
    "\n",
    "This is conveniently rewritten as\n",
    "  $$ \\umin{w} \\sum_i \\text{LSE}( XW )_i - \\dotp{XW}{D} $$\n",
    "where $D \\in \\{0,1\\}^{n \\times k}$ is the binary class index matrices\n",
    "  $$  D_{i,\\ell} = \\choice{\n",
    "          1 \\qifq y_i=\\ell, \\\\\n",
    "          0 \\quad \\text{otherwise}.\n",
    "      }\n",
    "   $$\n",
    "and LSE is the log-sum-exp operator\n",
    "  $$ \\text{LSE}(S) = \\log\\pa{ \\sum_\\ell \\exp(S_{i,\\ell}) } \\in \\RR^n. $$"
   ]
  },
  {
   "cell_type": "code",
   "execution_count": null,
   "metadata": {
    "collapsed": false,
    "deletable": true,
    "editable": true
   },
   "outputs": [],
   "source": [
    "LSE0 = function(S){log(apply(exp(S), 1, sum))}"
   ]
  },
  {
   "cell_type": "markdown",
   "metadata": {
    "deletable": true,
    "editable": true
   },
   "source": [
    "The computation of LSE is\n",
    "unstable for large value of $S_{i,\\ell}$ (numerical overflow, producing NaN), but this can be\n",
    "fixed by substracting the largest element in each row,\n",
    "since $ \\text{LSE}(S+a)=\\text{LSE}(S)+a $ if $a$ is constant along rows. This is\n",
    "the [celebrated LSE trick](https://en.wikipedia.org/wiki/LogSumExp)."
   ]
  },
  {
   "cell_type": "code",
   "execution_count": null,
   "metadata": {
    "collapsed": false,
    "deletable": true,
    "editable": true
   },
   "outputs": [],
   "source": [
    "max2 = function(S){apply(S, 1, max)}\n",
    "LSE = function(S){LSE0(S - max2(S)) + max2(S)}"
   ]
  },
  {
   "cell_type": "markdown",
   "metadata": {
    "deletable": true,
    "editable": true
   },
   "source": [
    "The gradient of the LSE operator is the\n",
    "<https://en.wikipedia.org/wiki/Softmax_function soft-max operator>\n",
    "$$  \\nabla \\text{LSE}(S) = \\text{SM}(S) \\eqdef\n",
    "      \\pa{\n",
    "          \\frac{\n",
    "                  e^{S_{i,\\ell}}\n",
    "              }{\n",
    "                  \\sum_m e^{S_{i,m}}\n",
    "              } }   $$"
   ]
  },
  {
   "cell_type": "code",
   "execution_count": null,
   "metadata": {
    "collapsed": false,
    "deletable": true,
    "editable": true
   },
   "outputs": [],
   "source": [
    "SM0 = function(S){exp(S) / apply(exp(S), 1, sum)}"
   ]
  },
  {
   "cell_type": "markdown",
   "metadata": {
    "deletable": true,
    "editable": true
   },
   "source": [
    "Similarely to the LSE, it needs to be stabilized."
   ]
  },
  {
   "cell_type": "code",
   "execution_count": null,
   "metadata": {
    "collapsed": false,
    "deletable": true,
    "editable": true
   },
   "outputs": [],
   "source": [
    "SM = function(S){SM0(S-max2(S))}"
   ]
  },
  {
   "cell_type": "markdown",
   "metadata": {
    "deletable": true,
    "editable": true
   },
   "source": [
    "We load a dataset of $n$ images of size $p = 8 \\times 8$, representing digits from 0\n",
    "to 9 (so there are $k=10$ classes).\n",
    "\n",
    "\n",
    "Load the dataset and randomly permute it.\n",
    "Separate the features $X$ from the data $y$ to predict information."
   ]
  },
  {
   "cell_type": "code",
   "execution_count": null,
   "metadata": {
    "collapsed": false,
    "deletable": true,
    "editable": true
   },
   "outputs": [],
   "source": [
    "file_name = 'nt_toolbox/data/digits.csv'\n",
    "A = read.table(file_name, sep=\",\", head=FALSE)\n",
    "A = A[sample(dim(A)[1]),]\n",
    "X = as.matrix(A[,1:(dim(A)[2] - 1)])\n",
    "y = A[,dim(A)[2]]"
   ]
  },
  {
   "cell_type": "markdown",
   "metadata": {
    "deletable": true,
    "editable": true
   },
   "source": [
    "$n$ is the number of samples, $p$ is the dimensionality of the features, $k$\n",
    "the number of classes."
   ]
  },
  {
   "cell_type": "code",
   "execution_count": null,
   "metadata": {
    "collapsed": false,
    "deletable": true,
    "editable": true
   },
   "outputs": [],
   "source": [
    "n = dim(X)[1]\n",
    "p = dim(X)[2]\n",
    "CL = sort(unique(y)) # list of classes.\n",
    "k = length(CL)"
   ]
  },
  {
   "cell_type": "markdown",
   "metadata": {
    "deletable": true,
    "editable": true
   },
   "source": [
    "Display a few samples digits"
   ]
  },
  {
   "cell_type": "code",
   "execution_count": null,
   "metadata": {
    "collapsed": false,
    "deletable": true,
    "editable": true
   },
   "outputs": [],
   "source": [
    "options(repr.plot.width=6, repr.plot.height=6)\n",
    "par(mar = rep(2, 4))\n",
    "par(mfrow=c(k, 5))\n",
    "\n",
    "q = 5\n",
    "for (i in 1:k)\n",
    "{\n",
    "    I = which(y==CL[i])\n",
    "    for (j in 1:q)\n",
    "    {\n",
    "        \n",
    "        f = as.numeric(X[I[j],])\n",
    "        f = f / max(f)\n",
    "        dim(f) = c(sqrt(p), sqrt(p))\n",
    "        image(-f[,ncol(f):1], col=gray(c(0,1)), xaxt=\"n\", yaxt=\"n\", bty=\"n\")\n",
    "    }\n",
    "}"
   ]
  },
  {
   "cell_type": "markdown",
   "metadata": {
    "deletable": true,
    "editable": true
   },
   "source": [
    "Display in 2D."
   ]
  },
  {
   "cell_type": "code",
   "execution_count": null,
   "metadata": {
    "collapsed": false,
    "deletable": true,
    "editable": true
   },
   "outputs": [],
   "source": [
    "options(repr.plot.width=6, repr.plot.height=6)\n",
    "\n",
    "plot_multiclasses(X, y, 2)"
   ]
  },
  {
   "cell_type": "markdown",
   "metadata": {
    "deletable": true,
    "editable": true
   },
   "source": [
    "Display in 3D."
   ]
  },
  {
   "cell_type": "code",
   "execution_count": null,
   "metadata": {
    "collapsed": false,
    "deletable": true,
    "editable": true
   },
   "outputs": [],
   "source": [
    "plot_multiclasses(X,y, 3)"
   ]
  },
  {
   "cell_type": "markdown",
   "metadata": {
    "deletable": true,
    "editable": true
   },
   "source": [
    "Compute the $D$ matrix."
   ]
  },
  {
   "cell_type": "code",
   "execution_count": null,
   "metadata": {
    "collapsed": false,
    "deletable": true,
    "editable": true
   },
   "outputs": [],
   "source": [
    "D = matrix(0, nrow=n, ncol=k)\n",
    "for (i in 1:n)\n",
    "{\n",
    "    for (j in 1:k)\n",
    "    {\n",
    "        if (y[i] == (j - 1)){D[i, j] = 1}\n",
    "    }\n",
    "}"
   ]
  },
  {
   "cell_type": "markdown",
   "metadata": {
    "deletable": true,
    "editable": true
   },
   "source": [
    "Define the energy $E(W)$."
   ]
  },
  {
   "cell_type": "code",
   "execution_count": null,
   "metadata": {
    "collapsed": false,
    "deletable": true,
    "editable": true
   },
   "outputs": [],
   "source": [
    "E = function(W){(1./n) * (sum(LSE(X %*% W)) - (c(X %*% W) %*% c(D)))}"
   ]
  },
  {
   "cell_type": "markdown",
   "metadata": {
    "deletable": true,
    "editable": true
   },
   "source": [
    "Define its gradients\n",
    "  $$ \\nabla E(W) =  \\frac{1}{n} X^\\top ( \\text{SM}(X W) - D ).  $$"
   ]
  },
  {
   "cell_type": "code",
   "execution_count": null,
   "metadata": {
    "collapsed": false,
    "deletable": true,
    "editable": true
   },
   "outputs": [],
   "source": [
    "nablaE = function(W){1./n * t(X) %*% ( SM(X %*% W) -  D)}"
   ]
  },
  {
   "cell_type": "markdown",
   "metadata": {
    "deletable": true,
    "editable": true
   },
   "source": [
    "__Exercise 7__\n",
    "\n",
    "Implement a gradient descent\n",
    "$$ W_{\\ell+1} = W_\\ell - \\tau_\\ell \\nabla E(W_\\ell). $$\n",
    "Monitor the energy decay."
   ]
  },
  {
   "cell_type": "code",
   "execution_count": null,
   "metadata": {
    "collapsed": false,
    "deletable": true,
    "editable": true
   },
   "outputs": [],
   "source": [
    "## Insert your code here."
   ]
  },
  {
   "cell_type": "markdown",
   "metadata": {
    "deletable": true,
    "editable": true
   },
   "source": [
    "Generate a 2D grid of points over PCA space and map it to feature space."
   ]
  },
  {
   "cell_type": "code",
   "execution_count": null,
   "metadata": {
    "collapsed": false,
    "deletable": true,
    "editable": true
   },
   "outputs": [],
   "source": [
    "svd_decomp = svd(Xm(X))\n",
    "U = svd_decomp$u\n",
    "D = svd_decomp$d\n",
    "V = svd_decomp$v\n",
    "Z = Xm(X) %*% V\n",
    "M = max(abs(c(Z)))\n",
    "        \n",
    "q = 201\n",
    "t = seq(-M, M, length=q)\n",
    "B = as.vector(meshgrid(t, t)$X)\n",
    "A = as.vector(meshgrid(t, t)$Y)\n",
    "\n",
    "G = matrix(0, nrow=q*q, ncol=p)\n",
    "G[,1:2] = c(A, B)\n",
    "G = G %*% t(V) + matrix(rep(apply(X, 2, mean), q*q), nrow=q*q, ncol=dim(X)[2])"
   ]
  },
  {
   "cell_type": "markdown",
   "metadata": {
    "deletable": true,
    "editable": true
   },
   "source": [
    "Evaluate class probability associated to weight vectors on this grid."
   ]
  },
  {
   "cell_type": "code",
   "execution_count": null,
   "metadata": {
    "collapsed": false,
    "deletable": true,
    "editable": true
   },
   "outputs": [],
   "source": [
    "Theta = SM(G %*% W)\n",
    "dim(Theta) = c(q, q, k)"
   ]
  },
  {
   "cell_type": "markdown",
   "metadata": {
    "deletable": true,
    "editable": true
   },
   "source": [
    "Display each probablity map."
   ]
  },
  {
   "cell_type": "code",
   "execution_count": null,
   "metadata": {
    "collapsed": false,
    "deletable": true,
    "editable": true
   },
   "outputs": [],
   "source": [
    "par(mfrow=c(3, 4))\n",
    "\n",
    "for (i in 1:k)\n",
    "{\n",
    "    image(t(Theta[,,i]), main=paste(\"Class\", i), axes=FALSE)\n",
    "}"
   ]
  },
  {
   "cell_type": "markdown",
   "metadata": {
    "deletable": true,
    "editable": true
   },
   "source": [
    "Build a single color image of this map."
   ]
  },
  {
   "cell_type": "code",
   "execution_count": null,
   "metadata": {
    "collapsed": false,
    "deletable": true,
    "editable": true
   },
   "outputs": [],
   "source": [
    "plot_multiclasses_bis = function(X, Y, dim)\n",
    "{\n",
    "    \n",
    "    svd_decomp = svd(Xm(X))\n",
    "    U = svd_decomp$u\n",
    "    D = svd_decomp$d\n",
    "    V = svd_decomp$v\n",
    "    Z = Xm(X) %*% V\n",
    "    classes = sort(unique(y))\n",
    "    nb_classes = length(classes)\n",
    "\n",
    "    for (i in classes)\n",
    "    {\n",
    "        I = (y==i)\n",
    "        color = col[,i + 1]\n",
    "        plot(Z[I,1], Z[I,2], col=rgb(color[1], color[2], color[3]), xlim=c(min(Z[,1]), max(Z[,1])),  \n",
    "             ylim=c(min(Z[,2]), max(Z[,2])), xlab=\"\", ylab=\"\", pch=16)\n",
    "        par(new=TRUE)\n",
    "    }\n",
    "}"
   ]
  },
  {
   "cell_type": "code",
   "execution_count": null,
   "metadata": {
    "collapsed": false,
    "deletable": true,
    "editable": true
   },
   "outputs": [],
   "source": [
    "col = c(1, 0, 0, 0, 1, 0, 0, 0, 1, 0, 0, 0, 0, 1, 1, 1, 0, 1, 1, 1, 0, 1, .5, .5, .5, 1, .5, .5, .5, 1)\n",
    "col = matrix(col, nrow=3, ncol=k)\n",
    "\n",
    "R = array(0, dim=c(q,q,3))\n",
    "\n",
    "for (i in 1:k)\n",
    "{\n",
    "    for (a in 1:3)\n",
    "    {\n",
    "        R[,,a] = R[,,a] + Theta[,,i] * col[a,i]\n",
    "    }\n",
    "}"
   ]
  },
  {
   "cell_type": "markdown",
   "metadata": {
    "deletable": true,
    "editable": true
   },
   "source": [
    "Display."
   ]
  },
  {
   "cell_type": "code",
   "execution_count": null,
   "metadata": {
    "collapsed": false,
    "deletable": true,
    "editable": true
   },
   "outputs": [],
   "source": [
    "plot_multiclasses(X, y, 2)\n",
    "par(new=TRUE)\n",
    "grid.raster(aperm(R, c(2, 1, 3)), interpolate=FALSE)\n",
    "plot_multiclasses_bis(X, y, 2)"
   ]
  },
  {
   "cell_type": "markdown",
   "metadata": {
    "deletable": true,
    "editable": true
   },
   "source": [
    "__Exercise 8__\n",
    "\n",
    "Separate the dataset into a training set and a testing set. Evaluate the classification performance\n",
    "and display the confusion matrix. You can try the impact of kernlization and regularization."
   ]
  },
  {
   "cell_type": "code",
   "execution_count": null,
   "metadata": {
    "collapsed": false,
    "deletable": true,
    "editable": true
   },
   "outputs": [],
   "source": [
    "## Insert your code here."
   ]
  }
 ],
 "metadata": {
  "kernelspec": {
   "display_name": "R",
   "language": "R",
   "name": "ir"
  },
  "language_info": {
   "codemirror_mode": "r",
   "file_extension": ".r",
   "mimetype": "text/x-r-source",
   "name": "R",
   "pygments_lexer": "r",
   "version": "3.4.2"
  }
 },
 "nbformat": 4,
 "nbformat_minor": 0
}
